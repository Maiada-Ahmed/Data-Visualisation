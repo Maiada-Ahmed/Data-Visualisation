{
 "cells": [
  {
   "cell_type": "markdown",
   "metadata": {},
   "source": [
    "# MSc Data Science\n",
    "# DSM050 Data Visualisation Coureswork\n",
    "# Job Search During COVID-19 Survey"
   ]
  },
  {
   "cell_type": "markdown",
   "metadata": {},
   "source": [
    "# 1. Research Topic and Background\n",
    "## 1.1 Introduction\n",
    "\n",
    "Across almost all countries, the Covid-19 pandemic caused a significant impact on vital sectors, including the economy, health, tourism and others, due to lockdowns and spending restrictions. Given the unprecedented degree of change in the economic landscape, substantial employment losses have been observed globally while some sectors experienced growth. \n",
    "\n",
    "Recently, there has been an increasing interest to study job search behaviour during the pandemic, below are two recent examples:\n",
    "In one of the previous studies that addressed the impact of the covid crisis on job seekers, the authors analysed job vacancy postings and views on an online job website in Sweden. The paper concluded that there is a significant decline in the posts for new jobs by 40%. Moreover, there was a decrease in job seekers' search frequency. In addition, the search has changed in the direction of careers that were not affected by the pandemic (Hensvik, le Barbanchon and Rathelot, 2021).\n",
    "\n",
    "Another paper was conducted during the pandemic recession to study the job search behaviour of employed and unemployed individuals using a survey tool in mid-2020. Then, it was complemented by a long-term survey was running in the Netherlands between 2008 and 2019 to assess the impact prior to and during the recession. The findings show a clear difference in job search during the pandemic; for example, searching for a job was less than expected in unemployed compared to employed who seemed slightly more. Moreover, the pandemic period is crucial for the unemployed seeking a job (Balgova et al., 2021).\n",
    "\n",
    "This study focuses on the pandemic impact on job search with a particular focus on employed, self-employed and unemployed individuals looking for work. To help job seekers identify new opportunities and shift their careers with the most successful strategies. The objectives of this report can be summarised as:\n",
    "1. Investigate the effect of the COVID-19 pandemic on job opportunities.\n",
    "2. Identify the most effective strategies to land a job successfully. \n",
    "\n",
    "The principal findings of this research are:\n",
    "\n",
    "* Most of the employed respondents highlighted that they were already employed before the pandemic and more than half of the unemployed respondents reported that they lost their jobs and became unemployed before the pandemic.\n",
    "\n",
    "* Generally, Africa has the highest percentage in employment, while Europe shows the highest percentage of slef-employed.\n",
    "\n",
    "* The employed respondents were the least to be impacted negatively due to the Covid-19 outbreak. \n",
    "\n",
    "* The career websites are now becoming the primary source for job seekers.\n",
    "\n",
    "\n",
    "## 1.2 Research Questions\n",
    "\n",
    "In this paper, the study conducted in populations of eemployed and unemployed individuals. The questionnaire was designed using an online survey tool and then distributed among UoL students, relatives and friends. Following that, a random sample of 132 individuals responded to the questions. The questionnaire was structured to answer the following four key questions:\n",
    "\n",
    "1. What individuals were the most impacted due to covid-19?\n",
    "2. What were the most successful strategies/resources?\n",
    "3. At what time did people lose/ get new jobs?\n",
    "4. What is the status of employment in each country/continent?\n",
    "\n",
    "    \n",
    "## 1.3 Domain Concepts\n",
    "\n",
    "* The Covid-19 is an infectious disease which stand for the new coronavirus, the main cause is severe acute respiratory syndrome coronavirus 2 (SARS-CoV-2)\n",
    "* In the survey questions, one of the resources method is a \"career website\" which refers to job sites/board and designed for people seeking for jobs such as (LinkedIn, Indeed, etc.)."
   ]
  },
  {
   "cell_type": "markdown",
   "metadata": {},
   "source": [
    "# 2. Survey Design\n",
    "\n",
    "## Survey Structure, Questions Justification\n",
    "\n",
    "The survey was conducted using JISC online, a platform provided by UoL. It was a descriptive study targeting employed and unemployed individuals globally. The survey consisted of 12 close-ended questions divided into three pages. Questions were designed to transition from general to specific questions to achieve a higher response from the respondents. The survey started with an introduction and a brief about data protection/privacy. On the second page, gathering demographic information allows a better understanding of the respondents' key characteristics. In addition, The essential question was focusing on the employment status to identify the key groups within the audience by enabling us to split the respondents into three main groups (employed, unemployed and self-employed).\n",
    "\n",
    "Notably, questions about job search are addressed to both employed and self-employed and unemployed respondents. However, since it was expected different determinants of job search for the unemployed, this group was analysed separately. In addition, the employment/unemployment period was considered a sensitive question; to respect the respondent's privacy, an option of \"prefer no to say\" was added. \n",
    "\n",
    "The third page contains the main questions that were chosen carefully in line with the study objectives. The key questions were around the period of employment/unemployment, and it was considered as a sensitive question; in order to respect respondent's privacy, an option of \"prefer no to say\" was added. The respondents were asked to select which resources they depend on the most and what form of networking is preferred; these allowed more understanding of strategies used by employed during the pandemic; thus, giving an insight into how successful people get a job. Following that, questions related to the effect of covid-19 indicate whether the pandemic had affected the employment status and if it posed any constraints on the job search opportunities. \n",
    "\n",
    "In the final part of the survey, a series of questions using a 5-point Likert scale to get a comprehensive understanding of people's opinions on various statements about job search.\n"
   ]
  },
  {
   "cell_type": "markdown",
   "metadata": {},
   "source": [
    "# 3. Data Overview and Pre-processing"
   ]
  },
  {
   "cell_type": "code",
   "execution_count": 3,
   "metadata": {
    "collapsed": true,
    "jupyter": {
     "outputs_hidden": true
    },
    "tags": []
   },
   "outputs": [
    {
     "name": "stdout",
     "output_type": "stream",
     "text": [
      "Requirement already satisfied: matplotlib in c:\\users\\maiad\\anaconda3\\lib\\site-packages (3.3.2)\n",
      "Requirement already satisfied: python-dateutil>=2.1 in c:\\users\\maiad\\anaconda3\\lib\\site-packages (from matplotlib) (2.8.1)\n",
      "Requirement already satisfied: numpy>=1.15 in c:\\users\\maiad\\anaconda3\\lib\\site-packages (from matplotlib) (1.19.2)\n",
      "Requirement already satisfied: kiwisolver>=1.0.1 in c:\\users\\maiad\\anaconda3\\lib\\site-packages (from matplotlib) (1.3.0)\n",
      "Requirement already satisfied: certifi>=2020.06.20 in c:\\users\\maiad\\anaconda3\\lib\\site-packages (from matplotlib) (2020.6.20)\n",
      "Requirement already satisfied: cycler>=0.10 in c:\\users\\maiad\\anaconda3\\lib\\site-packages (from matplotlib) (0.10.0)\n",
      "Requirement already satisfied: pillow>=6.2.0 in c:\\users\\maiad\\anaconda3\\lib\\site-packages (from matplotlib) (8.0.1)\n",
      "Requirement already satisfied: pyparsing!=2.0.4,!=2.1.2,!=2.1.6,>=2.0.3 in c:\\users\\maiad\\anaconda3\\lib\\site-packages (from matplotlib) (2.4.7)\n",
      "Requirement already satisfied: six>=1.5 in c:\\users\\maiad\\anaconda3\\lib\\site-packages (from python-dateutil>=2.1->matplotlib) (1.15.0)\n",
      "Note: you may need to restart the kernel to use updated packages.\n",
      "Requirement already satisfied: numpy in c:\\users\\maiad\\anaconda3\\lib\\site-packages (1.19.2)\n",
      "Note: you may need to restart the kernel to use updated packages.\n",
      "Requirement already satisfied: pandas in c:\\users\\maiad\\anaconda3\\lib\\site-packages (1.1.3)\n",
      "Requirement already satisfied: pytz>=2017.2 in c:\\users\\maiad\\anaconda3\\lib\\site-packages (from pandas) (2020.1)\n",
      "Requirement already satisfied: numpy>=1.15.4 in c:\\users\\maiad\\anaconda3\\lib\\site-packages (from pandas) (1.19.2)\n",
      "Requirement already satisfied: python-dateutil>=2.7.3 in c:\\users\\maiad\\anaconda3\\lib\\site-packages (from pandas) (2.8.1)\n",
      "Requirement already satisfied: six>=1.5 in c:\\users\\maiad\\anaconda3\\lib\\site-packages (from python-dateutil>=2.7.3->pandas) (1.15.0)\n",
      "Note: you may need to restart the kernel to use updated packages.\n",
      "Requirement already satisfied: seaborn in c:\\users\\maiad\\anaconda3\\lib\\site-packages (0.11.0)\n",
      "Requirement already satisfied: matplotlib>=2.2 in c:\\users\\maiad\\anaconda3\\lib\\site-packages (from seaborn) (3.3.2)\n",
      "Requirement already satisfied: pandas>=0.23 in c:\\users\\maiad\\anaconda3\\lib\\site-packages (from seaborn) (1.1.3)\n",
      "Requirement already satisfied: scipy>=1.0 in c:\\users\\maiad\\anaconda3\\lib\\site-packages (from seaborn) (1.5.2)\n",
      "Requirement already satisfied: numpy>=1.15 in c:\\users\\maiad\\anaconda3\\lib\\site-packages (from seaborn) (1.19.2)\n",
      "Requirement already satisfied: python-dateutil>=2.1 in c:\\users\\maiad\\anaconda3\\lib\\site-packages (from matplotlib>=2.2->seaborn) (2.8.1)\n",
      "Requirement already satisfied: certifi>=2020.06.20 in c:\\users\\maiad\\anaconda3\\lib\\site-packages (from matplotlib>=2.2->seaborn) (2020.6.20)\n",
      "Requirement already satisfied: pyparsing!=2.0.4,!=2.1.2,!=2.1.6,>=2.0.3 in c:\\users\\maiad\\anaconda3\\lib\\site-packages (from matplotlib>=2.2->seaborn) (2.4.7)\n",
      "Requirement already satisfied: pillow>=6.2.0 in c:\\users\\maiad\\anaconda3\\lib\\site-packages (from matplotlib>=2.2->seaborn) (8.0.1)\n",
      "Requirement already satisfied: kiwisolver>=1.0.1 in c:\\users\\maiad\\anaconda3\\lib\\site-packages (from matplotlib>=2.2->seaborn) (1.3.0)\n",
      "Requirement already satisfied: cycler>=0.10 in c:\\users\\maiad\\anaconda3\\lib\\site-packages (from matplotlib>=2.2->seaborn) (0.10.0)\n",
      "Requirement already satisfied: pytz>=2017.2 in c:\\users\\maiad\\anaconda3\\lib\\site-packages (from pandas>=0.23->seaborn) (2020.1)\n",
      "Requirement already satisfied: six>=1.5 in c:\\users\\maiad\\anaconda3\\lib\\site-packages (from python-dateutil>=2.1->matplotlib>=2.2->seaborn) (1.15.0)\n",
      "Note: you may need to restart the kernel to use updated packages.\n",
      "Requirement already satisfied: IPython in c:\\users\\maiad\\anaconda3\\lib\\site-packages (7.19.0)\n",
      "Requirement already satisfied: traitlets>=4.2 in c:\\users\\maiad\\anaconda3\\lib\\site-packages (from IPython) (5.0.5)\n",
      "Requirement already satisfied: jedi>=0.10 in c:\\users\\maiad\\anaconda3\\lib\\site-packages (from IPython) (0.17.1)\n",
      "Requirement already satisfied: pygments in c:\\users\\maiad\\anaconda3\\lib\\site-packages (from IPython) (2.7.2)\n",
      "Requirement already satisfied: backcall in c:\\users\\maiad\\anaconda3\\lib\\site-packages (from IPython) (0.2.0)\n",
      "Requirement already satisfied: colorama; sys_platform == \"win32\" in c:\\users\\maiad\\anaconda3\\lib\\site-packages (from IPython) (0.4.4)\n",
      "Requirement already satisfied: setuptools>=18.5 in c:\\users\\maiad\\anaconda3\\lib\\site-packages (from IPython) (50.3.1.post20201107)\n",
      "Requirement already satisfied: prompt-toolkit!=3.0.0,!=3.0.1,<3.1.0,>=2.0.0 in c:\\users\\maiad\\anaconda3\\lib\\site-packages (from IPython) (3.0.8)\n",
      "Requirement already satisfied: pickleshare in c:\\users\\maiad\\anaconda3\\lib\\site-packages (from IPython) (0.7.5)\n",
      "Requirement already satisfied: decorator in c:\\users\\maiad\\anaconda3\\lib\\site-packages (from IPython) (4.4.2)\n",
      "Requirement already satisfied: ipython-genutils in c:\\users\\maiad\\anaconda3\\lib\\site-packages (from traitlets>=4.2->IPython) (0.2.0)\n",
      "Requirement already satisfied: parso<0.8.0,>=0.7.0 in c:\\users\\maiad\\anaconda3\\lib\\site-packages (from jedi>=0.10->IPython) (0.7.0)\n",
      "Requirement already satisfied: wcwidth in c:\\users\\maiad\\anaconda3\\lib\\site-packages (from prompt-toolkit!=3.0.0,!=3.0.1,<3.1.0,>=2.0.0->IPython) (0.2.5)\n",
      "Note: you may need to restart the kernel to use updated packages.\n",
      "Requirement already satisfied: plotly==4.14.3 in c:\\users\\maiad\\anaconda3\\lib\\site-packages (4.14.3)Note: you may need to restart the kernel to use updated packages.\n",
      "Requirement already satisfied: retrying>=1.3.3 in c:\\users\\maiad\\anaconda3\\lib\\site-packages (from plotly==4.14.3) (1.3.3)\n",
      "Requirement already satisfied: six in c:\\users\\maiad\\anaconda3\\lib\\site-packages (from plotly==4.14.3) (1.15.0)\n",
      "\n",
      "Requirement already satisfied: pycountry-convert in c:\\users\\maiad\\anaconda3\\lib\\site-packages (0.7.2)\n",
      "Requirement already satisfied: repoze.lru>=0.7 in c:\\users\\maiad\\anaconda3\\lib\\site-packages (from pycountry-convert) (0.7)\n",
      "Requirement already satisfied: pycountry>=16.11.27.1 in c:\\users\\maiad\\anaconda3\\lib\\site-packages (from pycountry-convert) (20.7.3)\n",
      "Requirement already satisfied: pytest-mock>=1.6.3 in c:\\users\\maiad\\anaconda3\\lib\\site-packages (from pycountry-convert) (3.6.1)\n",
      "Requirement already satisfied: pytest-cov>=2.5.1 in c:\\users\\maiad\\anaconda3\\lib\\site-packages (from pycountry-convert) (2.12.1)\n",
      "Requirement already satisfied: pytest>=3.4.0 in c:\\users\\maiad\\anaconda3\\lib\\site-packages (from pycountry-convert) (6.2.4)\n",
      "Requirement already satisfied: pprintpp>=0.3.0 in c:\\users\\maiad\\anaconda3\\lib\\site-packages (from pycountry-convert) (0.4.0)\n",
      "Requirement already satisfied: wheel>=0.30.0 in c:\\users\\maiad\\anaconda3\\lib\\site-packages (from pycountry-convert) (0.35.1)\n",
      "Requirement already satisfied: coverage>=5.2.1 in c:\\users\\maiad\\anaconda3\\lib\\site-packages (from pytest-cov>=2.5.1->pycountry-convert) (5.5)\n",
      "Requirement already satisfied: toml in c:\\users\\maiad\\anaconda3\\lib\\site-packages (from pytest-cov>=2.5.1->pycountry-convert) (0.10.1)\n",
      "Requirement already satisfied: atomicwrites>=1.0; sys_platform == \"win32\" in c:\\users\\maiad\\anaconda3\\lib\\site-packages (from pytest>=3.4.0->pycountry-convert) (1.4.0)\n",
      "Requirement already satisfied: colorama; sys_platform == \"win32\" in c:\\users\\maiad\\anaconda3\\lib\\site-packages (from pytest>=3.4.0->pycountry-convert) (0.4.4)\n",
      "Requirement already satisfied: iniconfig in c:\\users\\maiad\\anaconda3\\lib\\site-packages (from pytest>=3.4.0->pycountry-convert) (1.1.1)\n",
      "Requirement already satisfied: py>=1.8.2 in c:\\users\\maiad\\anaconda3\\lib\\site-packages (from pytest>=3.4.0->pycountry-convert) (1.9.0)\n",
      "Requirement already satisfied: attrs>=19.2.0 in c:\\users\\maiad\\anaconda3\\lib\\site-packages (from pytest>=3.4.0->pycountry-convert) (20.3.0)\n",
      "Requirement already satisfied: pluggy<1.0.0a1,>=0.12 in c:\\users\\maiad\\anaconda3\\lib\\site-packages (from pytest>=3.4.0->pycountry-convert) (0.13.1)\n",
      "Requirement already satisfied: packaging in c:\\users\\maiad\\anaconda3\\lib\\site-packages (from pytest>=3.4.0->pycountry-convert) (20.4)\n",
      "Requirement already satisfied: six in c:\\users\\maiad\\anaconda3\\lib\\site-packages (from packaging->pytest>=3.4.0->pycountry-convert) (1.15.0)\n",
      "Requirement already satisfied: pyparsing>=2.0.2 in c:\\users\\maiad\\anaconda3\\lib\\site-packages (from packaging->pytest>=3.4.0->pycountry-convert) (2.4.7)\n",
      "Note: you may need to restart the kernel to use updated packages.\n",
      "Requirement already satisfied: geopy in c:\\users\\maiad\\anaconda3\\lib\\site-packages (2.1.0)\n",
      "Requirement already satisfied: geographiclib<2,>=1.49 in c:\\users\\maiad\\anaconda3\\lib\\site-packages (from geopy) (1.50)\n",
      "Note: you may need to restart the kernel to use updated packages.\n",
      "Requirement already satisfied: folium in c:\\users\\maiad\\anaconda3\\lib\\site-packages (0.12.1)\n",
      "Requirement already satisfied: numpy in c:\\users\\maiad\\anaconda3\\lib\\site-packages (from folium) (1.19.2)\n",
      "Requirement already satisfied: branca>=0.3.0 in c:\\users\\maiad\\anaconda3\\lib\\site-packages (from folium) (0.4.2)\n",
      "Requirement already satisfied: requests in c:\\users\\maiad\\anaconda3\\lib\\site-packages (from folium) (2.24.0)\n",
      "Requirement already satisfied: jinja2>=2.9 in c:\\users\\maiad\\anaconda3\\lib\\site-packages (from folium) (2.11.2)\n",
      "Requirement already satisfied: certifi>=2017.4.17 in c:\\users\\maiad\\anaconda3\\lib\\site-packages (from requests->folium) (2020.6.20)\n",
      "Requirement already satisfied: urllib3!=1.25.0,!=1.25.1,<1.26,>=1.21.1 in c:\\users\\maiad\\anaconda3\\lib\\site-packages (from requests->folium) (1.25.11)\n",
      "Requirement already satisfied: chardet<4,>=3.0.2 in c:\\users\\maiad\\anaconda3\\lib\\site-packages (from requests->folium) (3.0.4)\n",
      "Requirement already satisfied: idna<3,>=2.5 in c:\\users\\maiad\\anaconda3\\lib\\site-packages (from requests->folium) (2.10)\n",
      "Requirement already satisfied: MarkupSafe>=0.23 in c:\\users\\maiad\\anaconda3\\lib\\site-packages (from jinja2>=2.9->folium) (1.1.1)\n",
      "Note: you may need to restart the kernel to use updated packages.\n",
      "Requirement already satisfied: plot-likert in c:\\users\\maiad\\anaconda3\\lib\\site-packages (0.3.5)Note: you may need to restart the kernel to use updated packages.\n",
      "Requirement already satisfied: matplotlib in c:\\users\\maiad\\anaconda3\\lib\\site-packages (from plot-likert) (3.3.2)\n",
      "Requirement already satisfied: pandas in c:\\users\\maiad\\anaconda3\\lib\\site-packages (from plot-likert) (1.1.3)\n",
      "Requirement already satisfied: numpy in c:\\users\\maiad\\anaconda3\\lib\\site-packages (from plot-likert) (1.19.2)\n",
      "Requirement already satisfied: pillow>=6.2.0 in c:\\users\\maiad\\anaconda3\\lib\\site-packages (from matplotlib->plot-likert) (8.0.1)\n",
      "Requirement already satisfied: certifi>=2020.06.20 in c:\\users\\maiad\\anaconda3\\lib\\site-packages (from matplotlib->plot-likert) (2020.6.20)\n",
      "Requirement already satisfied: python-dateutil>=2.1 in c:\\users\\maiad\\anaconda3\\lib\\site-packages (from matplotlib->plot-likert) (2.8.1)\n",
      "Requirement already satisfied: pyparsing!=2.0.4,!=2.1.2,!=2.1.6,>=2.0.3 in c:\\users\\maiad\\anaconda3\\lib\\site-packages (from matplotlib->plot-likert) (2.4.7)\n",
      "Requirement already satisfied: cycler>=0.10 in c:\\users\\maiad\\anaconda3\\lib\\site-packages (from matplotlib->plot-likert) (0.10.0)\n",
      "Requirement already satisfied: kiwisolver>=1.0.1 in c:\\users\\maiad\\anaconda3\\lib\\site-packages (from matplotlib->plot-likert) (1.3.0)\n",
      "Requirement already satisfied: pytz>=2017.2 in c:\\users\\maiad\\anaconda3\\lib\\site-packages (from pandas->plot-likert) (2020.1)\n",
      "Requirement already satisfied: six>=1.5 in c:\\users\\maiad\\anaconda3\\lib\\site-packages (from python-dateutil>=2.1->matplotlib->plot-likert) (1.15.0)\n",
      "\n"
     ]
    }
   ],
   "source": [
    "# install packages\n",
    "%pip install matplotlib\n",
    "%pip install numpy\n",
    "%pip install pandas\n",
    "%pip install seaborn\n",
    "%pip install IPython\n",
    "%pip install plotly==4.14.3\n",
    "%pip install pycountry-convert\n",
    "%pip install geopy\n",
    "%pip install folium\n",
    "%pip install plot-likert"
   ]
  },
  {
   "cell_type": "code",
   "execution_count": 4,
   "metadata": {},
   "outputs": [],
   "source": [
    "%matplotlib inline"
   ]
  },
  {
   "cell_type": "code",
   "execution_count": 5,
   "metadata": {
    "collapsed": true,
    "jupyter": {
     "outputs_hidden": true
    },
    "tags": []
   },
   "outputs": [
    {
     "name": "stdout",
     "output_type": "stream",
     "text": [
      "Collecting package metadata (current_repodata.json): ...working... done\n",
      "Solving environment: ...working... done\n",
      "\n",
      "# All requested packages already installed.\n",
      "\n",
      "\n",
      "Note: you may need to restart the kernel to use updated packages.\n"
     ]
    }
   ],
   "source": [
    "conda install -c conda-forge dataprep"
   ]
  },
  {
   "cell_type": "code",
   "execution_count": 1,
   "metadata": {},
   "outputs": [],
   "source": [
    "# import packages\n",
    "import numpy as np\n",
    "import pandas as pd\n",
    "import matplotlib as mpl\n",
    "import matplotlib.pyplot as plt\n",
    "import seaborn as sns\n",
    "import folium\n",
    "from folium.plugins import MarkerCluster\n",
    "import pycountry_convert as pc\n",
    "from geopy.geocoders import Nominatim\n",
    "import plot_likert"
   ]
  },
  {
   "cell_type": "markdown",
   "metadata": {},
   "source": [
    "> The survey was distributed randomly among various people with different backgrounds, education, and residence country. However, the sample is restricted to employed and unemployed individuals aged 18 and above. The total number of respondents who completed the survey was 132, along with 21 features before dropping any unnecessary columns.\n",
    "\n",
    "> The survey results have been saved locally in a CSV file and then accessed through the read file command in python (pandas data frame). When the CSV file is imported, a df variable is assigned to the CSV data for future reference. The total number of respondents who completed the survey was 132, along with 21 features. Next, 4 of these columns will be dropped which are (nique Response Number, To what extent do you agree or disagree with the following statements?, StartDate and CompletionDate) as it's a general information.\n",
    "\n",
    "\n",
    "> * The old and new columns name are available as appendices, in case any confusion happened after renaming the columns"
   ]
  },
  {
   "cell_type": "code",
   "execution_count": 2,
   "metadata": {},
   "outputs": [
    {
     "data": {
      "text/html": [
       "<div>\n",
       "<style scoped>\n",
       "    .dataframe tbody tr th:only-of-type {\n",
       "        vertical-align: middle;\n",
       "    }\n",
       "\n",
       "    .dataframe tbody tr th {\n",
       "        vertical-align: top;\n",
       "    }\n",
       "\n",
       "    .dataframe thead th {\n",
       "        text-align: right;\n",
       "    }\n",
       "</style>\n",
       "<table border=\"1\" class=\"dataframe\">\n",
       "  <thead>\n",
       "    <tr style=\"text-align: right;\">\n",
       "      <th></th>\n",
       "      <th>gender</th>\n",
       "      <th>age</th>\n",
       "      <th>country</th>\n",
       "      <th>education</th>\n",
       "      <th>emp_status</th>\n",
       "      <th>emp_period</th>\n",
       "      <th>unemp_period</th>\n",
       "      <th>resources</th>\n",
       "      <th>network_methods</th>\n",
       "      <th>pandemic_impact</th>\n",
       "      <th>job_constraints</th>\n",
       "      <th>behavior_change</th>\n",
       "      <th>self_emp_impact</th>\n",
       "      <th>women_affect</th>\n",
       "      <th>time_plan</th>\n",
       "      <th>networking</th>\n",
       "      <th>EaseOfJob</th>\n",
       "    </tr>\n",
       "  </thead>\n",
       "  <tbody>\n",
       "    <tr>\n",
       "      <th>0</th>\n",
       "      <td>Female</td>\n",
       "      <td>25 to 34</td>\n",
       "      <td>Bahrain</td>\n",
       "      <td>Master’s degree</td>\n",
       "      <td>Unemployed- Not looking for work</td>\n",
       "      <td>NaN</td>\n",
       "      <td>Before Covid-19 pandemic</td>\n",
       "      <td>Networking,Social media,Career websites (e.g.,...</td>\n",
       "      <td>Discussion groups/ forums,Social media,Career ...</td>\n",
       "      <td>Other</td>\n",
       "      <td>Lockdown</td>\n",
       "      <td>Agree</td>\n",
       "      <td>Strongly agree</td>\n",
       "      <td>Strongly agree</td>\n",
       "      <td>Disagree</td>\n",
       "      <td>Agree</td>\n",
       "      <td>Strongly disagree</td>\n",
       "    </tr>\n",
       "    <tr>\n",
       "      <th>1</th>\n",
       "      <td>Female</td>\n",
       "      <td>25 to 34</td>\n",
       "      <td>United Arab Emirates</td>\n",
       "      <td>Master’s degree</td>\n",
       "      <td>Employed</td>\n",
       "      <td>During Covid-19 pandemic</td>\n",
       "      <td>During Covid-19 pandemic</td>\n",
       "      <td>Social media,Career websites (e.g., LinkedIn, ...</td>\n",
       "      <td>Career websites</td>\n",
       "      <td>Salary reduction</td>\n",
       "      <td>Lockdown,Infection risk</td>\n",
       "      <td>Strongly agree</td>\n",
       "      <td>Agree</td>\n",
       "      <td>Agree</td>\n",
       "      <td>Strongly agree</td>\n",
       "      <td>Agree</td>\n",
       "      <td>Neither agree nor disagree</td>\n",
       "    </tr>\n",
       "    <tr>\n",
       "      <th>2</th>\n",
       "      <td>Female</td>\n",
       "      <td>25 to 34</td>\n",
       "      <td>United States</td>\n",
       "      <td>High school or below</td>\n",
       "      <td>Unemployed- Looking for work</td>\n",
       "      <td>During Covid-19 pandemic</td>\n",
       "      <td>During Covid-19 pandemic</td>\n",
       "      <td>Friends/ Colleagues,Recruitment agencies,Socia...</td>\n",
       "      <td>Friends/ colleagues,Social media,Career websites</td>\n",
       "      <td>Resigned</td>\n",
       "      <td>Family commitment</td>\n",
       "      <td>Agree</td>\n",
       "      <td>Strongly agree</td>\n",
       "      <td>Disagree</td>\n",
       "      <td>Neither agree nor disagree</td>\n",
       "      <td>Agree</td>\n",
       "      <td>Neither agree nor disagree</td>\n",
       "    </tr>\n",
       "    <tr>\n",
       "      <th>3</th>\n",
       "      <td>Female</td>\n",
       "      <td>35 to 44</td>\n",
       "      <td>United Kingdom</td>\n",
       "      <td>Bachelor’s degree</td>\n",
       "      <td>Student</td>\n",
       "      <td>NaN</td>\n",
       "      <td>Before Covid-19 pandemic</td>\n",
       "      <td>Recruitment agencies</td>\n",
       "      <td>Career websites</td>\n",
       "      <td>No impact</td>\n",
       "      <td>Lockdown</td>\n",
       "      <td>Agree</td>\n",
       "      <td>Strongly agree</td>\n",
       "      <td>Agree</td>\n",
       "      <td>Agree</td>\n",
       "      <td>Agree</td>\n",
       "      <td>Strongly disagree</td>\n",
       "    </tr>\n",
       "    <tr>\n",
       "      <th>4</th>\n",
       "      <td>Female</td>\n",
       "      <td>35 to 44</td>\n",
       "      <td>United States</td>\n",
       "      <td>Master’s degree</td>\n",
       "      <td>Employed</td>\n",
       "      <td>During Covid-19 pandemic</td>\n",
       "      <td>NaN</td>\n",
       "      <td>Friends/ Colleagues,Recruitment agencies,Caree...</td>\n",
       "      <td>Friends/ colleagues,Professional associations,...</td>\n",
       "      <td>Other</td>\n",
       "      <td>Lockdown,Family commitment,Infection risk,Unkn...</td>\n",
       "      <td>Agree</td>\n",
       "      <td>Agree</td>\n",
       "      <td>Disagree</td>\n",
       "      <td>Neither agree nor disagree</td>\n",
       "      <td>Agree</td>\n",
       "      <td>Agree</td>\n",
       "    </tr>\n",
       "    <tr>\n",
       "      <th>127</th>\n",
       "      <td>Male</td>\n",
       "      <td>35 to 44</td>\n",
       "      <td>Hungary</td>\n",
       "      <td>Bachelor’s degree</td>\n",
       "      <td>Employed</td>\n",
       "      <td>Before Covid-19 pandemic</td>\n",
       "      <td>NaN</td>\n",
       "      <td>Networking,Newspapers,Recruitment agencies,Car...</td>\n",
       "      <td>Professional associations,Career websites</td>\n",
       "      <td>No impact</td>\n",
       "      <td>Infection risk,Unknown duration of the pandemic</td>\n",
       "      <td>Disagree</td>\n",
       "      <td>Neither agree nor disagree</td>\n",
       "      <td>Neither agree nor disagree</td>\n",
       "      <td>Agree</td>\n",
       "      <td>Neither agree nor disagree</td>\n",
       "      <td>Neither agree nor disagree</td>\n",
       "    </tr>\n",
       "    <tr>\n",
       "      <th>128</th>\n",
       "      <td>Male</td>\n",
       "      <td>35 to 44</td>\n",
       "      <td>United Kingdom</td>\n",
       "      <td>Master’s degree</td>\n",
       "      <td>Employed</td>\n",
       "      <td>Before Covid-19 pandemic</td>\n",
       "      <td>Before Covid-19 pandemic</td>\n",
       "      <td>Career websites (e.g., LinkedIn, Indeed, ...)</td>\n",
       "      <td>Career websites</td>\n",
       "      <td>Other</td>\n",
       "      <td>Lockdown,Infection risk,Internet limitations</td>\n",
       "      <td>Agree</td>\n",
       "      <td>Neither agree nor disagree</td>\n",
       "      <td>Agree</td>\n",
       "      <td>Neither agree nor disagree</td>\n",
       "      <td>Disagree</td>\n",
       "      <td>Neither agree nor disagree</td>\n",
       "    </tr>\n",
       "    <tr>\n",
       "      <th>129</th>\n",
       "      <td>Male</td>\n",
       "      <td>45 to 54</td>\n",
       "      <td>Singapore</td>\n",
       "      <td>Bachelor’s degree</td>\n",
       "      <td>Employed</td>\n",
       "      <td>Before Covid-19 pandemic</td>\n",
       "      <td>NaN</td>\n",
       "      <td>Friends/ Colleagues,Networking,Recruitment age...</td>\n",
       "      <td>Friends/ colleagues,Career websites</td>\n",
       "      <td>No impact</td>\n",
       "      <td>Lockdown,Working from home situation</td>\n",
       "      <td>Agree</td>\n",
       "      <td>Neither agree nor disagree</td>\n",
       "      <td>Agree</td>\n",
       "      <td>Strongly agree</td>\n",
       "      <td>Neither agree nor disagree</td>\n",
       "      <td>Agree</td>\n",
       "    </tr>\n",
       "    <tr>\n",
       "      <th>130</th>\n",
       "      <td>Male</td>\n",
       "      <td>35 to 44</td>\n",
       "      <td>United Kingdom</td>\n",
       "      <td>Doctorate degree</td>\n",
       "      <td>Employed</td>\n",
       "      <td>Before Covid-19 pandemic</td>\n",
       "      <td>NaN</td>\n",
       "      <td>Recruitment agencies,Career websites (e.g., Li...</td>\n",
       "      <td>Career websites</td>\n",
       "      <td>No impact</td>\n",
       "      <td>Family commitment</td>\n",
       "      <td>Agree</td>\n",
       "      <td>Agree</td>\n",
       "      <td>Neither agree nor disagree</td>\n",
       "      <td>Neither agree nor disagree</td>\n",
       "      <td>Neither agree nor disagree</td>\n",
       "      <td>Neither agree nor disagree</td>\n",
       "    </tr>\n",
       "    <tr>\n",
       "      <th>131</th>\n",
       "      <td>Female</td>\n",
       "      <td>18 to 24</td>\n",
       "      <td>United Kingdom</td>\n",
       "      <td>Bachelor’s degree</td>\n",
       "      <td>Employed</td>\n",
       "      <td>Before Covid-19 pandemic</td>\n",
       "      <td>NaN</td>\n",
       "      <td>Networking,Recruitment agencies,Job fairs,Care...</td>\n",
       "      <td>Conferences/ events,Social media,Career websit...</td>\n",
       "      <td>No impact</td>\n",
       "      <td>Lockdown,Travel restrictions,Working from home...</td>\n",
       "      <td>Neither agree nor disagree</td>\n",
       "      <td>Strongly agree</td>\n",
       "      <td>Neither agree nor disagree</td>\n",
       "      <td>Disagree</td>\n",
       "      <td>Neither agree nor disagree</td>\n",
       "      <td>Disagree</td>\n",
       "    </tr>\n",
       "  </tbody>\n",
       "</table>\n",
       "</div>"
      ],
      "text/plain": [
       "     gender       age               country             education  \\\n",
       "0    Female  25 to 34               Bahrain       Master’s degree   \n",
       "1    Female  25 to 34  United Arab Emirates       Master’s degree   \n",
       "2    Female  25 to 34         United States  High school or below   \n",
       "3    Female  35 to 44        United Kingdom     Bachelor’s degree   \n",
       "4    Female  35 to 44         United States       Master’s degree   \n",
       "127    Male  35 to 44               Hungary     Bachelor’s degree   \n",
       "128    Male  35 to 44        United Kingdom       Master’s degree   \n",
       "129    Male  45 to 54             Singapore     Bachelor’s degree   \n",
       "130    Male  35 to 44        United Kingdom      Doctorate degree   \n",
       "131  Female  18 to 24        United Kingdom     Bachelor’s degree   \n",
       "\n",
       "                           emp_status                emp_period  \\\n",
       "0    Unemployed- Not looking for work                       NaN   \n",
       "1                            Employed  During Covid-19 pandemic   \n",
       "2        Unemployed- Looking for work  During Covid-19 pandemic   \n",
       "3                             Student                       NaN   \n",
       "4                            Employed  During Covid-19 pandemic   \n",
       "127                          Employed  Before Covid-19 pandemic   \n",
       "128                          Employed  Before Covid-19 pandemic   \n",
       "129                          Employed  Before Covid-19 pandemic   \n",
       "130                          Employed  Before Covid-19 pandemic   \n",
       "131                          Employed  Before Covid-19 pandemic   \n",
       "\n",
       "                 unemp_period  \\\n",
       "0    Before Covid-19 pandemic   \n",
       "1    During Covid-19 pandemic   \n",
       "2    During Covid-19 pandemic   \n",
       "3    Before Covid-19 pandemic   \n",
       "4                         NaN   \n",
       "127                       NaN   \n",
       "128  Before Covid-19 pandemic   \n",
       "129                       NaN   \n",
       "130                       NaN   \n",
       "131                       NaN   \n",
       "\n",
       "                                             resources  \\\n",
       "0    Networking,Social media,Career websites (e.g.,...   \n",
       "1    Social media,Career websites (e.g., LinkedIn, ...   \n",
       "2    Friends/ Colleagues,Recruitment agencies,Socia...   \n",
       "3                                 Recruitment agencies   \n",
       "4    Friends/ Colleagues,Recruitment agencies,Caree...   \n",
       "127  Networking,Newspapers,Recruitment agencies,Car...   \n",
       "128      Career websites (e.g., LinkedIn, Indeed, ...)   \n",
       "129  Friends/ Colleagues,Networking,Recruitment age...   \n",
       "130  Recruitment agencies,Career websites (e.g., Li...   \n",
       "131  Networking,Recruitment agencies,Job fairs,Care...   \n",
       "\n",
       "                                       network_methods   pandemic_impact  \\\n",
       "0    Discussion groups/ forums,Social media,Career ...             Other   \n",
       "1                                      Career websites  Salary reduction   \n",
       "2     Friends/ colleagues,Social media,Career websites          Resigned   \n",
       "3                                      Career websites         No impact   \n",
       "4    Friends/ colleagues,Professional associations,...             Other   \n",
       "127          Professional associations,Career websites         No impact   \n",
       "128                                    Career websites             Other   \n",
       "129                Friends/ colleagues,Career websites         No impact   \n",
       "130                                    Career websites         No impact   \n",
       "131  Conferences/ events,Social media,Career websit...         No impact   \n",
       "\n",
       "                                       job_constraints  \\\n",
       "0                                             Lockdown   \n",
       "1                              Lockdown,Infection risk   \n",
       "2                                    Family commitment   \n",
       "3                                             Lockdown   \n",
       "4    Lockdown,Family commitment,Infection risk,Unkn...   \n",
       "127    Infection risk,Unknown duration of the pandemic   \n",
       "128       Lockdown,Infection risk,Internet limitations   \n",
       "129               Lockdown,Working from home situation   \n",
       "130                                  Family commitment   \n",
       "131  Lockdown,Travel restrictions,Working from home...   \n",
       "\n",
       "                behavior_change             self_emp_impact  \\\n",
       "0                         Agree              Strongly agree   \n",
       "1                Strongly agree                       Agree   \n",
       "2                         Agree              Strongly agree   \n",
       "3                         Agree              Strongly agree   \n",
       "4                         Agree                       Agree   \n",
       "127                    Disagree  Neither agree nor disagree   \n",
       "128                       Agree  Neither agree nor disagree   \n",
       "129                       Agree  Neither agree nor disagree   \n",
       "130                       Agree                       Agree   \n",
       "131  Neither agree nor disagree              Strongly agree   \n",
       "\n",
       "                   women_affect                   time_plan  \\\n",
       "0                Strongly agree                    Disagree   \n",
       "1                         Agree              Strongly agree   \n",
       "2                      Disagree  Neither agree nor disagree   \n",
       "3                         Agree                       Agree   \n",
       "4                      Disagree  Neither agree nor disagree   \n",
       "127  Neither agree nor disagree                       Agree   \n",
       "128                       Agree  Neither agree nor disagree   \n",
       "129                       Agree              Strongly agree   \n",
       "130  Neither agree nor disagree  Neither agree nor disagree   \n",
       "131  Neither agree nor disagree                    Disagree   \n",
       "\n",
       "                     networking                   EaseOfJob  \n",
       "0                         Agree           Strongly disagree  \n",
       "1                         Agree  Neither agree nor disagree  \n",
       "2                         Agree  Neither agree nor disagree  \n",
       "3                         Agree           Strongly disagree  \n",
       "4                         Agree                       Agree  \n",
       "127  Neither agree nor disagree  Neither agree nor disagree  \n",
       "128                    Disagree  Neither agree nor disagree  \n",
       "129  Neither agree nor disagree                       Agree  \n",
       "130  Neither agree nor disagree  Neither agree nor disagree  \n",
       "131  Neither agree nor disagree                    Disagree  "
      ]
     },
     "execution_count": 2,
     "metadata": {},
     "output_type": "execute_result"
    }
   ],
   "source": [
    "# read the csv file into a pandas DataFrame and assign it to the variable (df)\n",
    "df = pd.read_csv (r'survey_results.csv')\n",
    "\n",
    "# drop irrelevant columns inplace\n",
    "df.drop(df.columns[[0, 12, 19, 20]], axis = 1, inplace = True)\n",
    "\n",
    "# rename the columns to be easy to read and recall through the analysis\n",
    "df.columns = ['gender', 'age', 'country', 'education', 'emp_status', 'emp_period', 'unemp_period', 'resources', 'network_methods', \n",
    "              'pandemic_impact', 'job_constraints', 'behavior_change', 'self_emp_impact', 'women_affect', 'time_plan', 'networking', 'EaseOfJob']\n",
    "\n",
    "df.head().append(df.tail())"
   ]
  },
  {
   "cell_type": "code",
   "execution_count": 142,
   "metadata": {},
   "outputs": [
    {
     "data": {
      "text/plain": [
       "(132, 17)"
      ]
     },
     "execution_count": 142,
     "metadata": {},
     "output_type": "execute_result"
    }
   ],
   "source": [
    "# inspect the size of data frame after dropping some columns\n",
    "# df.columns.value_counts().sum()\n",
    "df.shape"
   ]
  },
  {
   "cell_type": "markdown",
   "metadata": {},
   "source": [
    "## 3.1 Data Types and Pre-processing\n",
    "\n",
    "> The data types of the research variables are qualitative, either nominal (non-ordered) or ordinal (ordered). Thus, the analysis is limited to that kind of analysis. By default, they will be categorised as an object. Therefore, the data types will be converted to a suitable category while being careful when dealing with ordered data. Changing this data type would be beneficial when plotting data and ensuring that any mistakes and unexpected values are highlighted."
   ]
  },
  {
   "cell_type": "code",
   "execution_count": 9,
   "metadata": {},
   "outputs": [
    {
     "data": {
      "text/plain": [
       "gender             object\n",
       "age                object\n",
       "country            object\n",
       "education          object\n",
       "emp_status         object\n",
       "emp_period         object\n",
       "unemp_period       object\n",
       "resources          object\n",
       "network_methods    object\n",
       "pandemic_impact    object\n",
       "job_constraints    object\n",
       "behavior_change    object\n",
       "self_emp_impact    object\n",
       "women_affect       object\n",
       "time_plan          object\n",
       "networking         object\n",
       "EaseOfJob          object\n",
       "dtype: object"
      ]
     },
     "execution_count": 9,
     "metadata": {},
     "output_type": "execute_result"
    }
   ],
   "source": [
    "# inspect the data types\n",
    "df.dtypes"
   ]
  },
  {
   "cell_type": "markdown",
   "metadata": {},
   "source": [
    "### 3.1.1 Nominal (Non-ordered Categorical)"
   ]
  },
  {
   "cell_type": "code",
   "execution_count": 143,
   "metadata": {},
   "outputs": [],
   "source": [
    "# set data types for the ordered variables\n",
    "dtypes = {'gender': 'category', 'country': 'category', 'emp_status': 'category', 'emp_period': 'category', 'unemp_period': 'category', 'resources': 'category', 'network_methods': 'category', \n",
    "              'pandemic_impact': 'category', 'job_constraints': 'category'}\n",
    "df = df.astype(dtypes)"
   ]
  },
  {
   "cell_type": "code",
   "execution_count": 144,
   "metadata": {},
   "outputs": [
    {
     "data": {
      "text/plain": [
       "CategoricalDtype(categories=['Female', 'Male'], ordered=False)"
      ]
     },
     "execution_count": 144,
     "metadata": {},
     "output_type": "execute_result"
    }
   ],
   "source": [
    "# inspect data type for one unordered variable\n",
    "df['gender'].dtype"
   ]
  },
  {
   "cell_type": "markdown",
   "metadata": {},
   "source": [
    "### 3.1.2 Ordinal (Ordered Categorical)"
   ]
  },
  {
   "cell_type": "code",
   "execution_count": 145,
   "metadata": {
    "tags": []
   },
   "outputs": [],
   "source": [
    "# set data types for ordered variables\n",
    "scale = ['Strongly disagree', 'Disagree', 'Neither agree nor disagree', 'Agree', 'Strongly agree']\n",
    "df[['behavior_change', 'self_emp_impact', 'women_affect', 'time_plan', 'networking', 'EaseOfJob']] = df[['behavior_change', 'self_emp_impact', \n",
    "'women_affect', 'time_plan', 'networking', 'EaseOfJob']] .astype(pd.CategoricalDtype(ordered = True, categories = scale))\n",
    "\n",
    "order = ['18 to 24', '25 to 34', '35 to 44', '45 to 54', 'Above 54']\n",
    "df['age'] = df['age'].astype(pd.CategoricalDtype(ordered = True, categories = order))\n",
    "\n",
    "education_level = ['High school or below', 'Diploma', 'Bachelor’s degree', 'Master’s degree', 'Doctorate degree', 'Other']\n",
    "df['education'] = df['education'].astype(pd.CategoricalDtype(ordered = True, categories = education_level))"
   ]
  },
  {
   "cell_type": "code",
   "execution_count": 13,
   "metadata": {},
   "outputs": [
    {
     "data": {
      "text/plain": [
       "CategoricalDtype(categories=['Strongly disagree', 'Disagree',\n",
       "                  'Neither agree nor disagree', 'Agree', 'Strongly agree'],\n",
       "                 ordered=True)"
      ]
     },
     "execution_count": 13,
     "metadata": {},
     "output_type": "execute_result"
    }
   ],
   "source": [
    "# inspect dtype for one variable to make sure it is actually ordered\n",
    "df['behavior_change'].dtype"
   ]
  },
  {
   "cell_type": "code",
   "execution_count": 14,
   "metadata": {},
   "outputs": [
    {
     "name": "stdout",
     "output_type": "stream",
     "text": [
      "<class 'pandas.core.frame.DataFrame'>\n",
      "RangeIndex: 132 entries, 0 to 131\n",
      "Data columns (total 17 columns):\n",
      " #   Column           Non-Null Count  Dtype   \n",
      "---  ------           --------------  -----   \n",
      " 0   gender           132 non-null    category\n",
      " 1   age              132 non-null    category\n",
      " 2   country          132 non-null    category\n",
      " 3   education        132 non-null    category\n",
      " 4   emp_status       132 non-null    category\n",
      " 5   emp_period       97 non-null     category\n",
      " 6   unemp_period     68 non-null     category\n",
      " 7   resources        132 non-null    category\n",
      " 8   network_methods  132 non-null    category\n",
      " 9   pandemic_impact  132 non-null    category\n",
      " 10  job_constraints  132 non-null    category\n",
      " 11  behavior_change  132 non-null    category\n",
      " 12  self_emp_impact  132 non-null    category\n",
      " 13  women_affect     132 non-null    category\n",
      " 14  time_plan        132 non-null    category\n",
      " 15  networking       132 non-null    category\n",
      " 16  EaseOfJob        132 non-null    category\n",
      "dtypes: category(17)\n",
      "memory usage: 14.4 KB\n"
     ]
    }
   ],
   "source": [
    "# inspect the DataFrame info after converting \n",
    "df.info()"
   ]
  },
  {
   "cell_type": "markdown",
   "metadata": {},
   "source": [
    "## 3.2 Handing of Missing/Erroneous Data\n",
    "\n",
    "The emp_period and unemp_period questions were optional, thus had null/erroneous values. The questions asked if your currently employed/unemployed then since when, no room for overlap. However, some respondents answered both questions thus, it required further cleaning before performing any analysis. \n",
    "\n",
    "There are 5 scenarios for cleaning:\n",
    "\n",
    "1. When Employment period & Unemployment period are Both Null.\n",
    "2. When The Employment Status is Employed/Self-employed , While Employment Period is Null\n",
    "3. When The Employment Status is Unemployed, While Currently Unmployment Period is Null\n",
    "4. When The Respondent is Unemployed and Employment Period & Unemployment period are Not Null¶\n",
    "5. When The Respondent is Employed/Self-employed and Employment Period & Unemployment period are Not Null\n",
    "\n",
    "When it comes to missing values, there are a number of strategies used here to handle them:\n",
    "* Dropping the record with the missing value entirely, \n",
    "* Setting some values to Null\n",
    "* Impute the missing value from emp_status variable"
   ]
  },
  {
   "cell_type": "code",
   "execution_count": 15,
   "metadata": {},
   "outputs": [
    {
     "name": "stdout",
     "output_type": "stream",
     "text": [
      "True \n",
      "\n",
      "\n"
     ]
    },
    {
     "data": {
      "text/plain": [
       "gender              0\n",
       "age                 0\n",
       "country             0\n",
       "education           0\n",
       "emp_status          0\n",
       "emp_period         35\n",
       "unemp_period       64\n",
       "resources           0\n",
       "network_methods     0\n",
       "pandemic_impact     0\n",
       "job_constraints     0\n",
       "behavior_change     0\n",
       "self_emp_impact     0\n",
       "women_affect        0\n",
       "time_plan           0\n",
       "networking          0\n",
       "EaseOfJob           0\n",
       "dtype: int64"
      ]
     },
     "execution_count": 15,
     "metadata": {},
     "output_type": "execute_result"
    }
   ],
   "source": [
    "# summarize the missing values\n",
    "print(df.isnull().values.any(),'\\n\\n')\n",
    "df.isna().sum()"
   ]
  },
  {
   "cell_type": "code",
   "execution_count": 146,
   "metadata": {},
   "outputs": [
    {
     "data": {
      "text/html": [
       "<div>\n",
       "<style scoped>\n",
       "    .dataframe tbody tr th:only-of-type {\n",
       "        vertical-align: middle;\n",
       "    }\n",
       "\n",
       "    .dataframe tbody tr th {\n",
       "        vertical-align: top;\n",
       "    }\n",
       "\n",
       "    .dataframe thead th {\n",
       "        text-align: right;\n",
       "    }\n",
       "</style>\n",
       "<table border=\"1\" class=\"dataframe\">\n",
       "  <thead>\n",
       "    <tr style=\"text-align: right;\">\n",
       "      <th></th>\n",
       "      <th>emp_period</th>\n",
       "      <th>unemp_period</th>\n",
       "    </tr>\n",
       "    <tr>\n",
       "      <th>emp_status</th>\n",
       "      <th></th>\n",
       "      <th></th>\n",
       "    </tr>\n",
       "  </thead>\n",
       "  <tbody>\n",
       "    <tr>\n",
       "      <th>Employed</th>\n",
       "      <td>64</td>\n",
       "      <td>14</td>\n",
       "    </tr>\n",
       "    <tr>\n",
       "      <th>Looking after family</th>\n",
       "      <td>4</td>\n",
       "      <td>8</td>\n",
       "    </tr>\n",
       "    <tr>\n",
       "      <th>Other</th>\n",
       "      <td>2</td>\n",
       "      <td>2</td>\n",
       "    </tr>\n",
       "    <tr>\n",
       "      <th>Self-employed</th>\n",
       "      <td>12</td>\n",
       "      <td>8</td>\n",
       "    </tr>\n",
       "    <tr>\n",
       "      <th>Student</th>\n",
       "      <td>2</td>\n",
       "      <td>3</td>\n",
       "    </tr>\n",
       "    <tr>\n",
       "      <th>Unemployed- Looking for work</th>\n",
       "      <td>11</td>\n",
       "      <td>28</td>\n",
       "    </tr>\n",
       "    <tr>\n",
       "      <th>Unemployed- Not looking for work</th>\n",
       "      <td>2</td>\n",
       "      <td>5</td>\n",
       "    </tr>\n",
       "  </tbody>\n",
       "</table>\n",
       "</div>"
      ],
      "text/plain": [
       "                                  emp_period  unemp_period\n",
       "emp_status                                                \n",
       "Employed                                  64            14\n",
       "Looking after family                       4             8\n",
       "Other                                      2             2\n",
       "Self-employed                             12             8\n",
       "Student                                    2             3\n",
       "Unemployed- Looking for work              11            28\n",
       "Unemployed- Not looking for work           2             5"
      ]
     },
     "execution_count": 146,
     "metadata": {},
     "output_type": "execute_result"
    }
   ],
   "source": [
    "# some respondebts answer in both \"emp_period\" and \"unemp_period\", hence \"emp_period\" variable will be ignore for any unemployment individual. \n",
    "# The same for any employment people, their responses for \"unemp_period\" will be ignored.\n",
    "df.loc[:,['emp_period', 'unemp_period']].groupby(df.loc[:,\"emp_status\"]).count()"
   ]
  },
  {
   "cell_type": "code",
   "execution_count": 151,
   "metadata": {
    "tags": []
   },
   "outputs": [],
   "source": [
    "new_df = df[['emp_status', 'emp_period', 'unemp_period']]\n",
    "\n",
    "group_df = new_df.set_index(['emp_status'])\n",
    "\n",
    "new_df_unemp = group_df.loc[['Looking after family', 'Unemployed- Looking for work', 'Unemployed- Not looking for work']]\n",
    "new_df_emp = group_df.loc[['Employed', 'Self-employed']]\n",
    "\n",
    "# display(new_df_emp)\n",
    "# display(new_df_unemp)"
   ]
  },
  {
   "cell_type": "markdown",
   "metadata": {},
   "source": [
    "> Below are the 5 scenarios to handle the missing/erroneous values in the data:"
   ]
  },
  {
   "cell_type": "markdown",
   "metadata": {},
   "source": [
    "### 3.2.1 When Employment period & Unemployment period are Both Null"
   ]
  },
  {
   "cell_type": "markdown",
   "metadata": {},
   "source": [
    "> Here, both values for the current employment period and current unemployment period are Null. The drop for those records will be applied as no information can get and it is one of the key questions."
   ]
  },
  {
   "cell_type": "code",
   "execution_count": 152,
   "metadata": {
    "tags": []
   },
   "outputs": [
    {
     "data": {
      "text/html": [
       "<div>\n",
       "<style scoped>\n",
       "    .dataframe tbody tr th:only-of-type {\n",
       "        vertical-align: middle;\n",
       "    }\n",
       "\n",
       "    .dataframe tbody tr th {\n",
       "        vertical-align: top;\n",
       "    }\n",
       "\n",
       "    .dataframe thead th {\n",
       "        text-align: right;\n",
       "    }\n",
       "</style>\n",
       "<table border=\"1\" class=\"dataframe\">\n",
       "  <thead>\n",
       "    <tr style=\"text-align: right;\">\n",
       "      <th></th>\n",
       "      <th>emp_status</th>\n",
       "      <th>emp_period</th>\n",
       "      <th>unemp_period</th>\n",
       "    </tr>\n",
       "  </thead>\n",
       "  <tbody>\n",
       "    <tr>\n",
       "      <th>25</th>\n",
       "      <td>Employed</td>\n",
       "      <td>NaN</td>\n",
       "      <td>NaN</td>\n",
       "    </tr>\n",
       "    <tr>\n",
       "      <th>52</th>\n",
       "      <td>Other</td>\n",
       "      <td>NaN</td>\n",
       "      <td>NaN</td>\n",
       "    </tr>\n",
       "    <tr>\n",
       "      <th>57</th>\n",
       "      <td>Employed</td>\n",
       "      <td>NaN</td>\n",
       "      <td>NaN</td>\n",
       "    </tr>\n",
       "    <tr>\n",
       "      <th>80</th>\n",
       "      <td>Student</td>\n",
       "      <td>NaN</td>\n",
       "      <td>NaN</td>\n",
       "    </tr>\n",
       "    <tr>\n",
       "      <th>92</th>\n",
       "      <td>Employed</td>\n",
       "      <td>NaN</td>\n",
       "      <td>NaN</td>\n",
       "    </tr>\n",
       "    <tr>\n",
       "      <th>108</th>\n",
       "      <td>Employed</td>\n",
       "      <td>NaN</td>\n",
       "      <td>NaN</td>\n",
       "    </tr>\n",
       "    <tr>\n",
       "      <th>124</th>\n",
       "      <td>Employed</td>\n",
       "      <td>NaN</td>\n",
       "      <td>NaN</td>\n",
       "    </tr>\n",
       "  </tbody>\n",
       "</table>\n",
       "</div>"
      ],
      "text/plain": [
       "    emp_status emp_period unemp_period\n",
       "25    Employed        NaN          NaN\n",
       "52       Other        NaN          NaN\n",
       "57    Employed        NaN          NaN\n",
       "80     Student        NaN          NaN\n",
       "92    Employed        NaN          NaN\n",
       "108   Employed        NaN          NaN\n",
       "124   Employed        NaN          NaN"
      ]
     },
     "execution_count": 152,
     "metadata": {},
     "output_type": "execute_result"
    }
   ],
   "source": [
    "# filter the rows in 'emp_period' and 'unemp_period' that both have null values\n",
    "new_df.loc[(new_df['emp_period'].isna()) & (new_df['unemp_period'].isna())]\n",
    "\n",
    "# same code for the full data frame\n",
    "# df.loc[(df['emp_period'].isna()) & (df['unemp_period'].isna())]"
   ]
  },
  {
   "cell_type": "code",
   "execution_count": 153,
   "metadata": {},
   "outputs": [],
   "source": [
    "# drop those rows that have both null in their employment and unemployment period\n",
    "df.drop(df[df['emp_period'].isna() & df['unemp_period'].isna()].index, inplace = True)"
   ]
  },
  {
   "cell_type": "code",
   "execution_count": 154,
   "metadata": {},
   "outputs": [
    {
     "data": {
      "text/plain": [
       "0"
      ]
     },
     "execution_count": 154,
     "metadata": {},
     "output_type": "execute_result"
    }
   ],
   "source": [
    "# verification\n",
    "sum(df['unemp_period'].isna() & df['emp_period'].isna())"
   ]
  },
  {
   "cell_type": "markdown",
   "metadata": {},
   "source": [
    "### 3.2.2 When The Employment Status is Employed/Self-employed , While Employment Period is Null"
   ]
  },
  {
   "cell_type": "markdown",
   "metadata": {},
   "source": [
    "> The participant responded to the wrong question, the employment status for the same respondent was employed/ self-employed, but he/she choosed the question of \"if you are currently unemployed since when\", as a result this case will be dropped."
   ]
  },
  {
   "cell_type": "code",
   "execution_count": 155,
   "metadata": {},
   "outputs": [
    {
     "data": {
      "text/html": [
       "<div>\n",
       "<style scoped>\n",
       "    .dataframe tbody tr th:only-of-type {\n",
       "        vertical-align: middle;\n",
       "    }\n",
       "\n",
       "    .dataframe tbody tr th {\n",
       "        vertical-align: top;\n",
       "    }\n",
       "\n",
       "    .dataframe thead th {\n",
       "        text-align: right;\n",
       "    }\n",
       "</style>\n",
       "<table border=\"1\" class=\"dataframe\">\n",
       "  <thead>\n",
       "    <tr style=\"text-align: right;\">\n",
       "      <th></th>\n",
       "      <th>emp_period</th>\n",
       "      <th>unemp_period</th>\n",
       "    </tr>\n",
       "    <tr>\n",
       "      <th>emp_status</th>\n",
       "      <th></th>\n",
       "      <th></th>\n",
       "    </tr>\n",
       "  </thead>\n",
       "  <tbody>\n",
       "    <tr>\n",
       "      <th>Self-employed</th>\n",
       "      <td>NaN</td>\n",
       "      <td>During Covid-19 pandemic</td>\n",
       "    </tr>\n",
       "  </tbody>\n",
       "</table>\n",
       "</div>"
      ],
      "text/plain": [
       "              emp_period              unemp_period\n",
       "emp_status                                        \n",
       "Self-employed        NaN  During Covid-19 pandemic"
      ]
     },
     "execution_count": 155,
     "metadata": {},
     "output_type": "execute_result"
    }
   ],
   "source": [
    "# filter the rows for employed that have null values in 'emp_period',  while 'unemp_period' is not Null\n",
    "new_df_emp.loc[(new_df_emp['emp_period'].isna()) & (new_df_emp['unemp_period'].notna())]\n",
    "\n",
    "# same code for the full data frame\n",
    "# emp_self = [\"Employed\", \"Self-employed\"]\n",
    "# df.loc[(df['emp_period'].isna()) & (df['unemp_period'].notna()) & df['emp_status'].isin(emp_self)]"
   ]
  },
  {
   "cell_type": "code",
   "execution_count": 157,
   "metadata": {},
   "outputs": [],
   "source": [
    "# drop the rows when the respondent 'emp_status' is employed and 'emp_period' is kept Null\n",
    "emp_self = [\"Employed\", \"Self-employed\"]\n",
    "df.drop(df[(df['emp_period'].isna()) & (df['unemp_period'].notna()) & df['emp_status'].isin(emp_self)].index, inplace = True)"
   ]
  },
  {
   "cell_type": "code",
   "execution_count": 158,
   "metadata": {},
   "outputs": [
    {
     "data": {
      "text/plain": [
       "0"
      ]
     },
     "execution_count": 158,
     "metadata": {},
     "output_type": "execute_result"
    }
   ],
   "source": [
    "# verification\n",
    "sum(df['emp_period'].isna() & df['unemp_period'].notna() & df['emp_status'].isin(emp_self))"
   ]
  },
  {
   "cell_type": "markdown",
   "metadata": {},
   "source": [
    "### 3.2.3 When The Employment Status is Unemployed, While Unmployment Period is Null"
   ]
  },
  {
   "cell_type": "markdown",
   "metadata": {},
   "source": [
    "Similarly, the participant responded to the wrong question, the employment status for the same respondent was unemployed, but he/she choosed the question of \"if you are currently employed since when\", as a result this case will be dropped."
   ]
  },
  {
   "cell_type": "code",
   "execution_count": 159,
   "metadata": {},
   "outputs": [
    {
     "data": {
      "text/html": [
       "<div>\n",
       "<style scoped>\n",
       "    .dataframe tbody tr th:only-of-type {\n",
       "        vertical-align: middle;\n",
       "    }\n",
       "\n",
       "    .dataframe tbody tr th {\n",
       "        vertical-align: top;\n",
       "    }\n",
       "\n",
       "    .dataframe thead th {\n",
       "        text-align: right;\n",
       "    }\n",
       "</style>\n",
       "<table border=\"1\" class=\"dataframe\">\n",
       "  <thead>\n",
       "    <tr style=\"text-align: right;\">\n",
       "      <th></th>\n",
       "      <th>emp_period</th>\n",
       "      <th>unemp_period</th>\n",
       "    </tr>\n",
       "    <tr>\n",
       "      <th>emp_status</th>\n",
       "      <th></th>\n",
       "      <th></th>\n",
       "    </tr>\n",
       "  </thead>\n",
       "  <tbody>\n",
       "    <tr>\n",
       "      <th>Unemployed- Looking for work</th>\n",
       "      <td>Before Covid-19 pandemic</td>\n",
       "      <td>NaN</td>\n",
       "    </tr>\n",
       "  </tbody>\n",
       "</table>\n",
       "</div>"
      ],
      "text/plain": [
       "                                            emp_period unemp_period\n",
       "emp_status                                                         \n",
       "Unemployed- Looking for work  Before Covid-19 pandemic          NaN"
      ]
     },
     "execution_count": 159,
     "metadata": {},
     "output_type": "execute_result"
    }
   ],
   "source": [
    "# filter the rows for unemployed that have null values in 'unemp_period'\n",
    "new_df_unemp.loc[(new_df_unemp['emp_period'].notna()) & (new_df_unemp['unemp_period'].isna())]\n",
    "\n",
    "# same code for the full data frame\n",
    "# unemp = ['Looking after family', 'Unemployed- Looking for work', 'Unemployed- Not looking for work']\n",
    "# df.loc[(df['unemp_period'].isna()) & (df['emp_period'].notna()) & df['emp_status'].isin(unemp)]"
   ]
  },
  {
   "cell_type": "code",
   "execution_count": 160,
   "metadata": {},
   "outputs": [],
   "source": [
    "# drop the rows when the respondent 'emp_status' is unemployed and 'unemp_period' is kept Null, while 'emp_period' is not Null\n",
    "unemp = ['Looking after family', 'Unemployed- Looking for work', 'Unemployed- Not looking for work']\n",
    "df.drop(df[(df['unemp_period'].isna()) & (df['emp_period'].notna()) & df['emp_status'].isin(unemp)].index, inplace = True)"
   ]
  },
  {
   "cell_type": "code",
   "execution_count": 161,
   "metadata": {},
   "outputs": [
    {
     "data": {
      "text/plain": [
       "0"
      ]
     },
     "execution_count": 161,
     "metadata": {},
     "output_type": "execute_result"
    }
   ],
   "source": [
    "# verification\n",
    "sum(df['unemp_period'].isna() & df['emp_period'].notna() & df['emp_status'].isin(unemp))"
   ]
  },
  {
   "cell_type": "markdown",
   "metadata": {},
   "source": [
    "### 3.2.4  When The Respondent is Unemployed and Employment Period & Unemployment period are Not Null"
   ]
  },
  {
   "cell_type": "markdown",
   "metadata": {},
   "source": [
    "> When respondents answered both employment and unemployment period questions, where it is supposed to select one. The approach taken in this case was to impute the answer from employment status question and fill the extra question with NaN. "
   ]
  },
  {
   "cell_type": "code",
   "execution_count": 163,
   "metadata": {
    "tags": []
   },
   "outputs": [
    {
     "data": {
      "text/html": [
       "<div>\n",
       "<style scoped>\n",
       "    .dataframe tbody tr th:only-of-type {\n",
       "        vertical-align: middle;\n",
       "    }\n",
       "\n",
       "    .dataframe tbody tr th {\n",
       "        vertical-align: top;\n",
       "    }\n",
       "\n",
       "    .dataframe thead th {\n",
       "        text-align: right;\n",
       "    }\n",
       "</style>\n",
       "<table border=\"1\" class=\"dataframe\">\n",
       "  <thead>\n",
       "    <tr style=\"text-align: right;\">\n",
       "      <th></th>\n",
       "      <th>gender</th>\n",
       "      <th>age</th>\n",
       "      <th>country</th>\n",
       "      <th>education</th>\n",
       "      <th>emp_status</th>\n",
       "      <th>emp_period</th>\n",
       "      <th>unemp_period</th>\n",
       "      <th>resources</th>\n",
       "      <th>network_methods</th>\n",
       "      <th>pandemic_impact</th>\n",
       "      <th>job_constraints</th>\n",
       "      <th>behavior_change</th>\n",
       "      <th>self_emp_impact</th>\n",
       "      <th>women_affect</th>\n",
       "      <th>time_plan</th>\n",
       "      <th>networking</th>\n",
       "      <th>EaseOfJob</th>\n",
       "    </tr>\n",
       "  </thead>\n",
       "  <tbody>\n",
       "    <tr>\n",
       "      <th>0</th>\n",
       "      <td>Female</td>\n",
       "      <td>25 to 34</td>\n",
       "      <td>Bahrain</td>\n",
       "      <td>Master’s degree</td>\n",
       "      <td>Unemployed- Not looking for work</td>\n",
       "      <td>NaN</td>\n",
       "      <td>Before Covid-19 pandemic</td>\n",
       "      <td>Networking,Social media,Career websites (e.g.,...</td>\n",
       "      <td>Discussion groups/ forums,Social media,Career ...</td>\n",
       "      <td>Other</td>\n",
       "      <td>Lockdown</td>\n",
       "      <td>Agree</td>\n",
       "      <td>Strongly agree</td>\n",
       "      <td>Strongly agree</td>\n",
       "      <td>Disagree</td>\n",
       "      <td>Agree</td>\n",
       "      <td>Strongly disagree</td>\n",
       "    </tr>\n",
       "    <tr>\n",
       "      <th>1</th>\n",
       "      <td>Female</td>\n",
       "      <td>25 to 34</td>\n",
       "      <td>United Arab Emirates</td>\n",
       "      <td>Master’s degree</td>\n",
       "      <td>Employed</td>\n",
       "      <td>During Covid-19 pandemic</td>\n",
       "      <td>During Covid-19 pandemic</td>\n",
       "      <td>Social media,Career websites (e.g., LinkedIn, ...</td>\n",
       "      <td>Career websites</td>\n",
       "      <td>Salary reduction</td>\n",
       "      <td>Lockdown,Infection risk</td>\n",
       "      <td>Strongly agree</td>\n",
       "      <td>Agree</td>\n",
       "      <td>Agree</td>\n",
       "      <td>Strongly agree</td>\n",
       "      <td>Agree</td>\n",
       "      <td>Neither agree nor disagree</td>\n",
       "    </tr>\n",
       "    <tr>\n",
       "      <th>2</th>\n",
       "      <td>Female</td>\n",
       "      <td>25 to 34</td>\n",
       "      <td>United States</td>\n",
       "      <td>High school or below</td>\n",
       "      <td>Unemployed- Looking for work</td>\n",
       "      <td>NaN</td>\n",
       "      <td>During Covid-19 pandemic</td>\n",
       "      <td>Friends/ Colleagues,Recruitment agencies,Socia...</td>\n",
       "      <td>Friends/ colleagues,Social media,Career websites</td>\n",
       "      <td>Resigned</td>\n",
       "      <td>Family commitment</td>\n",
       "      <td>Agree</td>\n",
       "      <td>Strongly agree</td>\n",
       "      <td>Disagree</td>\n",
       "      <td>Neither agree nor disagree</td>\n",
       "      <td>Agree</td>\n",
       "      <td>Neither agree nor disagree</td>\n",
       "    </tr>\n",
       "  </tbody>\n",
       "</table>\n",
       "</div>"
      ],
      "text/plain": [
       "   gender       age               country             education  \\\n",
       "0  Female  25 to 34               Bahrain       Master’s degree   \n",
       "1  Female  25 to 34  United Arab Emirates       Master’s degree   \n",
       "2  Female  25 to 34         United States  High school or below   \n",
       "\n",
       "                         emp_status                emp_period  \\\n",
       "0  Unemployed- Not looking for work                       NaN   \n",
       "1                          Employed  During Covid-19 pandemic   \n",
       "2      Unemployed- Looking for work                       NaN   \n",
       "\n",
       "               unemp_period  \\\n",
       "0  Before Covid-19 pandemic   \n",
       "1  During Covid-19 pandemic   \n",
       "2  During Covid-19 pandemic   \n",
       "\n",
       "                                           resources  \\\n",
       "0  Networking,Social media,Career websites (e.g.,...   \n",
       "1  Social media,Career websites (e.g., LinkedIn, ...   \n",
       "2  Friends/ Colleagues,Recruitment agencies,Socia...   \n",
       "\n",
       "                                     network_methods   pandemic_impact  \\\n",
       "0  Discussion groups/ forums,Social media,Career ...             Other   \n",
       "1                                    Career websites  Salary reduction   \n",
       "2   Friends/ colleagues,Social media,Career websites          Resigned   \n",
       "\n",
       "           job_constraints behavior_change self_emp_impact    women_affect  \\\n",
       "0                 Lockdown           Agree  Strongly agree  Strongly agree   \n",
       "1  Lockdown,Infection risk  Strongly agree           Agree           Agree   \n",
       "2        Family commitment           Agree  Strongly agree        Disagree   \n",
       "\n",
       "                    time_plan networking                   EaseOfJob  \n",
       "0                    Disagree      Agree           Strongly disagree  \n",
       "1              Strongly agree      Agree  Neither agree nor disagree  \n",
       "2  Neither agree nor disagree      Agree  Neither agree nor disagree  "
      ]
     },
     "execution_count": 163,
     "metadata": {},
     "output_type": "execute_result"
    }
   ],
   "source": [
    "unemp = ['Looking after family', 'Unemployed- Looking for work', 'Unemployed- Not looking for work']\n",
    "df.loc[(df['unemp_period'].notna()) & (df['emp_period'].notna()) & df['emp_status'].isin(unemp), 'emp_period'] = np.nan\n",
    "\n",
    "df.head(3)"
   ]
  },
  {
   "cell_type": "markdown",
   "metadata": {
    "tags": []
   },
   "source": [
    "### 3.2.5  When The Respondent is Employed/Self-employed and Employment Period & Unemployment period are Not Null"
   ]
  },
  {
   "cell_type": "markdown",
   "metadata": {},
   "source": [
    "> When the respondents answered both employment and unemployment period questions, where it is supposed to select one. The approach taken in this case was to impute the answer from employment status question and fill the extra question with NaN."
   ]
  },
  {
   "cell_type": "code",
   "execution_count": 164,
   "metadata": {
    "tags": []
   },
   "outputs": [
    {
     "data": {
      "text/html": [
       "<div>\n",
       "<style scoped>\n",
       "    .dataframe tbody tr th:only-of-type {\n",
       "        vertical-align: middle;\n",
       "    }\n",
       "\n",
       "    .dataframe tbody tr th {\n",
       "        vertical-align: top;\n",
       "    }\n",
       "\n",
       "    .dataframe thead th {\n",
       "        text-align: right;\n",
       "    }\n",
       "</style>\n",
       "<table border=\"1\" class=\"dataframe\">\n",
       "  <thead>\n",
       "    <tr style=\"text-align: right;\">\n",
       "      <th></th>\n",
       "      <th>gender</th>\n",
       "      <th>age</th>\n",
       "      <th>country</th>\n",
       "      <th>education</th>\n",
       "      <th>emp_status</th>\n",
       "      <th>emp_period</th>\n",
       "      <th>unemp_period</th>\n",
       "      <th>resources</th>\n",
       "      <th>network_methods</th>\n",
       "      <th>pandemic_impact</th>\n",
       "      <th>job_constraints</th>\n",
       "      <th>behavior_change</th>\n",
       "      <th>self_emp_impact</th>\n",
       "      <th>women_affect</th>\n",
       "      <th>time_plan</th>\n",
       "      <th>networking</th>\n",
       "      <th>EaseOfJob</th>\n",
       "    </tr>\n",
       "  </thead>\n",
       "  <tbody>\n",
       "    <tr>\n",
       "      <th>0</th>\n",
       "      <td>Female</td>\n",
       "      <td>25 to 34</td>\n",
       "      <td>Bahrain</td>\n",
       "      <td>Master’s degree</td>\n",
       "      <td>Unemployed- Not looking for work</td>\n",
       "      <td>NaN</td>\n",
       "      <td>Before Covid-19 pandemic</td>\n",
       "      <td>Networking,Social media,Career websites (e.g.,...</td>\n",
       "      <td>Discussion groups/ forums,Social media,Career ...</td>\n",
       "      <td>Other</td>\n",
       "      <td>Lockdown</td>\n",
       "      <td>Agree</td>\n",
       "      <td>Strongly agree</td>\n",
       "      <td>Strongly agree</td>\n",
       "      <td>Disagree</td>\n",
       "      <td>Agree</td>\n",
       "      <td>Strongly disagree</td>\n",
       "    </tr>\n",
       "    <tr>\n",
       "      <th>1</th>\n",
       "      <td>Female</td>\n",
       "      <td>25 to 34</td>\n",
       "      <td>United Arab Emirates</td>\n",
       "      <td>Master’s degree</td>\n",
       "      <td>Employed</td>\n",
       "      <td>During Covid-19 pandemic</td>\n",
       "      <td>NaN</td>\n",
       "      <td>Social media,Career websites (e.g., LinkedIn, ...</td>\n",
       "      <td>Career websites</td>\n",
       "      <td>Salary reduction</td>\n",
       "      <td>Lockdown,Infection risk</td>\n",
       "      <td>Strongly agree</td>\n",
       "      <td>Agree</td>\n",
       "      <td>Agree</td>\n",
       "      <td>Strongly agree</td>\n",
       "      <td>Agree</td>\n",
       "      <td>Neither agree nor disagree</td>\n",
       "    </tr>\n",
       "    <tr>\n",
       "      <th>2</th>\n",
       "      <td>Female</td>\n",
       "      <td>25 to 34</td>\n",
       "      <td>United States</td>\n",
       "      <td>High school or below</td>\n",
       "      <td>Unemployed- Looking for work</td>\n",
       "      <td>NaN</td>\n",
       "      <td>During Covid-19 pandemic</td>\n",
       "      <td>Friends/ Colleagues,Recruitment agencies,Socia...</td>\n",
       "      <td>Friends/ colleagues,Social media,Career websites</td>\n",
       "      <td>Resigned</td>\n",
       "      <td>Family commitment</td>\n",
       "      <td>Agree</td>\n",
       "      <td>Strongly agree</td>\n",
       "      <td>Disagree</td>\n",
       "      <td>Neither agree nor disagree</td>\n",
       "      <td>Agree</td>\n",
       "      <td>Neither agree nor disagree</td>\n",
       "    </tr>\n",
       "  </tbody>\n",
       "</table>\n",
       "</div>"
      ],
      "text/plain": [
       "   gender       age               country             education  \\\n",
       "0  Female  25 to 34               Bahrain       Master’s degree   \n",
       "1  Female  25 to 34  United Arab Emirates       Master’s degree   \n",
       "2  Female  25 to 34         United States  High school or below   \n",
       "\n",
       "                         emp_status                emp_period  \\\n",
       "0  Unemployed- Not looking for work                       NaN   \n",
       "1                          Employed  During Covid-19 pandemic   \n",
       "2      Unemployed- Looking for work                       NaN   \n",
       "\n",
       "               unemp_period  \\\n",
       "0  Before Covid-19 pandemic   \n",
       "1                       NaN   \n",
       "2  During Covid-19 pandemic   \n",
       "\n",
       "                                           resources  \\\n",
       "0  Networking,Social media,Career websites (e.g.,...   \n",
       "1  Social media,Career websites (e.g., LinkedIn, ...   \n",
       "2  Friends/ Colleagues,Recruitment agencies,Socia...   \n",
       "\n",
       "                                     network_methods   pandemic_impact  \\\n",
       "0  Discussion groups/ forums,Social media,Career ...             Other   \n",
       "1                                    Career websites  Salary reduction   \n",
       "2   Friends/ colleagues,Social media,Career websites          Resigned   \n",
       "\n",
       "           job_constraints behavior_change self_emp_impact    women_affect  \\\n",
       "0                 Lockdown           Agree  Strongly agree  Strongly agree   \n",
       "1  Lockdown,Infection risk  Strongly agree           Agree           Agree   \n",
       "2        Family commitment           Agree  Strongly agree        Disagree   \n",
       "\n",
       "                    time_plan networking                   EaseOfJob  \n",
       "0                    Disagree      Agree           Strongly disagree  \n",
       "1              Strongly agree      Agree  Neither agree nor disagree  \n",
       "2  Neither agree nor disagree      Agree  Neither agree nor disagree  "
      ]
     },
     "execution_count": 164,
     "metadata": {},
     "output_type": "execute_result"
    }
   ],
   "source": [
    "emp_self = [\"Employed\", \"Self-employed\"]\n",
    "df.loc[(df['unemp_period'].notna()) & (df['emp_period'].notna()) & df['emp_status'].isin(emp_self), 'unemp_period'] = np.nan\n",
    "\n",
    "df.head(3)"
   ]
  },
  {
   "cell_type": "code",
   "execution_count": 166,
   "metadata": {},
   "outputs": [
    {
     "data": {
      "text/html": [
       "<div>\n",
       "<style scoped>\n",
       "    .dataframe tbody tr th:only-of-type {\n",
       "        vertical-align: middle;\n",
       "    }\n",
       "\n",
       "    .dataframe tbody tr th {\n",
       "        vertical-align: top;\n",
       "    }\n",
       "\n",
       "    .dataframe thead th {\n",
       "        text-align: right;\n",
       "    }\n",
       "</style>\n",
       "<table border=\"1\" class=\"dataframe\">\n",
       "  <thead>\n",
       "    <tr style=\"text-align: right;\">\n",
       "      <th></th>\n",
       "      <th>emp_period</th>\n",
       "      <th>unemp_period</th>\n",
       "    </tr>\n",
       "    <tr>\n",
       "      <th>emp_status</th>\n",
       "      <th></th>\n",
       "      <th></th>\n",
       "    </tr>\n",
       "  </thead>\n",
       "  <tbody>\n",
       "    <tr>\n",
       "      <th>Employed</th>\n",
       "      <td>64</td>\n",
       "      <td>64</td>\n",
       "    </tr>\n",
       "    <tr>\n",
       "      <th>Looking after family</th>\n",
       "      <td>8</td>\n",
       "      <td>8</td>\n",
       "    </tr>\n",
       "    <tr>\n",
       "      <th>Other</th>\n",
       "      <td>2</td>\n",
       "      <td>2</td>\n",
       "    </tr>\n",
       "    <tr>\n",
       "      <th>Self-employed</th>\n",
       "      <td>12</td>\n",
       "      <td>12</td>\n",
       "    </tr>\n",
       "    <tr>\n",
       "      <th>Student</th>\n",
       "      <td>4</td>\n",
       "      <td>4</td>\n",
       "    </tr>\n",
       "    <tr>\n",
       "      <th>Unemployed- Looking for work</th>\n",
       "      <td>28</td>\n",
       "      <td>28</td>\n",
       "    </tr>\n",
       "    <tr>\n",
       "      <th>Unemployed- Not looking for work</th>\n",
       "      <td>5</td>\n",
       "      <td>5</td>\n",
       "    </tr>\n",
       "  </tbody>\n",
       "</table>\n",
       "</div>"
      ],
      "text/plain": [
       "                                  emp_period  unemp_period\n",
       "emp_status                                                \n",
       "Employed                                  64            64\n",
       "Looking after family                       8             8\n",
       "Other                                      2             2\n",
       "Self-employed                             12            12\n",
       "Student                                    4             4\n",
       "Unemployed- Looking for work              28            28\n",
       "Unemployed- Not looking for work           5             5"
      ]
     },
     "execution_count": 166,
     "metadata": {},
     "output_type": "execute_result"
    }
   ],
   "source": [
    "# validation there now there is a balance \n",
    "pd.pivot_table(df, index = ['emp_status'], values = ['emp_period', 'unemp_period'], aggfunc = np.count_nonzero)"
   ]
  },
  {
   "cell_type": "markdown",
   "metadata": {},
   "source": [
    "## 3.3 Handling \"Checkbox\" Answers"
   ]
  },
  {
   "cell_type": "markdown",
   "metadata": {},
   "source": [
    "### 3.3.1 Resources"
   ]
  },
  {
   "cell_type": "code",
   "execution_count": 170,
   "metadata": {},
   "outputs": [
    {
     "data": {
      "text/html": [
       "<div>\n",
       "<style scoped>\n",
       "    .dataframe tbody tr th:only-of-type {\n",
       "        vertical-align: middle;\n",
       "    }\n",
       "\n",
       "    .dataframe tbody tr th {\n",
       "        vertical-align: top;\n",
       "    }\n",
       "\n",
       "    .dataframe thead th {\n",
       "        text-align: right;\n",
       "    }\n",
       "</style>\n",
       "<table border=\"1\" class=\"dataframe\">\n",
       "  <thead>\n",
       "    <tr style=\"text-align: right;\">\n",
       "      <th></th>\n",
       "      <th>0</th>\n",
       "      <th>1</th>\n",
       "      <th>2</th>\n",
       "      <th>3</th>\n",
       "    </tr>\n",
       "  </thead>\n",
       "  <tbody>\n",
       "    <tr>\n",
       "      <th>0</th>\n",
       "      <td>Networking</td>\n",
       "      <td>Social media</td>\n",
       "      <td>Career websites</td>\n",
       "      <td>None</td>\n",
       "    </tr>\n",
       "    <tr>\n",
       "      <th>1</th>\n",
       "      <td>Social media</td>\n",
       "      <td>Career websites</td>\n",
       "      <td>None</td>\n",
       "      <td>None</td>\n",
       "    </tr>\n",
       "    <tr>\n",
       "      <th>2</th>\n",
       "      <td>Friends/ Colleagues</td>\n",
       "      <td>Recruitment agencies</td>\n",
       "      <td>Social media</td>\n",
       "      <td>None</td>\n",
       "    </tr>\n",
       "    <tr>\n",
       "      <th>3</th>\n",
       "      <td>Recruitment agencies</td>\n",
       "      <td>None</td>\n",
       "      <td>None</td>\n",
       "      <td>None</td>\n",
       "    </tr>\n",
       "    <tr>\n",
       "      <th>4</th>\n",
       "      <td>Friends/ Colleagues</td>\n",
       "      <td>Recruitment agencies</td>\n",
       "      <td>Career websites</td>\n",
       "      <td>Email</td>\n",
       "    </tr>\n",
       "    <tr>\n",
       "      <th>...</th>\n",
       "      <td>...</td>\n",
       "      <td>...</td>\n",
       "      <td>...</td>\n",
       "      <td>...</td>\n",
       "    </tr>\n",
       "    <tr>\n",
       "      <th>127</th>\n",
       "      <td>Networking</td>\n",
       "      <td>Newspapers</td>\n",
       "      <td>Recruitment agencies</td>\n",
       "      <td>Career websites</td>\n",
       "    </tr>\n",
       "    <tr>\n",
       "      <th>128</th>\n",
       "      <td>Career websites</td>\n",
       "      <td>None</td>\n",
       "      <td>None</td>\n",
       "      <td>None</td>\n",
       "    </tr>\n",
       "    <tr>\n",
       "      <th>129</th>\n",
       "      <td>Friends/ Colleagues</td>\n",
       "      <td>Networking</td>\n",
       "      <td>Recruitment agencies</td>\n",
       "      <td>Career websites</td>\n",
       "    </tr>\n",
       "    <tr>\n",
       "      <th>130</th>\n",
       "      <td>Recruitment agencies</td>\n",
       "      <td>Career websites</td>\n",
       "      <td>None</td>\n",
       "      <td>None</td>\n",
       "    </tr>\n",
       "    <tr>\n",
       "      <th>131</th>\n",
       "      <td>Networking</td>\n",
       "      <td>Recruitment agencies</td>\n",
       "      <td>Job fairs</td>\n",
       "      <td>Career websites</td>\n",
       "    </tr>\n",
       "  </tbody>\n",
       "</table>\n",
       "<p>123 rows × 4 columns</p>\n",
       "</div>"
      ],
      "text/plain": [
       "                        0                     1                     2  \\\n",
       "0              Networking          Social media   Career websites       \n",
       "1            Social media   Career websites                      None   \n",
       "2     Friends/ Colleagues  Recruitment agencies          Social media   \n",
       "3    Recruitment agencies                  None                  None   \n",
       "4     Friends/ Colleagues  Recruitment agencies   Career websites       \n",
       "..                    ...                   ...                   ...   \n",
       "127            Networking            Newspapers  Recruitment agencies   \n",
       "128   Career websites                      None                  None   \n",
       "129   Friends/ Colleagues            Networking  Recruitment agencies   \n",
       "130  Recruitment agencies   Career websites                      None   \n",
       "131            Networking  Recruitment agencies             Job fairs   \n",
       "\n",
       "                       3  \n",
       "0                   None  \n",
       "1                   None  \n",
       "2                   None  \n",
       "3                   None  \n",
       "4                  Email  \n",
       "..                   ...  \n",
       "127  Career websites      \n",
       "128                 None  \n",
       "129  Career websites      \n",
       "130                 None  \n",
       "131  Career websites      \n",
       "\n",
       "[123 rows x 4 columns]"
      ]
     },
     "metadata": {},
     "output_type": "display_data"
    },
    {
     "data": {
      "text/plain": [
       "id   choice\n",
       "0    0                   Networking\n",
       "     1                 Social media\n",
       "     2          Career websites    \n",
       "1    0                 Social media\n",
       "     1          Career websites    \n",
       "                       ...         \n",
       "130  1          Career websites    \n",
       "131  0                   Networking\n",
       "     1         Recruitment agencies\n",
       "     2                    Job fairs\n",
       "     3          Career websites    \n",
       "Name: resources_new, Length: 360, dtype: category\n",
       "Categories (10, object): ['Career websites    ', 'Email', 'Friends/ Colleagues', 'In-Person campus visits', ..., 'Newspapers', 'Other', 'Recruitment agencies', 'Social media']"
      ]
     },
     "execution_count": 170,
     "metadata": {},
     "output_type": "execute_result"
    }
   ],
   "source": [
    "# split strings into separate columns\n",
    "# remove the illustration of career website between parenthesis, as it was only for survey respondents.\n",
    "resources = df['resources'].str.replace(\"(e.g., LinkedIn, Indeed, ...)\",\" \")\n",
    "resources = resources.str.replace(\"(\",\" \").str.replace(\")\",\" \")\n",
    "\n",
    "# split strings into separate columns\n",
    "df_resources = resources.str.split(',', expand = True)\n",
    "display(df_resources)\n",
    "\n",
    "# Expand columns into a single variable\n",
    "# creates a multi-index\n",
    "df_resources = df_resources.stack()\n",
    "\n",
    "# name the derived variable\n",
    "df_resources.name = 'resources_new'\n",
    "\n",
    "# set to categorical\n",
    "df_resources = df_resources.astype('category') \n",
    "\n",
    "# name multi-index dimensions\n",
    "df_resources.index.names = ['id', 'choice'] \n",
    "df_resources"
   ]
  },
  {
   "cell_type": "markdown",
   "metadata": {},
   "source": [
    "### 3.3.2 Network Methods"
   ]
  },
  {
   "cell_type": "code",
   "execution_count": 169,
   "metadata": {},
   "outputs": [
    {
     "data": {
      "text/html": [
       "<div>\n",
       "<style scoped>\n",
       "    .dataframe tbody tr th:only-of-type {\n",
       "        vertical-align: middle;\n",
       "    }\n",
       "\n",
       "    .dataframe tbody tr th {\n",
       "        vertical-align: top;\n",
       "    }\n",
       "\n",
       "    .dataframe thead th {\n",
       "        text-align: right;\n",
       "    }\n",
       "</style>\n",
       "<table border=\"1\" class=\"dataframe\">\n",
       "  <thead>\n",
       "    <tr style=\"text-align: right;\">\n",
       "      <th></th>\n",
       "      <th>0</th>\n",
       "      <th>1</th>\n",
       "      <th>2</th>\n",
       "      <th>3</th>\n",
       "    </tr>\n",
       "  </thead>\n",
       "  <tbody>\n",
       "    <tr>\n",
       "      <th>0</th>\n",
       "      <td>Discussion groups/ forums</td>\n",
       "      <td>Social media</td>\n",
       "      <td>Career websites</td>\n",
       "      <td>None</td>\n",
       "    </tr>\n",
       "    <tr>\n",
       "      <th>1</th>\n",
       "      <td>Career websites</td>\n",
       "      <td>None</td>\n",
       "      <td>None</td>\n",
       "      <td>None</td>\n",
       "    </tr>\n",
       "    <tr>\n",
       "      <th>2</th>\n",
       "      <td>Friends/ colleagues</td>\n",
       "      <td>Social media</td>\n",
       "      <td>Career websites</td>\n",
       "      <td>None</td>\n",
       "    </tr>\n",
       "    <tr>\n",
       "      <th>3</th>\n",
       "      <td>Career websites</td>\n",
       "      <td>None</td>\n",
       "      <td>None</td>\n",
       "      <td>None</td>\n",
       "    </tr>\n",
       "    <tr>\n",
       "      <th>4</th>\n",
       "      <td>Friends/ colleagues</td>\n",
       "      <td>Professional associations</td>\n",
       "      <td>Career websites</td>\n",
       "      <td>None</td>\n",
       "    </tr>\n",
       "    <tr>\n",
       "      <th>...</th>\n",
       "      <td>...</td>\n",
       "      <td>...</td>\n",
       "      <td>...</td>\n",
       "      <td>...</td>\n",
       "    </tr>\n",
       "    <tr>\n",
       "      <th>127</th>\n",
       "      <td>Professional associations</td>\n",
       "      <td>Career websites</td>\n",
       "      <td>None</td>\n",
       "      <td>None</td>\n",
       "    </tr>\n",
       "    <tr>\n",
       "      <th>128</th>\n",
       "      <td>Career websites</td>\n",
       "      <td>None</td>\n",
       "      <td>None</td>\n",
       "      <td>None</td>\n",
       "    </tr>\n",
       "    <tr>\n",
       "      <th>129</th>\n",
       "      <td>Friends/ colleagues</td>\n",
       "      <td>Career websites</td>\n",
       "      <td>None</td>\n",
       "      <td>None</td>\n",
       "    </tr>\n",
       "    <tr>\n",
       "      <th>130</th>\n",
       "      <td>Career websites</td>\n",
       "      <td>None</td>\n",
       "      <td>None</td>\n",
       "      <td>None</td>\n",
       "    </tr>\n",
       "    <tr>\n",
       "      <th>131</th>\n",
       "      <td>Conferences/ events</td>\n",
       "      <td>Social media</td>\n",
       "      <td>Career websites</td>\n",
       "      <td>Other</td>\n",
       "    </tr>\n",
       "  </tbody>\n",
       "</table>\n",
       "<p>123 rows × 4 columns</p>\n",
       "</div>"
      ],
      "text/plain": [
       "                             0                          1                2  \\\n",
       "0    Discussion groups/ forums               Social media  Career websites   \n",
       "1              Career websites                       None             None   \n",
       "2          Friends/ colleagues               Social media  Career websites   \n",
       "3              Career websites                       None             None   \n",
       "4          Friends/ colleagues  Professional associations  Career websites   \n",
       "..                         ...                        ...              ...   \n",
       "127  Professional associations            Career websites             None   \n",
       "128            Career websites                       None             None   \n",
       "129        Friends/ colleagues            Career websites             None   \n",
       "130            Career websites                       None             None   \n",
       "131        Conferences/ events               Social media  Career websites   \n",
       "\n",
       "         3  \n",
       "0     None  \n",
       "1     None  \n",
       "2     None  \n",
       "3     None  \n",
       "4     None  \n",
       "..     ...  \n",
       "127   None  \n",
       "128   None  \n",
       "129   None  \n",
       "130   None  \n",
       "131  Other  \n",
       "\n",
       "[123 rows x 4 columns]"
      ]
     },
     "metadata": {},
     "output_type": "display_data"
    },
    {
     "data": {
      "text/plain": [
       "id   choice\n",
       "0    0         Discussion groups/ forums\n",
       "     1                      Social media\n",
       "     2                   Career websites\n",
       "1    0                   Career websites\n",
       "2    0               Friends/ colleagues\n",
       "                         ...            \n",
       "130  0                   Career websites\n",
       "131  0               Conferences/ events\n",
       "     1                      Social media\n",
       "     2                   Career websites\n",
       "     3                             Other\n",
       "Name: network_methods_new, Length: 274, dtype: category\n",
       "Categories (8, object): ['Career websites', 'Conferences/ events', 'Discussion groups/ forums', 'Friends/ colleagues', 'I don't know', 'Other', 'Professional associations', 'Social media']"
      ]
     },
     "execution_count": 169,
     "metadata": {},
     "output_type": "execute_result"
    }
   ],
   "source": [
    "# split strings into separate columns\n",
    "network_methods = df['network_methods'].str.split(',', expand = True)\n",
    "display(network_methods)\n",
    "\n",
    "# Expand columns into a single variable\n",
    "# creates a multi-index\n",
    "network_methods = network_methods.stack()\n",
    "\n",
    "# name the derived variable\n",
    "network_methods.name = 'network_methods_new'\n",
    "\n",
    "# set to categorical\n",
    "network_methods = network_methods.astype('category')\n",
    "\n",
    "# name multi-index dimensions\n",
    "network_methods.index.names = ['id', 'choice']\n",
    "network_methods"
   ]
  },
  {
   "cell_type": "markdown",
   "metadata": {},
   "source": [
    "### 3.3.3 Pandemic Impact"
   ]
  },
  {
   "cell_type": "code",
   "execution_count": 171,
   "metadata": {
    "tags": []
   },
   "outputs": [
    {
     "data": {
      "text/html": [
       "<div>\n",
       "<style scoped>\n",
       "    .dataframe tbody tr th:only-of-type {\n",
       "        vertical-align: middle;\n",
       "    }\n",
       "\n",
       "    .dataframe tbody tr th {\n",
       "        vertical-align: top;\n",
       "    }\n",
       "\n",
       "    .dataframe thead th {\n",
       "        text-align: right;\n",
       "    }\n",
       "</style>\n",
       "<table border=\"1\" class=\"dataframe\">\n",
       "  <thead>\n",
       "    <tr style=\"text-align: right;\">\n",
       "      <th></th>\n",
       "      <th>0</th>\n",
       "      <th>1</th>\n",
       "      <th>2</th>\n",
       "      <th>3</th>\n",
       "    </tr>\n",
       "  </thead>\n",
       "  <tbody>\n",
       "    <tr>\n",
       "      <th>0</th>\n",
       "      <td>Other</td>\n",
       "      <td>None</td>\n",
       "      <td>None</td>\n",
       "      <td>None</td>\n",
       "    </tr>\n",
       "    <tr>\n",
       "      <th>1</th>\n",
       "      <td>Salary reduction</td>\n",
       "      <td>None</td>\n",
       "      <td>None</td>\n",
       "      <td>None</td>\n",
       "    </tr>\n",
       "    <tr>\n",
       "      <th>2</th>\n",
       "      <td>Resigned</td>\n",
       "      <td>None</td>\n",
       "      <td>None</td>\n",
       "      <td>None</td>\n",
       "    </tr>\n",
       "    <tr>\n",
       "      <th>3</th>\n",
       "      <td>No impact</td>\n",
       "      <td>None</td>\n",
       "      <td>None</td>\n",
       "      <td>None</td>\n",
       "    </tr>\n",
       "    <tr>\n",
       "      <th>4</th>\n",
       "      <td>Other</td>\n",
       "      <td>None</td>\n",
       "      <td>None</td>\n",
       "      <td>None</td>\n",
       "    </tr>\n",
       "    <tr>\n",
       "      <th>...</th>\n",
       "      <td>...</td>\n",
       "      <td>...</td>\n",
       "      <td>...</td>\n",
       "      <td>...</td>\n",
       "    </tr>\n",
       "    <tr>\n",
       "      <th>127</th>\n",
       "      <td>No impact</td>\n",
       "      <td>None</td>\n",
       "      <td>None</td>\n",
       "      <td>None</td>\n",
       "    </tr>\n",
       "    <tr>\n",
       "      <th>128</th>\n",
       "      <td>Other</td>\n",
       "      <td>None</td>\n",
       "      <td>None</td>\n",
       "      <td>None</td>\n",
       "    </tr>\n",
       "    <tr>\n",
       "      <th>129</th>\n",
       "      <td>No impact</td>\n",
       "      <td>None</td>\n",
       "      <td>None</td>\n",
       "      <td>None</td>\n",
       "    </tr>\n",
       "    <tr>\n",
       "      <th>130</th>\n",
       "      <td>No impact</td>\n",
       "      <td>None</td>\n",
       "      <td>None</td>\n",
       "      <td>None</td>\n",
       "    </tr>\n",
       "    <tr>\n",
       "      <th>131</th>\n",
       "      <td>No impact</td>\n",
       "      <td>None</td>\n",
       "      <td>None</td>\n",
       "      <td>None</td>\n",
       "    </tr>\n",
       "  </tbody>\n",
       "</table>\n",
       "<p>123 rows × 4 columns</p>\n",
       "</div>"
      ],
      "text/plain": [
       "                    0     1     2     3\n",
       "0               Other  None  None  None\n",
       "1    Salary reduction  None  None  None\n",
       "2            Resigned  None  None  None\n",
       "3           No impact  None  None  None\n",
       "4               Other  None  None  None\n",
       "..                ...   ...   ...   ...\n",
       "127         No impact  None  None  None\n",
       "128             Other  None  None  None\n",
       "129         No impact  None  None  None\n",
       "130         No impact  None  None  None\n",
       "131         No impact  None  None  None\n",
       "\n",
       "[123 rows x 4 columns]"
      ]
     },
     "metadata": {},
     "output_type": "display_data"
    },
    {
     "data": {
      "text/plain": [
       "id   choice\n",
       "0    0                    Other\n",
       "1    0         Salary reduction\n",
       "2    0                 Resigned\n",
       "3    0                No impact\n",
       "4    0                    Other\n",
       "                     ...       \n",
       "127  0                No impact\n",
       "128  0                    Other\n",
       "129  0                No impact\n",
       "130  0                No impact\n",
       "131  0                No impact\n",
       "Name: pandemic_impact_new, Length: 155, dtype: category\n",
       "Categories (10, object): ['Became self-employed', 'Business acceleration', 'Career shift', 'Job promotion', ..., 'Other', 'Resigned', 'Sabbatical leave', 'Salary reduction']"
      ]
     },
     "execution_count": 171,
     "metadata": {},
     "output_type": "execute_result"
    }
   ],
   "source": [
    "# split strings into separate columns\n",
    "pandemic_impact = df['pandemic_impact'].str.split(',', expand = True)\n",
    "display(pandemic_impact)\n",
    "\n",
    "# Expand columns into a single variable\n",
    "# creates a multi-index\n",
    "pandemic_impact = pandemic_impact.stack()\n",
    "\n",
    "# name the derived variable\n",
    "pandemic_impact.name = 'pandemic_impact_new'\n",
    "\n",
    "# set to categorical\n",
    "pandemic_impact = pandemic_impact.astype('category')\n",
    "\n",
    "# name multi-index dimensions\n",
    "pandemic_impact.index.names = ['id', 'choice']\n",
    "pandemic_impact"
   ]
  },
  {
   "cell_type": "markdown",
   "metadata": {},
   "source": [
    "### 3.3.4 Job Constraints"
   ]
  },
  {
   "cell_type": "code",
   "execution_count": 172,
   "metadata": {},
   "outputs": [
    {
     "data": {
      "text/html": [
       "<div>\n",
       "<style scoped>\n",
       "    .dataframe tbody tr th:only-of-type {\n",
       "        vertical-align: middle;\n",
       "    }\n",
       "\n",
       "    .dataframe tbody tr th {\n",
       "        vertical-align: top;\n",
       "    }\n",
       "\n",
       "    .dataframe thead th {\n",
       "        text-align: right;\n",
       "    }\n",
       "</style>\n",
       "<table border=\"1\" class=\"dataframe\">\n",
       "  <thead>\n",
       "    <tr style=\"text-align: right;\">\n",
       "      <th></th>\n",
       "      <th>0</th>\n",
       "      <th>1</th>\n",
       "      <th>2</th>\n",
       "      <th>3</th>\n",
       "    </tr>\n",
       "  </thead>\n",
       "  <tbody>\n",
       "    <tr>\n",
       "      <th>0</th>\n",
       "      <td>Lockdown</td>\n",
       "      <td>None</td>\n",
       "      <td>None</td>\n",
       "      <td>None</td>\n",
       "    </tr>\n",
       "    <tr>\n",
       "      <th>1</th>\n",
       "      <td>Lockdown</td>\n",
       "      <td>Infection risk</td>\n",
       "      <td>None</td>\n",
       "      <td>None</td>\n",
       "    </tr>\n",
       "    <tr>\n",
       "      <th>2</th>\n",
       "      <td>Family commitment</td>\n",
       "      <td>None</td>\n",
       "      <td>None</td>\n",
       "      <td>None</td>\n",
       "    </tr>\n",
       "    <tr>\n",
       "      <th>3</th>\n",
       "      <td>Lockdown</td>\n",
       "      <td>None</td>\n",
       "      <td>None</td>\n",
       "      <td>None</td>\n",
       "    </tr>\n",
       "    <tr>\n",
       "      <th>4</th>\n",
       "      <td>Lockdown</td>\n",
       "      <td>Family commitment</td>\n",
       "      <td>Infection risk</td>\n",
       "      <td>Unknown duration of the pandemic</td>\n",
       "    </tr>\n",
       "    <tr>\n",
       "      <th>...</th>\n",
       "      <td>...</td>\n",
       "      <td>...</td>\n",
       "      <td>...</td>\n",
       "      <td>...</td>\n",
       "    </tr>\n",
       "    <tr>\n",
       "      <th>127</th>\n",
       "      <td>Infection risk</td>\n",
       "      <td>Unknown duration of the pandemic</td>\n",
       "      <td>None</td>\n",
       "      <td>None</td>\n",
       "    </tr>\n",
       "    <tr>\n",
       "      <th>128</th>\n",
       "      <td>Lockdown</td>\n",
       "      <td>Infection risk</td>\n",
       "      <td>Internet limitations</td>\n",
       "      <td>None</td>\n",
       "    </tr>\n",
       "    <tr>\n",
       "      <th>129</th>\n",
       "      <td>Lockdown</td>\n",
       "      <td>Working from home situation</td>\n",
       "      <td>None</td>\n",
       "      <td>None</td>\n",
       "    </tr>\n",
       "    <tr>\n",
       "      <th>130</th>\n",
       "      <td>Family commitment</td>\n",
       "      <td>None</td>\n",
       "      <td>None</td>\n",
       "      <td>None</td>\n",
       "    </tr>\n",
       "    <tr>\n",
       "      <th>131</th>\n",
       "      <td>Lockdown</td>\n",
       "      <td>Travel restrictions</td>\n",
       "      <td>Working from home situation</td>\n",
       "      <td>Unknown duration of the pandemic</td>\n",
       "    </tr>\n",
       "  </tbody>\n",
       "</table>\n",
       "<p>123 rows × 4 columns</p>\n",
       "</div>"
      ],
      "text/plain": [
       "                     0                                 1  \\\n",
       "0             Lockdown                              None   \n",
       "1             Lockdown                    Infection risk   \n",
       "2    Family commitment                              None   \n",
       "3             Lockdown                              None   \n",
       "4             Lockdown                 Family commitment   \n",
       "..                 ...                               ...   \n",
       "127     Infection risk  Unknown duration of the pandemic   \n",
       "128           Lockdown                    Infection risk   \n",
       "129           Lockdown       Working from home situation   \n",
       "130  Family commitment                              None   \n",
       "131           Lockdown               Travel restrictions   \n",
       "\n",
       "                               2                                 3  \n",
       "0                           None                              None  \n",
       "1                           None                              None  \n",
       "2                           None                              None  \n",
       "3                           None                              None  \n",
       "4                 Infection risk  Unknown duration of the pandemic  \n",
       "..                           ...                               ...  \n",
       "127                         None                              None  \n",
       "128         Internet limitations                              None  \n",
       "129                         None                              None  \n",
       "130                         None                              None  \n",
       "131  Working from home situation  Unknown duration of the pandemic  \n",
       "\n",
       "[123 rows x 4 columns]"
      ]
     },
     "metadata": {},
     "output_type": "display_data"
    },
    {
     "data": {
      "text/plain": [
       "id   choice\n",
       "0    0                                 Lockdown\n",
       "1    0                                 Lockdown\n",
       "     1                           Infection risk\n",
       "2    0                        Family commitment\n",
       "3    0                                 Lockdown\n",
       "                             ...               \n",
       "130  0                        Family commitment\n",
       "131  0                                 Lockdown\n",
       "     1                      Travel restrictions\n",
       "     2              Working from home situation\n",
       "     3         Unknown duration of the pandemic\n",
       "Name: job_constraints_new, Length: 287, dtype: category\n",
       "Categories (9, object): ['Family commitment', 'Health Problems', 'Infection risk', 'Internet limitations', ..., 'Other', 'Travel restrictions', 'Unknown duration of the pandemic', 'Working from home situation']"
      ]
     },
     "execution_count": 172,
     "metadata": {},
     "output_type": "execute_result"
    }
   ],
   "source": [
    "# split strings into separate columns\n",
    "job_constraints = df['job_constraints'].str.split(',', expand = True)\n",
    "display(job_constraints)\n",
    "\n",
    "# Expand columns into a single variable\n",
    "# creates a multi-index\n",
    "job_constraints = job_constraints.stack()\n",
    "\n",
    "# name the derived variable\n",
    "job_constraints.name = 'job_constraints_new'\n",
    "\n",
    "# set to categorical\n",
    "job_constraints = job_constraints.astype('category')\n",
    "\n",
    "# name multi-index dimensions\n",
    "job_constraints.index.names = ['id', 'choice']\n",
    "job_constraints"
   ]
  },
  {
   "cell_type": "markdown",
   "metadata": {},
   "source": [
    "## 3.4 Data Summary Statistics"
   ]
  },
  {
   "cell_type": "code",
   "execution_count": 173,
   "metadata": {},
   "outputs": [
    {
     "data": {
      "text/html": [
       "<div>\n",
       "<style scoped>\n",
       "    .dataframe tbody tr th:only-of-type {\n",
       "        vertical-align: middle;\n",
       "    }\n",
       "\n",
       "    .dataframe tbody tr th {\n",
       "        vertical-align: top;\n",
       "    }\n",
       "\n",
       "    .dataframe thead th {\n",
       "        text-align: right;\n",
       "    }\n",
       "</style>\n",
       "<table border=\"1\" class=\"dataframe\">\n",
       "  <thead>\n",
       "    <tr style=\"text-align: right;\">\n",
       "      <th></th>\n",
       "      <th>gender</th>\n",
       "      <th>age</th>\n",
       "      <th>country</th>\n",
       "      <th>education</th>\n",
       "      <th>emp_status</th>\n",
       "      <th>emp_period</th>\n",
       "      <th>unemp_period</th>\n",
       "      <th>resources</th>\n",
       "      <th>network_methods</th>\n",
       "      <th>pandemic_impact</th>\n",
       "      <th>job_constraints</th>\n",
       "      <th>behavior_change</th>\n",
       "      <th>self_emp_impact</th>\n",
       "      <th>women_affect</th>\n",
       "      <th>time_plan</th>\n",
       "      <th>networking</th>\n",
       "      <th>EaseOfJob</th>\n",
       "    </tr>\n",
       "  </thead>\n",
       "  <tbody>\n",
       "    <tr>\n",
       "      <th>count</th>\n",
       "      <td>123</td>\n",
       "      <td>123</td>\n",
       "      <td>123</td>\n",
       "      <td>123</td>\n",
       "      <td>123</td>\n",
       "      <td>80</td>\n",
       "      <td>46</td>\n",
       "      <td>123</td>\n",
       "      <td>123</td>\n",
       "      <td>123</td>\n",
       "      <td>123</td>\n",
       "      <td>123</td>\n",
       "      <td>123</td>\n",
       "      <td>123</td>\n",
       "      <td>123</td>\n",
       "      <td>123</td>\n",
       "      <td>123</td>\n",
       "    </tr>\n",
       "    <tr>\n",
       "      <th>unique</th>\n",
       "      <td>2</td>\n",
       "      <td>5</td>\n",
       "      <td>17</td>\n",
       "      <td>6</td>\n",
       "      <td>7</td>\n",
       "      <td>3</td>\n",
       "      <td>3</td>\n",
       "      <td>61</td>\n",
       "      <td>46</td>\n",
       "      <td>27</td>\n",
       "      <td>62</td>\n",
       "      <td>5</td>\n",
       "      <td>5</td>\n",
       "      <td>5</td>\n",
       "      <td>5</td>\n",
       "      <td>5</td>\n",
       "      <td>5</td>\n",
       "    </tr>\n",
       "    <tr>\n",
       "      <th>top</th>\n",
       "      <td>Female</td>\n",
       "      <td>35 to 44</td>\n",
       "      <td>United Kingdom</td>\n",
       "      <td>Master’s degree</td>\n",
       "      <td>Employed</td>\n",
       "      <td>Before Covid-19 pandemic</td>\n",
       "      <td>Before Covid-19 pandemic</td>\n",
       "      <td>Career websites (e.g., LinkedIn, Indeed, ...)</td>\n",
       "      <td>Career websites</td>\n",
       "      <td>No impact</td>\n",
       "      <td>Other</td>\n",
       "      <td>Agree</td>\n",
       "      <td>Strongly agree</td>\n",
       "      <td>Neither agree nor disagree</td>\n",
       "      <td>Agree</td>\n",
       "      <td>Agree</td>\n",
       "      <td>Disagree</td>\n",
       "    </tr>\n",
       "    <tr>\n",
       "      <th>freq</th>\n",
       "      <td>66</td>\n",
       "      <td>72</td>\n",
       "      <td>27</td>\n",
       "      <td>54</td>\n",
       "      <td>64</td>\n",
       "      <td>53</td>\n",
       "      <td>26</td>\n",
       "      <td>12</td>\n",
       "      <td>16</td>\n",
       "      <td>39</td>\n",
       "      <td>14</td>\n",
       "      <td>78</td>\n",
       "      <td>55</td>\n",
       "      <td>47</td>\n",
       "      <td>48</td>\n",
       "      <td>62</td>\n",
       "      <td>39</td>\n",
       "    </tr>\n",
       "  </tbody>\n",
       "</table>\n",
       "</div>"
      ],
      "text/plain": [
       "        gender       age         country        education emp_status  \\\n",
       "count      123       123             123              123        123   \n",
       "unique       2         5              17                6          7   \n",
       "top     Female  35 to 44  United Kingdom  Master’s degree   Employed   \n",
       "freq        66        72              27               54         64   \n",
       "\n",
       "                      emp_period              unemp_period  \\\n",
       "count                         80                        46   \n",
       "unique                         3                         3   \n",
       "top     Before Covid-19 pandemic  Before Covid-19 pandemic   \n",
       "freq                          53                        26   \n",
       "\n",
       "                                            resources  network_methods  \\\n",
       "count                                             123              123   \n",
       "unique                                             61               46   \n",
       "top     Career websites (e.g., LinkedIn, Indeed, ...)  Career websites   \n",
       "freq                                               12               16   \n",
       "\n",
       "       pandemic_impact job_constraints behavior_change self_emp_impact  \\\n",
       "count              123             123             123             123   \n",
       "unique              27              62               5               5   \n",
       "top          No impact           Other           Agree  Strongly agree   \n",
       "freq                39              14              78              55   \n",
       "\n",
       "                      women_affect time_plan networking EaseOfJob  \n",
       "count                          123       123        123       123  \n",
       "unique                           5         5          5         5  \n",
       "top     Neither agree nor disagree     Agree      Agree  Disagree  \n",
       "freq                            47        48         62        39  "
      ]
     },
     "execution_count": 173,
     "metadata": {},
     "output_type": "execute_result"
    }
   ],
   "source": [
    "# create a summary table, no need to specify any method as all the variables are categorical \n",
    "df.describe()"
   ]
  },
  {
   "cell_type": "markdown",
   "metadata": {},
   "source": [
    "> The survey was distributed randomly among 132 various people from 17 countries. The female responses exceeded the number of males. Furthermore, 'pandemic_impact' appears to have only 27 unique answers, which illustrates people impacted by the pandemic differently. Employed respondents were higher than all of the other employments status."
   ]
  },
  {
   "cell_type": "markdown",
   "metadata": {},
   "source": [
    "### 3.4.1 Summary of Demographics and Key Findings"
   ]
  },
  {
   "cell_type": "code",
   "execution_count": 174,
   "metadata": {},
   "outputs": [
    {
     "data": {
      "text/html": [
       "<div>\n",
       "<style scoped>\n",
       "    .dataframe tbody tr th:only-of-type {\n",
       "        vertical-align: middle;\n",
       "    }\n",
       "\n",
       "    .dataframe tbody tr th {\n",
       "        vertical-align: top;\n",
       "    }\n",
       "\n",
       "    .dataframe thead th {\n",
       "        text-align: right;\n",
       "    }\n",
       "</style>\n",
       "<table border=\"1\" class=\"dataframe\">\n",
       "  <thead>\n",
       "    <tr style=\"text-align: right;\">\n",
       "      <th></th>\n",
       "      <th>count</th>\n",
       "    </tr>\n",
       "    <tr>\n",
       "      <th>emp_status</th>\n",
       "      <th></th>\n",
       "    </tr>\n",
       "  </thead>\n",
       "  <tbody>\n",
       "    <tr>\n",
       "      <th>Employed</th>\n",
       "      <td>64</td>\n",
       "    </tr>\n",
       "    <tr>\n",
       "      <th>Unemployed- Looking for work</th>\n",
       "      <td>28</td>\n",
       "    </tr>\n",
       "    <tr>\n",
       "      <th>Self-employed</th>\n",
       "      <td>12</td>\n",
       "    </tr>\n",
       "    <tr>\n",
       "      <th>Looking after family</th>\n",
       "      <td>8</td>\n",
       "    </tr>\n",
       "    <tr>\n",
       "      <th>Unemployed- Not looking for work</th>\n",
       "      <td>5</td>\n",
       "    </tr>\n",
       "    <tr>\n",
       "      <th>Student</th>\n",
       "      <td>4</td>\n",
       "    </tr>\n",
       "    <tr>\n",
       "      <th>Other</th>\n",
       "      <td>2</td>\n",
       "    </tr>\n",
       "  </tbody>\n",
       "</table>\n",
       "</div>"
      ],
      "text/plain": [
       "                                  count\n",
       "emp_status                             \n",
       "Employed                             64\n",
       "Unemployed- Looking for work         28\n",
       "Self-employed                        12\n",
       "Looking after family                  8\n",
       "Unemployed- Not looking for work      5\n",
       "Student                               4\n",
       "Other                                 2"
      ]
     },
     "execution_count": 174,
     "metadata": {},
     "output_type": "execute_result"
    }
   ],
   "source": [
    "# summarise the frequency for employment status\n",
    "emp_status_count = df['emp_status'].value_counts().rename_axis('emp_status').to_frame('count')\n",
    "emp_status_count"
   ]
  },
  {
   "cell_type": "code",
   "execution_count": 176,
   "metadata": {},
   "outputs": [
    {
     "data": {
      "text/html": [
       "<div>\n",
       "<style scoped>\n",
       "    .dataframe tbody tr th:only-of-type {\n",
       "        vertical-align: middle;\n",
       "    }\n",
       "\n",
       "    .dataframe tbody tr th {\n",
       "        vertical-align: top;\n",
       "    }\n",
       "\n",
       "    .dataframe thead th {\n",
       "        text-align: right;\n",
       "    }\n",
       "</style>\n",
       "<table border=\"1\" class=\"dataframe\">\n",
       "  <thead>\n",
       "    <tr style=\"text-align: right;\">\n",
       "      <th></th>\n",
       "      <th>count</th>\n",
       "    </tr>\n",
       "    <tr>\n",
       "      <th>emp_period</th>\n",
       "      <th></th>\n",
       "    </tr>\n",
       "  </thead>\n",
       "  <tbody>\n",
       "    <tr>\n",
       "      <th>Before Covid-19 pandemic</th>\n",
       "      <td>53</td>\n",
       "    </tr>\n",
       "    <tr>\n",
       "      <th>During Covid-19 pandemic</th>\n",
       "      <td>20</td>\n",
       "    </tr>\n",
       "    <tr>\n",
       "      <th>Prefer not to say</th>\n",
       "      <td>7</td>\n",
       "    </tr>\n",
       "  </tbody>\n",
       "</table>\n",
       "</div>"
      ],
      "text/plain": [
       "                          count\n",
       "emp_period                     \n",
       "Before Covid-19 pandemic     53\n",
       "During Covid-19 pandemic     20\n",
       "Prefer not to say             7"
      ]
     },
     "execution_count": 176,
     "metadata": {},
     "output_type": "execute_result"
    }
   ],
   "source": [
    "# summarise the frequency for employment period\n",
    "emp_period_count = df['emp_period'].value_counts().rename_axis('emp_period').to_frame('count')\n",
    "emp_period_count"
   ]
  },
  {
   "cell_type": "code",
   "execution_count": 175,
   "metadata": {},
   "outputs": [
    {
     "data": {
      "text/html": [
       "<div>\n",
       "<style scoped>\n",
       "    .dataframe tbody tr th:only-of-type {\n",
       "        vertical-align: middle;\n",
       "    }\n",
       "\n",
       "    .dataframe tbody tr th {\n",
       "        vertical-align: top;\n",
       "    }\n",
       "\n",
       "    .dataframe thead th {\n",
       "        text-align: right;\n",
       "    }\n",
       "</style>\n",
       "<table border=\"1\" class=\"dataframe\">\n",
       "  <thead>\n",
       "    <tr style=\"text-align: right;\">\n",
       "      <th></th>\n",
       "      <th>count</th>\n",
       "    </tr>\n",
       "    <tr>\n",
       "      <th>unemp_period</th>\n",
       "      <th></th>\n",
       "    </tr>\n",
       "  </thead>\n",
       "  <tbody>\n",
       "    <tr>\n",
       "      <th>Before Covid-19 pandemic</th>\n",
       "      <td>26</td>\n",
       "    </tr>\n",
       "    <tr>\n",
       "      <th>During Covid-19 pandemic</th>\n",
       "      <td>13</td>\n",
       "    </tr>\n",
       "    <tr>\n",
       "      <th>Prefer not to say</th>\n",
       "      <td>7</td>\n",
       "    </tr>\n",
       "  </tbody>\n",
       "</table>\n",
       "</div>"
      ],
      "text/plain": [
       "                          count\n",
       "unemp_period                   \n",
       "Before Covid-19 pandemic     26\n",
       "During Covid-19 pandemic     13\n",
       "Prefer not to say             7"
      ]
     },
     "execution_count": 175,
     "metadata": {},
     "output_type": "execute_result"
    }
   ],
   "source": [
    "# summarise the frequency for unemployment period\n",
    "unemp_period_count = df['unemp_period'].value_counts().rename_axis('unemp_period').to_frame('count')\n",
    "unemp_period_count"
   ]
  },
  {
   "cell_type": "code",
   "execution_count": 177,
   "metadata": {},
   "outputs": [
    {
     "data": {
      "text/html": [
       "<div>\n",
       "<style scoped>\n",
       "    .dataframe tbody tr th:only-of-type {\n",
       "        vertical-align: middle;\n",
       "    }\n",
       "\n",
       "    .dataframe tbody tr th {\n",
       "        vertical-align: top;\n",
       "    }\n",
       "\n",
       "    .dataframe thead th {\n",
       "        text-align: right;\n",
       "    }\n",
       "</style>\n",
       "<table border=\"1\" class=\"dataframe\">\n",
       "  <thead>\n",
       "    <tr style=\"text-align: right;\">\n",
       "      <th></th>\n",
       "      <th>count</th>\n",
       "    </tr>\n",
       "    <tr>\n",
       "      <th>resources</th>\n",
       "      <th></th>\n",
       "    </tr>\n",
       "  </thead>\n",
       "  <tbody>\n",
       "    <tr>\n",
       "      <th>Career websites</th>\n",
       "      <td>79</td>\n",
       "    </tr>\n",
       "    <tr>\n",
       "      <th>Networking</th>\n",
       "      <td>71</td>\n",
       "    </tr>\n",
       "    <tr>\n",
       "      <th>Friends/ Colleagues</th>\n",
       "      <td>62</td>\n",
       "    </tr>\n",
       "    <tr>\n",
       "      <th>Recruitment agencies</th>\n",
       "      <td>47</td>\n",
       "    </tr>\n",
       "    <tr>\n",
       "      <th>Social media</th>\n",
       "      <td>46</td>\n",
       "    </tr>\n",
       "    <tr>\n",
       "      <th>Email</th>\n",
       "      <td>21</td>\n",
       "    </tr>\n",
       "    <tr>\n",
       "      <th>Job fairs</th>\n",
       "      <td>12</td>\n",
       "    </tr>\n",
       "    <tr>\n",
       "      <th>In-Person campus visits</th>\n",
       "      <td>8</td>\n",
       "    </tr>\n",
       "    <tr>\n",
       "      <th>Other</th>\n",
       "      <td>7</td>\n",
       "    </tr>\n",
       "    <tr>\n",
       "      <th>Newspapers</th>\n",
       "      <td>7</td>\n",
       "    </tr>\n",
       "  </tbody>\n",
       "</table>\n",
       "</div>"
      ],
      "text/plain": [
       "                         count\n",
       "resources                     \n",
       "Career websites             79\n",
       "Networking                  71\n",
       "Friends/ Colleagues         62\n",
       "Recruitment agencies        47\n",
       "Social media                46\n",
       "Email                       21\n",
       "Job fairs                   12\n",
       "In-Person campus visits      8\n",
       "Other                        7\n",
       "Newspapers                   7"
      ]
     },
     "execution_count": 177,
     "metadata": {},
     "output_type": "execute_result"
    }
   ],
   "source": [
    "# summarise the frequency for resources\n",
    "df_resources_count = df_resources.value_counts().rename_axis('resources').to_frame('count')\n",
    "df_resources_count"
   ]
  },
  {
   "cell_type": "code",
   "execution_count": 178,
   "metadata": {},
   "outputs": [
    {
     "data": {
      "text/html": [
       "<div>\n",
       "<style scoped>\n",
       "    .dataframe tbody tr th:only-of-type {\n",
       "        vertical-align: middle;\n",
       "    }\n",
       "\n",
       "    .dataframe tbody tr th {\n",
       "        vertical-align: top;\n",
       "    }\n",
       "\n",
       "    .dataframe thead th {\n",
       "        text-align: right;\n",
       "    }\n",
       "</style>\n",
       "<table border=\"1\" class=\"dataframe\">\n",
       "  <thead>\n",
       "    <tr style=\"text-align: right;\">\n",
       "      <th></th>\n",
       "      <th>count</th>\n",
       "    </tr>\n",
       "    <tr>\n",
       "      <th>pandemic_impact</th>\n",
       "      <th></th>\n",
       "    </tr>\n",
       "  </thead>\n",
       "  <tbody>\n",
       "    <tr>\n",
       "      <th>No impact</th>\n",
       "      <td>41</td>\n",
       "    </tr>\n",
       "    <tr>\n",
       "      <th>Other</th>\n",
       "      <td>32</td>\n",
       "    </tr>\n",
       "    <tr>\n",
       "      <th>Salary reduction</th>\n",
       "      <td>25</td>\n",
       "    </tr>\n",
       "    <tr>\n",
       "      <th>Career shift</th>\n",
       "      <td>13</td>\n",
       "    </tr>\n",
       "    <tr>\n",
       "      <th>Business acceleration</th>\n",
       "      <td>11</td>\n",
       "    </tr>\n",
       "    <tr>\n",
       "      <th>Job promotion</th>\n",
       "      <td>10</td>\n",
       "    </tr>\n",
       "    <tr>\n",
       "      <th>Resigned</th>\n",
       "      <td>7</td>\n",
       "    </tr>\n",
       "    <tr>\n",
       "      <th>Laid off</th>\n",
       "      <td>7</td>\n",
       "    </tr>\n",
       "    <tr>\n",
       "      <th>Became self-employed</th>\n",
       "      <td>7</td>\n",
       "    </tr>\n",
       "    <tr>\n",
       "      <th>Sabbatical leave</th>\n",
       "      <td>2</td>\n",
       "    </tr>\n",
       "  </tbody>\n",
       "</table>\n",
       "</div>"
      ],
      "text/plain": [
       "                       count\n",
       "pandemic_impact             \n",
       "No impact                 41\n",
       "Other                     32\n",
       "Salary reduction          25\n",
       "Career shift              13\n",
       "Business acceleration     11\n",
       "Job promotion             10\n",
       "Resigned                   7\n",
       "Laid off                   7\n",
       "Became self-employed       7\n",
       "Sabbatical leave           2"
      ]
     },
     "execution_count": 178,
     "metadata": {},
     "output_type": "execute_result"
    }
   ],
   "source": [
    "# summarise the frequency for pandemic impact\n",
    "pandemic_impact_count = pandemic_impact.value_counts().rename_axis('pandemic_impact').to_frame('count')\n",
    "pandemic_impact_count"
   ]
  },
  {
   "cell_type": "markdown",
   "metadata": {},
   "source": [
    "# 4. Analysis and Results"
   ]
  },
  {
   "cell_type": "markdown",
   "metadata": {},
   "source": [
    "## 4.1 Univariate Analysis"
   ]
  },
  {
   "cell_type": "markdown",
   "metadata": {},
   "source": [
    "### 4.1.1 Summary of Demographics"
   ]
  },
  {
   "cell_type": "markdown",
   "metadata": {},
   "source": [
    "### Gender Frequency"
   ]
  },
  {
   "cell_type": "code",
   "execution_count": 179,
   "metadata": {},
   "outputs": [
    {
     "data": {
      "image/png": "[encoded data removed]",
      "text/plain": [
       "<Figure size 432x288 with 1 Axes>"
      ]
     },
     "metadata": {
      "needs_background": "light"
     },
     "output_type": "display_data"
    }
   ],
   "source": [
    "# generate a bar chart for gender\n",
    "ax = df['gender'].value_counts().plot.bar()\n",
    "\n",
    "# set the axes labels and the title\n",
    "ax.set_xlabel('Gender')\n",
    "ax.set_ylabel('Frequency')\n",
    "ax.set_title('Survey respondents: Gender')\n",
    "ax.tick_params(axis='x', rotation=0)\n",
    "\n",
    "plt.show()"
   ]
  },
  {
   "cell_type": "markdown",
   "metadata": {},
   "source": [
    "> A slightly high number of respondents are females compared to males"
   ]
  },
  {
   "cell_type": "markdown",
   "metadata": {},
   "source": [
    "### Age Frequency"
   ]
  },
  {
   "cell_type": "code",
   "execution_count": 180,
   "metadata": {},
   "outputs": [
    {
     "data": {
      "image/png": "[encoded data removed]",
      "text/plain": [
       "<Figure size 432x288 with 1 Axes>"
      ]
     },
     "metadata": {
      "needs_background": "light"
     },
     "output_type": "display_data"
    }
   ],
   "source": [
    "# generate a bar chart for age\n",
    "ax = df['age'].value_counts().plot.bar()\n",
    "\n",
    "# set the axes labels and the title\n",
    "ax.set_xlabel('Age')\n",
    "ax.set_ylabel('Frequency')\n",
    "ax.set_title('Survey respondents: Age')\n",
    "ax.tick_params(axis='x', rotation=0)\n",
    "\n",
    "plt.show()"
   ]
  },
  {
   "cell_type": "markdown",
   "metadata": {},
   "source": [
    "> As expected, more than half have age between 35 to 44 followed by 25 to 34."
   ]
  },
  {
   "cell_type": "markdown",
   "metadata": {},
   "source": [
    "### Country Frequency"
   ]
  },
  {
   "cell_type": "code",
   "execution_count": 181,
   "metadata": {},
   "outputs": [
    {
     "data": {
      "image/png": "[encoded data removed]",
      "text/plain": [
       "<Figure size 432x288 with 1 Axes>"
      ]
     },
     "metadata": {
      "needs_background": "light"
     },
     "output_type": "display_data"
    }
   ],
   "source": [
    "# generate a bar chart for country\n",
    "ax = df['country'].value_counts().plot.barh()\n",
    "\n",
    "# set the axes labels and the title\n",
    "ax.set_xlabel('Frequency')\n",
    "ax.set_ylabel('Country')\n",
    "ax.set_title('Survey respondents: Country of Residence')\n",
    "\n",
    "# invert the y-axis to set the highest category to be at the top of the plot\n",
    "ax.invert_yaxis()\n",
    "\n",
    "plt.show()"
   ]
  },
  {
   "cell_type": "markdown",
   "metadata": {},
   "source": [
    "> In country wise distribution, most of the participants are from United Kingdom and Sudan followed by Bahrain, Canada and US. Those countries represent around 80% of the respondents."
   ]
  },
  {
   "cell_type": "markdown",
   "metadata": {},
   "source": [
    "### Education Frequency"
   ]
  },
  {
   "cell_type": "code",
   "execution_count": 182,
   "metadata": {},
   "outputs": [
    {
     "data": {
      "image/png": "[encoded data removed]",
      "text/plain": [
       "<Figure size 432x288 with 1 Axes>"
      ]
     },
     "metadata": {
      "needs_background": "light"
     },
     "output_type": "display_data"
    }
   ],
   "source": [
    "# generate a bar chart for education\n",
    "ax = df['education'].value_counts().plot.barh()\n",
    "\n",
    "# set the axes labels and the title\n",
    "ax.set_xlabel('Frequency')\n",
    "ax.set_ylabel('Education Level')\n",
    "ax.set_title('Survey respondents: Level of Eduction')\n",
    "\n",
    "# invert the y-axis to set the highest category to be at the top of the plot\n",
    "ax.invert_yaxis()\n",
    "\n",
    "plt.show()"
   ]
  },
  {
   "cell_type": "markdown",
   "metadata": {},
   "source": [
    "### Employment Status Frequency\n",
    "\n",
    "> The following data frame divides the population into three main groups: Employed, Self-employed and Unemployed & Looking for work. The below chart shows the contribution of each group to the entire population"
   ]
  },
  {
   "cell_type": "code",
   "execution_count": 183,
   "metadata": {},
   "outputs": [
    {
     "data": {
      "image/png": "[encoded data removed]",
      "text/plain": [
       "<Figure size 432x288 with 1 Axes>"
      ]
     },
     "metadata": {
      "needs_background": "light"
     },
     "output_type": "display_data"
    }
   ],
   "source": [
    "# generate a bar chart for employed status\n",
    "ax = df['emp_status'].value_counts().plot.barh()\n",
    "\n",
    "# set the axes labels and the title\n",
    "ax.set_xlabel('Frequency')\n",
    "ax.set_ylabel('Employment status')\n",
    "ax.set_title('Survey Respondents: Employment Status')\n",
    "\n",
    "# invert the y-axis to set the highest category to be at the top of the plot\n",
    "ax.invert_yaxis()\n",
    "\n",
    "plt.show()"
   ]
  },
  {
   "cell_type": "markdown",
   "metadata": {},
   "source": [
    "> Over half of those surveyed reported that they are employees (including self-employed)"
   ]
  },
  {
   "cell_type": "markdown",
   "metadata": {},
   "source": [
    "### 4.1.2 Summary of Key Variables"
   ]
  },
  {
   "cell_type": "markdown",
   "metadata": {},
   "source": [
    "### Time of Getting New Job"
   ]
  },
  {
   "cell_type": "code",
   "execution_count": 184,
   "metadata": {},
   "outputs": [
    {
     "data": {
      "text/plain": [
       "<AxesSubplot:title={'center':'Survey Respondents: Employment Period'}>"
      ]
     },
     "execution_count": 184,
     "metadata": {},
     "output_type": "execute_result"
    },
    {
     "data": {
      "image/png": "[encoded data removed]",
      "text/plain": [
       "<Figure size 432x288 with 1 Axes>"
      ]
     },
     "metadata": {},
     "output_type": "display_data"
    }
   ],
   "source": [
    "# plot a pie chart for 'emp_period' clockwise with one decimal places and place the largest category on the top\n",
    "df['emp_period'].value_counts().plot.pie(title = \"Survey Respondents: Employment Period\", # set the title\n",
    "                                        autopct = '%1.1f%%', #  add percent labels to zero decimal places\n",
    "                                        startangle = 180, # place the largest category across the top of the plot\n",
    "                                        counterclock=False, label='') # draw the chart into clockwise"
   ]
  },
  {
   "cell_type": "markdown",
   "metadata": {},
   "source": [
    "### Time of Losing Job"
   ]
  },
  {
   "cell_type": "code",
   "execution_count": 185,
   "metadata": {},
   "outputs": [
    {
     "data": {
      "text/plain": [
       "<AxesSubplot:title={'center':'Survey Respondents: Unemployment Period'}>"
      ]
     },
     "execution_count": 185,
     "metadata": {},
     "output_type": "execute_result"
    },
    {
     "data": {
      "image/png": "[encoded data removed]",
      "text/plain": [
       "<Figure size 432x288 with 1 Axes>"
      ]
     },
     "metadata": {},
     "output_type": "display_data"
    }
   ],
   "source": [
    "# plot a pie chart for 'unemp_period' clockwise with one decimal places and place the largest category on the top\n",
    "df['unemp_period'].value_counts().plot.pie(title = \"Survey Respondents: Unemployment Period\", # set the title\n",
    "                                        autopct = '%1.1f%%', #  add percent labels to zero decimal places\n",
    "                                        startangle = 180, # place the largest category across the top of the plot\n",
    "                                        counterclock=False, label='') # draw the chart into clockwise"
   ]
  },
  {
   "cell_type": "markdown",
   "metadata": {},
   "source": [
    "> Most of the employed respondents highlighted that they were already employed before the pandemic and more than half of the unemployed respondents reported that they lost their jobs and became unemployed before the pandemic.\n",
    "\n",
    "> Another possible explanation for this might be that the pandemic only started in early 2020. thus a comparison of the two results seems to be consistent with the above outcome that employed respondents had no or minor negative impact due to covid"
   ]
  },
  {
   "cell_type": "markdown",
   "metadata": {},
   "source": [
    "### Resources Frequency"
   ]
  },
  {
   "cell_type": "code",
   "execution_count": 187,
   "metadata": {},
   "outputs": [
    {
     "data": {
      "image/png": "[encoded data removed]",
      "text/plain": [
       "<Figure size 432x288 with 1 Axes>"
      ]
     },
     "metadata": {
      "needs_background": "light"
     },
     "output_type": "display_data"
    }
   ],
   "source": [
    "# summarise the frequency for resources\n",
    "df_resources_count = df_resources.value_counts().rename_axis('resources').to_frame('count')\n",
    "ax = df_resources_count.plot.barh(legend = False)\n",
    "\n",
    "# set the axes labels and the title\n",
    "ax.set_xlabel('frequency')\n",
    "ax.set_ylabel('resources')\n",
    "ax.set_title('Survey Respondents: Resources')\n",
    "\n",
    "# invert the y-axis to set the highest category to be at the top of the plot\n",
    "ax.invert_yaxis()\n",
    "\n",
    "plt.show()"
   ]
  },
  {
   "cell_type": "markdown",
   "metadata": {},
   "source": [
    "> The top 3 resources are Career websites, Networking and utilizing Friends/Colleagues "
   ]
  },
  {
   "cell_type": "markdown",
   "metadata": {},
   "source": [
    "### Pandemic Impact Frequency"
   ]
  },
  {
   "cell_type": "code",
   "execution_count": 188,
   "metadata": {},
   "outputs": [
    {
     "data": {
      "image/png": "[encoded data removed]",
      "text/plain": [
       "<Figure size 432x288 with 1 Axes>"
      ]
     },
     "metadata": {
      "needs_background": "light"
     },
     "output_type": "display_data"
    }
   ],
   "source": [
    "# summarise the frequency for pandemic impact\n",
    "pandemic_impact_count = pandemic_impact.value_counts().rename_axis('pandemic_impact').to_frame('count')\n",
    "ax = pandemic_impact_count.plot.barh(legend = False)\n",
    "\n",
    "# set the axes labels and the title\n",
    "ax.set_xlabel('Frequency')\n",
    "ax.set_ylabel('Pandemic Impact')\n",
    "ax.set_title('Survey Respondents: Pandemic Impact')\n",
    "\n",
    "# invert the y-axis to set the highest category to be at the top of the plot\n",
    "ax.invert_yaxis()\n",
    "\n",
    "plt.show()"
   ]
  },
  {
   "cell_type": "markdown",
   "metadata": {},
   "source": [
    "### Average Score for Likert Scale Questions"
   ]
  },
  {
   "cell_type": "markdown",
   "metadata": {},
   "source": [
    "> When analysing a 5-level likert scale the possible responses to each of the 6 questions are: Strongly disagree, Disagree, Neither agree nor disagree, Agree, and Strongly agree."
   ]
  },
  {
   "cell_type": "code",
   "execution_count": 189,
   "metadata": {
    "tags": []
   },
   "outputs": [
    {
     "data": {
      "image/png": "[encoded data removed]",
      "text/plain": [
       "<Figure size 432x288 with 1 Axes>"
      ]
     },
     "metadata": {
      "needs_background": "light"
     },
     "output_type": "display_data"
    }
   ],
   "source": [
    "# encode these ordinal questions to get the respondent's average in each question the plot it\n",
    "data = df.iloc[:, 11:17]\n",
    "code = data[['behavior_change', 'self_emp_impact', 'women_affect', 'time_plan', 'networking', 'EaseOfJob']] = data[['behavior_change', 'self_emp_impact', 'women_affect', 'time_plan', 'networking', 'EaseOfJob']].replace({\n",
    "    'Strongly disagree': 1,\n",
    "    'Disagree': 2, \n",
    "    'Neither agree nor disagree': 3, \n",
    "    'Agree': 4, \n",
    "    'Strongly agree': 5})\n",
    "\n",
    "# display(code.head())\n",
    "\n",
    "table = pd.DataFrame(code.mean(), columns = ['mean'])\n",
    "# display(table)\n",
    "\n",
    "ax = table.plot.barh(legend = False)\n",
    "ax.set_title('Likert Scale Responses Average')\n",
    "ax.set_xlabel('Mean')\n",
    "\n",
    "plt.show()"
   ]
  },
  {
   "cell_type": "markdown",
   "metadata": {},
   "source": [
    "> The mean score for the likert scale was highest for the question whether \"Pandemic has a huge impact on self-employed\""
   ]
  },
  {
   "cell_type": "markdown",
   "metadata": {},
   "source": [
    "### Diverging Stacked Bar Chart for Likert Scale Questions"
   ]
  },
  {
   "cell_type": "code",
   "execution_count": 190,
   "metadata": {},
   "outputs": [
    {
     "data": {
      "text/plain": [
       "<AxesSubplot:xlabel='Percentage of Responses'>"
      ]
     },
     "execution_count": 190,
     "metadata": {},
     "output_type": "execute_result"
    },
    {
     "data": {
      "image/png": "[encoded data removed]",
      "text/plain": [
       "<Figure size 432x288 with 1 Axes>"
      ]
     },
     "metadata": {
      "needs_background": "light"
     },
     "output_type": "display_data"
    }
   ],
   "source": [
    "# slice the six Likert scake questions\n",
    "data = df.iloc[:, 11:17]\n",
    "\n",
    "# plot likert scale question using plot_likert library, sorted by highest value\n",
    "# using a likert package for R\n",
    "plot_likert.plot_likert(data, plot_likert.scales.agree, plot_percentage = True )"
   ]
  },
  {
   "cell_type": "markdown",
   "metadata": {},
   "source": [
    "> Respondents were asked to indicate whether they allocate a specific time frame to search for a job (i.e. daily, weekly, etc.). Almost two-thirds of the participants said they had dedicated time to the activities that will help them get hired."
   ]
  },
  {
   "cell_type": "markdown",
   "metadata": {},
   "source": [
    "## 4.2 Bivariate Analysis"
   ]
  },
  {
   "cell_type": "markdown",
   "metadata": {},
   "source": [
    "### The Status of Employment in each Continent"
   ]
  },
  {
   "cell_type": "code",
   "execution_count": 191,
   "metadata": {
    "tags": []
   },
   "outputs": [
    {
     "data": {
      "text/html": [
       "<div>\n",
       "<style scoped>\n",
       "    .dataframe tbody tr th:only-of-type {\n",
       "        vertical-align: middle;\n",
       "    }\n",
       "\n",
       "    .dataframe tbody tr th {\n",
       "        vertical-align: top;\n",
       "    }\n",
       "\n",
       "    .dataframe thead th {\n",
       "        text-align: right;\n",
       "    }\n",
       "</style>\n",
       "<table border=\"1\" class=\"dataframe\">\n",
       "  <thead>\n",
       "    <tr style=\"text-align: right;\">\n",
       "      <th></th>\n",
       "      <th>gender</th>\n",
       "      <th>age</th>\n",
       "      <th>country</th>\n",
       "      <th>education</th>\n",
       "      <th>emp_status</th>\n",
       "      <th>emp_period</th>\n",
       "      <th>unemp_period</th>\n",
       "      <th>resources</th>\n",
       "      <th>network_methods</th>\n",
       "      <th>pandemic_impact</th>\n",
       "      <th>job_constraints</th>\n",
       "      <th>behavior_change</th>\n",
       "      <th>self_emp_impact</th>\n",
       "      <th>women_affect</th>\n",
       "      <th>time_plan</th>\n",
       "      <th>networking</th>\n",
       "      <th>EaseOfJob</th>\n",
       "      <th>continent</th>\n",
       "    </tr>\n",
       "  </thead>\n",
       "  <tbody>\n",
       "    <tr>\n",
       "      <th>0</th>\n",
       "      <td>Female</td>\n",
       "      <td>25 to 34</td>\n",
       "      <td>Bahrain</td>\n",
       "      <td>Master’s degree</td>\n",
       "      <td>Unemployed- Not looking for work</td>\n",
       "      <td>NaN</td>\n",
       "      <td>Before Covid-19 pandemic</td>\n",
       "      <td>Networking,Social media,Career websites (e.g.,...</td>\n",
       "      <td>Discussion groups/ forums,Social media,Career ...</td>\n",
       "      <td>Other</td>\n",
       "      <td>Lockdown</td>\n",
       "      <td>Agree</td>\n",
       "      <td>Strongly agree</td>\n",
       "      <td>Strongly agree</td>\n",
       "      <td>Disagree</td>\n",
       "      <td>Agree</td>\n",
       "      <td>Strongly disagree</td>\n",
       "      <td>Asia</td>\n",
       "    </tr>\n",
       "    <tr>\n",
       "      <th>1</th>\n",
       "      <td>Female</td>\n",
       "      <td>25 to 34</td>\n",
       "      <td>United Arab Emirates</td>\n",
       "      <td>Master’s degree</td>\n",
       "      <td>Employed</td>\n",
       "      <td>During Covid-19 pandemic</td>\n",
       "      <td>NaN</td>\n",
       "      <td>Social media,Career websites (e.g., LinkedIn, ...</td>\n",
       "      <td>Career websites</td>\n",
       "      <td>Salary reduction</td>\n",
       "      <td>Lockdown,Infection risk</td>\n",
       "      <td>Strongly agree</td>\n",
       "      <td>Agree</td>\n",
       "      <td>Agree</td>\n",
       "      <td>Strongly agree</td>\n",
       "      <td>Agree</td>\n",
       "      <td>Neither agree nor disagree</td>\n",
       "      <td>Asia</td>\n",
       "    </tr>\n",
       "    <tr>\n",
       "      <th>2</th>\n",
       "      <td>Female</td>\n",
       "      <td>25 to 34</td>\n",
       "      <td>United States</td>\n",
       "      <td>High school or below</td>\n",
       "      <td>Unemployed- Looking for work</td>\n",
       "      <td>NaN</td>\n",
       "      <td>During Covid-19 pandemic</td>\n",
       "      <td>Friends/ Colleagues,Recruitment agencies,Socia...</td>\n",
       "      <td>Friends/ colleagues,Social media,Career websites</td>\n",
       "      <td>Resigned</td>\n",
       "      <td>Family commitment</td>\n",
       "      <td>Agree</td>\n",
       "      <td>Strongly agree</td>\n",
       "      <td>Disagree</td>\n",
       "      <td>Neither agree nor disagree</td>\n",
       "      <td>Agree</td>\n",
       "      <td>Neither agree nor disagree</td>\n",
       "      <td>North America</td>\n",
       "    </tr>\n",
       "  </tbody>\n",
       "</table>\n",
       "</div>"
      ],
      "text/plain": [
       "   gender       age               country             education  \\\n",
       "0  Female  25 to 34               Bahrain       Master’s degree   \n",
       "1  Female  25 to 34  United Arab Emirates       Master’s degree   \n",
       "2  Female  25 to 34         United States  High school or below   \n",
       "\n",
       "                         emp_status                emp_period  \\\n",
       "0  Unemployed- Not looking for work                       NaN   \n",
       "1                          Employed  During Covid-19 pandemic   \n",
       "2      Unemployed- Looking for work                       NaN   \n",
       "\n",
       "               unemp_period  \\\n",
       "0  Before Covid-19 pandemic   \n",
       "1                       NaN   \n",
       "2  During Covid-19 pandemic   \n",
       "\n",
       "                                           resources  \\\n",
       "0  Networking,Social media,Career websites (e.g.,...   \n",
       "1  Social media,Career websites (e.g., LinkedIn, ...   \n",
       "2  Friends/ Colleagues,Recruitment agencies,Socia...   \n",
       "\n",
       "                                     network_methods   pandemic_impact  \\\n",
       "0  Discussion groups/ forums,Social media,Career ...             Other   \n",
       "1                                    Career websites  Salary reduction   \n",
       "2   Friends/ colleagues,Social media,Career websites          Resigned   \n",
       "\n",
       "           job_constraints behavior_change self_emp_impact    women_affect  \\\n",
       "0                 Lockdown           Agree  Strongly agree  Strongly agree   \n",
       "1  Lockdown,Infection risk  Strongly agree           Agree           Agree   \n",
       "2        Family commitment           Agree  Strongly agree        Disagree   \n",
       "\n",
       "                    time_plan networking                   EaseOfJob  \\\n",
       "0                    Disagree      Agree           Strongly disagree   \n",
       "1              Strongly agree      Agree  Neither agree nor disagree   \n",
       "2  Neither agree nor disagree      Agree  Neither agree nor disagree   \n",
       "\n",
       "       continent  \n",
       "0           Asia  \n",
       "1           Asia  \n",
       "2  North America  "
      ]
     },
     "execution_count": 191,
     "metadata": {},
     "output_type": "execute_result"
    }
   ],
   "source": [
    "# put the country names in a list\n",
    "contry_list = list(df['country'])\n",
    "\n",
    "# trnasfer the country name into continent \n",
    "location = []\n",
    "for i in contry_list:\n",
    "    country_alpha2 = pc.country_name_to_country_alpha2(i)\n",
    "    country_continent_code = pc.country_alpha2_to_continent_code(country_alpha2)\n",
    "    country_continent_name = pc.convert_continent_code_to_continent_name(country_continent_code)\n",
    "    location.append(country_continent_name)\n",
    "\n",
    "# put the list in a data frame and rename the columns \n",
    "location = pd.DataFrame(location)\n",
    "location.columns = ['continent']\n",
    "location.index.names = ['id']\n",
    "\n",
    "# print(location)\n",
    "\n",
    "loc_df = pd.concat([df, location], axis=1, join=\"inner\")\n",
    "loc_df.head(3)"
   ]
  },
  {
   "cell_type": "code",
   "execution_count": 192,
   "metadata": {},
   "outputs": [
    {
     "data": {
      "text/plain": [
       "Text(0.5, 1.0, 'Continent vs Employment Status Heatmap')"
      ]
     },
     "execution_count": 192,
     "metadata": {},
     "output_type": "execute_result"
    },
    {
     "data": {
      "image/png": "[encoded data removed]",
      "text/plain": [
       "<Figure size 504x432 with 1 Axes>"
      ]
     },
     "metadata": {
      "needs_background": "light"
     },
     "output_type": "display_data"
    }
   ],
   "source": [
    "# exclude some features from 'emp_status' variable\n",
    "emp_list = [\"Employed\", \"Unemployed- Looking for work\", \"Self-employed\"]\n",
    "status_sample = pd.DataFrame(loc_df.loc[loc_df['emp_status'].isin(emp_list)])\n",
    "status_sample\n",
    "\n",
    "# cross-tabulation between 'continent' and 'emp_status', calculated as a percentage for easier comparison\n",
    "cross_tab = round(pd.crosstab(status_sample['continent'], status_sample['emp_status'], normalize='index') * 100, 1)\n",
    "\n",
    "# add subplot\n",
    "fig, ax = plt.subplots(figsize=(7, 6)) \n",
    "\n",
    "# plot using seaborn \n",
    "sns.heatmap(cross_tab, cmap=\"Reds\", annot=True, cbar=False, fmt='g')\n",
    "ax.set_title(\"Continent vs Employment Status Heatmap\")"
   ]
  },
  {
   "cell_type": "markdown",
   "metadata": {},
   "source": [
    "> Focusing on data from 4 continents representing the main respondents' groups, it was concluded that Africa has the highest percentage in employment around 73% followed by Europe and North America. While Europe shows the highest percentage of slef-employed at 22%."
   ]
  },
  {
   "cell_type": "markdown",
   "metadata": {},
   "source": [
    "### The Status of Employment in each Country"
   ]
  },
  {
   "cell_type": "code",
   "execution_count": 193,
   "metadata": {
    "tags": []
   },
   "outputs": [
    {
     "data": {
      "text/html": [
       "<div>\n",
       "<style scoped>\n",
       "    .dataframe tbody tr th:only-of-type {\n",
       "        vertical-align: middle;\n",
       "    }\n",
       "\n",
       "    .dataframe tbody tr th {\n",
       "        vertical-align: top;\n",
       "    }\n",
       "\n",
       "    .dataframe thead th {\n",
       "        text-align: right;\n",
       "    }\n",
       "</style>\n",
       "<table border=\"1\" class=\"dataframe\">\n",
       "  <thead>\n",
       "    <tr style=\"text-align: right;\">\n",
       "      <th></th>\n",
       "      <th>CountryName</th>\n",
       "      <th>counts</th>\n",
       "      <th>emp_prc</th>\n",
       "      <th>self_emp_prc</th>\n",
       "      <th>unemp_prc</th>\n",
       "    </tr>\n",
       "  </thead>\n",
       "  <tbody>\n",
       "    <tr>\n",
       "      <th>0</th>\n",
       "      <td>United Kingdom</td>\n",
       "      <td>0.22</td>\n",
       "      <td>0.17</td>\n",
       "      <td>0.50</td>\n",
       "      <td>0.11</td>\n",
       "    </tr>\n",
       "    <tr>\n",
       "      <th>1</th>\n",
       "      <td>Sudan</td>\n",
       "      <td>0.16</td>\n",
       "      <td>0.22</td>\n",
       "      <td>0.17</td>\n",
       "      <td>0.07</td>\n",
       "    </tr>\n",
       "    <tr>\n",
       "      <th>2</th>\n",
       "      <td>Bahrain</td>\n",
       "      <td>0.15</td>\n",
       "      <td>0.08</td>\n",
       "      <td>0.08</td>\n",
       "      <td>0.32</td>\n",
       "    </tr>\n",
       "    <tr>\n",
       "      <th>3</th>\n",
       "      <td>Canada</td>\n",
       "      <td>0.12</td>\n",
       "      <td>0.14</td>\n",
       "      <td>0.08</td>\n",
       "      <td>0.14</td>\n",
       "    </tr>\n",
       "    <tr>\n",
       "      <th>4</th>\n",
       "      <td>United States</td>\n",
       "      <td>0.10</td>\n",
       "      <td>0.08</td>\n",
       "      <td>0.08</td>\n",
       "      <td>0.11</td>\n",
       "    </tr>\n",
       "    <tr>\n",
       "      <th>5</th>\n",
       "      <td>Saudi Arabia</td>\n",
       "      <td>0.06</td>\n",
       "      <td>0.08</td>\n",
       "      <td>0.00</td>\n",
       "      <td>0.07</td>\n",
       "    </tr>\n",
       "    <tr>\n",
       "      <th>6</th>\n",
       "      <td>Hungary</td>\n",
       "      <td>0.03</td>\n",
       "      <td>0.03</td>\n",
       "      <td>0.00</td>\n",
       "      <td>0.00</td>\n",
       "    </tr>\n",
       "    <tr>\n",
       "      <th>7</th>\n",
       "      <td>United Arab Emirates</td>\n",
       "      <td>0.03</td>\n",
       "      <td>0.03</td>\n",
       "      <td>0.00</td>\n",
       "      <td>0.07</td>\n",
       "    </tr>\n",
       "    <tr>\n",
       "      <th>8</th>\n",
       "      <td>South Africa</td>\n",
       "      <td>0.03</td>\n",
       "      <td>0.03</td>\n",
       "      <td>0.00</td>\n",
       "      <td>0.07</td>\n",
       "    </tr>\n",
       "    <tr>\n",
       "      <th>9</th>\n",
       "      <td>Germany</td>\n",
       "      <td>0.03</td>\n",
       "      <td>0.06</td>\n",
       "      <td>0.00</td>\n",
       "      <td>0.00</td>\n",
       "    </tr>\n",
       "    <tr>\n",
       "      <th>10</th>\n",
       "      <td>Singapore</td>\n",
       "      <td>0.02</td>\n",
       "      <td>0.03</td>\n",
       "      <td>0.00</td>\n",
       "      <td>0.00</td>\n",
       "    </tr>\n",
       "    <tr>\n",
       "      <th>11</th>\n",
       "      <td>Rwanda</td>\n",
       "      <td>0.01</td>\n",
       "      <td>0.00</td>\n",
       "      <td>0.00</td>\n",
       "      <td>0.00</td>\n",
       "    </tr>\n",
       "    <tr>\n",
       "      <th>12</th>\n",
       "      <td>Iraq</td>\n",
       "      <td>0.01</td>\n",
       "      <td>0.00</td>\n",
       "      <td>0.08</td>\n",
       "      <td>0.00</td>\n",
       "    </tr>\n",
       "    <tr>\n",
       "      <th>13</th>\n",
       "      <td>Nigeria</td>\n",
       "      <td>0.01</td>\n",
       "      <td>0.02</td>\n",
       "      <td>0.00</td>\n",
       "      <td>0.00</td>\n",
       "    </tr>\n",
       "    <tr>\n",
       "      <th>14</th>\n",
       "      <td>Qatar</td>\n",
       "      <td>0.01</td>\n",
       "      <td>0.02</td>\n",
       "      <td>0.00</td>\n",
       "      <td>0.00</td>\n",
       "    </tr>\n",
       "    <tr>\n",
       "      <th>15</th>\n",
       "      <td>Tunisia</td>\n",
       "      <td>0.01</td>\n",
       "      <td>0.02</td>\n",
       "      <td>0.00</td>\n",
       "      <td>0.00</td>\n",
       "    </tr>\n",
       "    <tr>\n",
       "      <th>16</th>\n",
       "      <td>Austria</td>\n",
       "      <td>0.01</td>\n",
       "      <td>0.00</td>\n",
       "      <td>0.00</td>\n",
       "      <td>0.04</td>\n",
       "    </tr>\n",
       "  </tbody>\n",
       "</table>\n",
       "</div>"
      ],
      "text/plain": [
       "             CountryName  counts  emp_prc  self_emp_prc  unemp_prc\n",
       "0         United Kingdom    0.22     0.17          0.50       0.11\n",
       "1                  Sudan    0.16     0.22          0.17       0.07\n",
       "2                Bahrain    0.15     0.08          0.08       0.32\n",
       "3                 Canada    0.12     0.14          0.08       0.14\n",
       "4          United States    0.10     0.08          0.08       0.11\n",
       "5           Saudi Arabia    0.06     0.08          0.00       0.07\n",
       "6                Hungary    0.03     0.03          0.00       0.00\n",
       "7   United Arab Emirates    0.03     0.03          0.00       0.07\n",
       "8           South Africa    0.03     0.03          0.00       0.07\n",
       "9                Germany    0.03     0.06          0.00       0.00\n",
       "10             Singapore    0.02     0.03          0.00       0.00\n",
       "11                Rwanda    0.01     0.00          0.00       0.00\n",
       "12                  Iraq    0.01     0.00          0.08       0.00\n",
       "13               Nigeria    0.01     0.02          0.00       0.00\n",
       "14                 Qatar    0.01     0.02          0.00       0.00\n",
       "15               Tunisia    0.01     0.02          0.00       0.00\n",
       "16               Austria    0.01     0.00          0.00       0.04"
      ]
     },
     "execution_count": 193,
     "metadata": {},
     "output_type": "execute_result"
    }
   ],
   "source": [
    "# get a subset from 'emp_status' and 'country' frequencies, then normalize the values\n",
    "# rename columns name to merge on that name\n",
    "emp_df = df.loc[df[\"emp_status\"] == \"Employed\", \"country\"].value_counts(normalize=True).rename_axis('CountryName').reset_index(name = 'emp_prc')\n",
    "emp_df = round(emp_df,2)\n",
    "\n",
    "self_emp_df = df.loc[df[\"emp_status\"] == \"Self-employed\", \"country\"].value_counts(normalize=True).rename_axis('CountryName').reset_index(name = 'self_emp_prc')\n",
    "self_emp_df = round(self_emp_df,2)\n",
    "\n",
    "unemp_df = df.loc[df[\"emp_status\"] == \"Unemployed- Looking for work\", \"country\"].value_counts(normalize=True).rename_axis('CountryName').reset_index(name = 'unemp_prc')\n",
    "unemp_df = round(unemp_df,2)\n",
    "\n",
    "data = df['country'].value_counts(normalize=True).rename_axis('CountryName').reset_index(name = 'counts')\n",
    "data = round(data, 2)\n",
    "\n",
    "# put the the above series altogether in one data frame\n",
    "merge_df = pd.merge(emp_df, self_emp_df, on=[\"CountryName\"])\n",
    "merge_df = pd.merge(merge_df, unemp_df, on=[\"CountryName\"])\n",
    "merge_df = pd.merge(data, merge_df, on=[\"CountryName\"])\n",
    "\n",
    "merge_df"
   ]
  },
  {
   "cell_type": "code",
   "execution_count": 194,
   "metadata": {
    "tags": []
   },
   "outputs": [
    {
     "data": {
      "text/html": [
       "<div>\n",
       "<style scoped>\n",
       "    .dataframe tbody tr th:only-of-type {\n",
       "        vertical-align: middle;\n",
       "    }\n",
       "\n",
       "    .dataframe tbody tr th {\n",
       "        vertical-align: top;\n",
       "    }\n",
       "\n",
       "    .dataframe thead th {\n",
       "        text-align: right;\n",
       "    }\n",
       "</style>\n",
       "<table border=\"1\" class=\"dataframe\">\n",
       "  <thead>\n",
       "    <tr style=\"text-align: right;\">\n",
       "      <th></th>\n",
       "      <th>CountryName</th>\n",
       "      <th>counts</th>\n",
       "      <th>emp_prc</th>\n",
       "      <th>self_emp_prc</th>\n",
       "      <th>unemp_prc</th>\n",
       "      <th>latitude</th>\n",
       "      <th>longitude</th>\n",
       "    </tr>\n",
       "  </thead>\n",
       "  <tbody>\n",
       "    <tr>\n",
       "      <th>0</th>\n",
       "      <td>United Kingdom</td>\n",
       "      <td>0.22</td>\n",
       "      <td>0.17</td>\n",
       "      <td>0.50</td>\n",
       "      <td>0.11</td>\n",
       "      <td>54.70</td>\n",
       "      <td>-3.28</td>\n",
       "    </tr>\n",
       "    <tr>\n",
       "      <th>1</th>\n",
       "      <td>Sudan</td>\n",
       "      <td>0.16</td>\n",
       "      <td>0.22</td>\n",
       "      <td>0.17</td>\n",
       "      <td>0.07</td>\n",
       "      <td>14.58</td>\n",
       "      <td>29.49</td>\n",
       "    </tr>\n",
       "    <tr>\n",
       "      <th>2</th>\n",
       "      <td>Bahrain</td>\n",
       "      <td>0.15</td>\n",
       "      <td>0.08</td>\n",
       "      <td>0.08</td>\n",
       "      <td>0.32</td>\n",
       "      <td>26.16</td>\n",
       "      <td>50.53</td>\n",
       "    </tr>\n",
       "    <tr>\n",
       "      <th>3</th>\n",
       "      <td>Canada</td>\n",
       "      <td>0.12</td>\n",
       "      <td>0.14</td>\n",
       "      <td>0.08</td>\n",
       "      <td>0.14</td>\n",
       "      <td>61.07</td>\n",
       "      <td>-107.99</td>\n",
       "    </tr>\n",
       "    <tr>\n",
       "      <th>4</th>\n",
       "      <td>United States</td>\n",
       "      <td>0.10</td>\n",
       "      <td>0.08</td>\n",
       "      <td>0.08</td>\n",
       "      <td>0.11</td>\n",
       "      <td>39.78</td>\n",
       "      <td>-100.45</td>\n",
       "    </tr>\n",
       "    <tr>\n",
       "      <th>5</th>\n",
       "      <td>Saudi Arabia</td>\n",
       "      <td>0.06</td>\n",
       "      <td>0.08</td>\n",
       "      <td>0.00</td>\n",
       "      <td>0.07</td>\n",
       "      <td>25.62</td>\n",
       "      <td>42.35</td>\n",
       "    </tr>\n",
       "    <tr>\n",
       "      <th>6</th>\n",
       "      <td>Hungary</td>\n",
       "      <td>0.03</td>\n",
       "      <td>0.03</td>\n",
       "      <td>0.00</td>\n",
       "      <td>0.00</td>\n",
       "      <td>47.18</td>\n",
       "      <td>19.51</td>\n",
       "    </tr>\n",
       "    <tr>\n",
       "      <th>7</th>\n",
       "      <td>United Arab Emirates</td>\n",
       "      <td>0.03</td>\n",
       "      <td>0.03</td>\n",
       "      <td>0.00</td>\n",
       "      <td>0.07</td>\n",
       "      <td>24.00</td>\n",
       "      <td>54.00</td>\n",
       "    </tr>\n",
       "    <tr>\n",
       "      <th>8</th>\n",
       "      <td>South Africa</td>\n",
       "      <td>0.03</td>\n",
       "      <td>0.03</td>\n",
       "      <td>0.00</td>\n",
       "      <td>0.07</td>\n",
       "      <td>-28.82</td>\n",
       "      <td>24.99</td>\n",
       "    </tr>\n",
       "    <tr>\n",
       "      <th>9</th>\n",
       "      <td>Germany</td>\n",
       "      <td>0.03</td>\n",
       "      <td>0.06</td>\n",
       "      <td>0.00</td>\n",
       "      <td>0.00</td>\n",
       "      <td>51.08</td>\n",
       "      <td>10.42</td>\n",
       "    </tr>\n",
       "    <tr>\n",
       "      <th>10</th>\n",
       "      <td>Singapore</td>\n",
       "      <td>0.02</td>\n",
       "      <td>0.03</td>\n",
       "      <td>0.00</td>\n",
       "      <td>0.00</td>\n",
       "      <td>1.36</td>\n",
       "      <td>103.82</td>\n",
       "    </tr>\n",
       "    <tr>\n",
       "      <th>11</th>\n",
       "      <td>Rwanda</td>\n",
       "      <td>0.01</td>\n",
       "      <td>0.00</td>\n",
       "      <td>0.00</td>\n",
       "      <td>0.00</td>\n",
       "      <td>-1.96</td>\n",
       "      <td>30.06</td>\n",
       "    </tr>\n",
       "    <tr>\n",
       "      <th>12</th>\n",
       "      <td>Iraq</td>\n",
       "      <td>0.01</td>\n",
       "      <td>0.00</td>\n",
       "      <td>0.08</td>\n",
       "      <td>0.00</td>\n",
       "      <td>33.10</td>\n",
       "      <td>44.17</td>\n",
       "    </tr>\n",
       "    <tr>\n",
       "      <th>13</th>\n",
       "      <td>Nigeria</td>\n",
       "      <td>0.01</td>\n",
       "      <td>0.02</td>\n",
       "      <td>0.00</td>\n",
       "      <td>0.00</td>\n",
       "      <td>9.60</td>\n",
       "      <td>8.00</td>\n",
       "    </tr>\n",
       "    <tr>\n",
       "      <th>14</th>\n",
       "      <td>Qatar</td>\n",
       "      <td>0.01</td>\n",
       "      <td>0.02</td>\n",
       "      <td>0.00</td>\n",
       "      <td>0.00</td>\n",
       "      <td>25.33</td>\n",
       "      <td>51.23</td>\n",
       "    </tr>\n",
       "    <tr>\n",
       "      <th>15</th>\n",
       "      <td>Tunisia</td>\n",
       "      <td>0.01</td>\n",
       "      <td>0.02</td>\n",
       "      <td>0.00</td>\n",
       "      <td>0.00</td>\n",
       "      <td>33.84</td>\n",
       "      <td>9.40</td>\n",
       "    </tr>\n",
       "    <tr>\n",
       "      <th>16</th>\n",
       "      <td>Austria</td>\n",
       "      <td>0.01</td>\n",
       "      <td>0.00</td>\n",
       "      <td>0.00</td>\n",
       "      <td>0.04</td>\n",
       "      <td>47.20</td>\n",
       "      <td>13.20</td>\n",
       "    </tr>\n",
       "  </tbody>\n",
       "</table>\n",
       "</div>"
      ],
      "text/plain": [
       "             CountryName  counts  emp_prc  self_emp_prc  unemp_prc  latitude  \\\n",
       "0         United Kingdom    0.22     0.17          0.50       0.11     54.70   \n",
       "1                  Sudan    0.16     0.22          0.17       0.07     14.58   \n",
       "2                Bahrain    0.15     0.08          0.08       0.32     26.16   \n",
       "3                 Canada    0.12     0.14          0.08       0.14     61.07   \n",
       "4          United States    0.10     0.08          0.08       0.11     39.78   \n",
       "5           Saudi Arabia    0.06     0.08          0.00       0.07     25.62   \n",
       "6                Hungary    0.03     0.03          0.00       0.00     47.18   \n",
       "7   United Arab Emirates    0.03     0.03          0.00       0.07     24.00   \n",
       "8           South Africa    0.03     0.03          0.00       0.07    -28.82   \n",
       "9                Germany    0.03     0.06          0.00       0.00     51.08   \n",
       "10             Singapore    0.02     0.03          0.00       0.00      1.36   \n",
       "11                Rwanda    0.01     0.00          0.00       0.00     -1.96   \n",
       "12                  Iraq    0.01     0.00          0.08       0.00     33.10   \n",
       "13               Nigeria    0.01     0.02          0.00       0.00      9.60   \n",
       "14                 Qatar    0.01     0.02          0.00       0.00     25.33   \n",
       "15               Tunisia    0.01     0.02          0.00       0.00     33.84   \n",
       "16               Austria    0.01     0.00          0.00       0.04     47.20   \n",
       "\n",
       "    longitude  \n",
       "0       -3.28  \n",
       "1       29.49  \n",
       "2       50.53  \n",
       "3     -107.99  \n",
       "4     -100.45  \n",
       "5       42.35  \n",
       "6       19.51  \n",
       "7       54.00  \n",
       "8       24.99  \n",
       "9       10.42  \n",
       "10     103.82  \n",
       "11      30.06  \n",
       "12      44.17  \n",
       "13       8.00  \n",
       "14      51.23  \n",
       "15       9.40  \n",
       "16      13.20  "
      ]
     },
     "metadata": {},
     "output_type": "display_data"
    }
   ],
   "source": [
    "# Geolocate a query to coordinates\n",
    "address = list(merge_df['CountryName'])\n",
    "\n",
    "geolocator = Nominatim(user_agent='ma895@student.london.ac.uk')\n",
    "\n",
    "# initialize an empty list\n",
    "GeoLocation = []\n",
    "\n",
    "# get the latitude and the longitude from a list of countries\n",
    "for i in address:\n",
    "    coord_location = geolocator.geocode(i)\n",
    "    long_latit = (coord_location.latitude, coord_location.longitude)\n",
    "    GeoLocation.append(long_latit)\n",
    "\n",
    "# set it a a data frame and rename the headers\n",
    "GeoLocation = pd.DataFrame(GeoLocation)\n",
    "GeoLocation.columns = ['latitude', 'longitude']\n",
    "\n",
    "# merge the latitude and longitude in 'merge_df' data frame\n",
    "GeoLocation = pd.concat([merge_df, GeoLocation], axis=1, join=\"inner\")\n",
    "display(round(GeoLocation,2))"
   ]
  },
  {
   "cell_type": "code",
   "execution_count": 195,
   "metadata": {
    "tags": []
   },
   "outputs": [
    {
     "data": {
      "text/html": [
       "<div style=\"width:100%;\"><div style=\"position:relative;width:100%;height:0;padding-bottom:60%;\"><span style=\"color:#565656\">Make this Notebook Trusted to load map: File -> Trust Notebook</span><iframe src=\"about:blank\" style=\"position:absolute;width:100%;height:100%;left:0;top:0;border:none !important;\" data-html=%3C%21DOCTYPE%20html%3E%0A%3Chead%3E%20%20%20%20%0A%20%20%20%20%3Cmeta%20http-equiv%3D%22content-type%22%20content%3D%22text/html%3B%20charset%3DUTF-8%22%20/%3E%0A%20%20%20%20%0A%20%20%20%20%20%20%20%20%3Cscript%3E%0A%20%20%20%20%20%20%20%20%20%20%20%20L_NO_TOUCH%20%3D%20false%3B%0A%20%20%20%20%20%20%20%20%20%20%20%20L_DISABLE_3D%20%3D%20false%3B%0A%20%20%20%20%20%20%20%20%3C/script%3E%0A%20%20%20%20%0A%20%20%20%20%3Cstyle%3Ehtml%2C%20body%20%7Bwidth%3A%20100%25%3Bheight%3A%20100%25%3Bmargin%3A%200%3Bpadding%3A%200%3B%7D%3C/style%3E%0A%20%20%20%20%3Cstyle%3E%23map%20%7Bposition%3Aabsolute%3Btop%3A0%3Bbottom%3A0%3Bright%3A0%3Bleft%3A0%3B%7D%3C/style%3E%0A%20%20%20%20%3Cscript%20src%3D%22https%3A//cdn.jsdelivr.net/npm/leaflet%401.6.0/dist/leaflet.js%22%3E%3C/script%3E%0A%20%20%20%20%3Cscript%20src%3D%22https%3A//code.jquery.com/jquery-1.12.4.min.js%22%3E%3C/script%3E%0A%20%20%20%20%3Cscript%20src%3D%22https%3A//maxcdn.bootstrapcdn.com/bootstrap/3.2.0/js/bootstrap.min.js%22%3E%3C/script%3E%0A%20%20%20%20%3Cscript%20src%3D%22https%3A//cdnjs.cloudflare.com/ajax/libs/Leaflet.awesome-markers/2.0.2/leaflet.awesome-markers.js%22%3E%3C/script%3E%0A%20%20%20%20%3Clink%20rel%3D%22stylesheet%22%20href%3D%22https%3A//cdn.jsdelivr.net/npm/leaflet%401.6.0/dist/leaflet.css%22/%3E%0A%20%20%20%20%3Clink%20rel%3D%22stylesheet%22%20href%3D%22https%3A//maxcdn.bootstrapcdn.com/bootstrap/3.2.0/css/bootstrap.min.css%22/%3E%0A%20%20%20%20%3Clink%20rel%3D%22stylesheet%22%20href%3D%22https%3A//maxcdn.bootstrapcdn.com/bootstrap/3.2.0/css/bootstrap-theme.min.css%22/%3E%0A%20%20%20%20%3Clink%20rel%3D%22stylesheet%22%20href%3D%22https%3A//maxcdn.bootstrapcdn.com/font-awesome/4.6.3/css/font-awesome.min.css%22/%3E%0A%20%20%20%20%3Clink%20rel%3D%22stylesheet%22%20href%3D%22https%3A//cdnjs.cloudflare.com/ajax/libs/Leaflet.awesome-markers/2.0.2/leaflet.awesome-markers.css%22/%3E%0A%20%20%20%20%3Clink%20rel%3D%22stylesheet%22%20href%3D%22https%3A//cdn.jsdelivr.net/gh/python-visualization/folium/folium/templates/leaflet.awesome.rotate.min.css%22/%3E%0A%20%20%20%20%0A%20%20%20%20%20%20%20%20%20%20%20%20%3Cmeta%20name%3D%22viewport%22%20content%3D%22width%3Ddevice-width%2C%0A%20%20%20%20%20%20%20%20%20%20%20%20%20%20%20%20initial-scale%3D1.0%2C%20maximum-scale%3D1.0%2C%20user-scalable%3Dno%22%20/%3E%0A%20%20%20%20%20%20%20%20%20%20%20%20%3Cstyle%3E%0A%20%20%20%20%20%20%20%20%20%20%20%20%20%20%20%20%23map_5b3b071f8cca41848a1ebce6975a57bb%20%7B%0A%20%20%20%20%20%20%20%20%20%20%20%20%20%20%20%20%20%20%20%20position%3A%20relative%3B%0A%20%20%20%20%20%20%20%20%20%20%20%20%20%20%20%20%20%20%20%20width%3A%20100.0%25%3B%0A%20%20%20%20%20%20%20%20%20%20%20%20%20%20%20%20%20%20%20%20height%3A%20100.0%25%3B%0A%20%20%20%20%20%20%20%20%20%20%20%20%20%20%20%20%20%20%20%20left%3A%200.0%25%3B%0A%20%20%20%20%20%20%20%20%20%20%20%20%20%20%20%20%20%20%20%20top%3A%200.0%25%3B%0A%20%20%20%20%20%20%20%20%20%20%20%20%20%20%20%20%7D%0A%20%20%20%20%20%20%20%20%20%20%20%20%3C/style%3E%0A%20%20%20%20%20%20%20%20%0A%20%20%20%20%3Cscript%20src%3D%22https%3A//cdnjs.cloudflare.com/ajax/libs/leaflet.markercluster/1.1.0/leaflet.markercluster.js%22%3E%3C/script%3E%0A%20%20%20%20%3Clink%20rel%3D%22stylesheet%22%20href%3D%22https%3A//cdnjs.cloudflare.com/ajax/libs/leaflet.markercluster/1.1.0/MarkerCluster.css%22/%3E%0A%20%20%20%20%3Clink%20rel%3D%22stylesheet%22%20href%3D%22https%3A//cdnjs.cloudflare.com/ajax/libs/leaflet.markercluster/1.1.0/MarkerCluster.Default.css%22/%3E%0A%3C/head%3E%0A%3Cbody%3E%20%20%20%20%0A%20%20%20%20%0A%20%20%20%20%20%20%20%20%20%20%20%20%3Cdiv%20class%3D%22folium-map%22%20id%3D%22map_5b3b071f8cca41848a1ebce6975a57bb%22%20%3E%3C/div%3E%0A%20%20%20%20%20%20%20%20%0A%3C/body%3E%0A%3Cscript%3E%20%20%20%20%0A%20%20%20%20%0A%20%20%20%20%20%20%20%20%20%20%20%20var%20map_5b3b071f8cca41848a1ebce6975a57bb%20%3D%20L.map%28%0A%20%20%20%20%20%20%20%20%20%20%20%20%20%20%20%20%22map_5b3b071f8cca41848a1ebce6975a57bb%22%2C%0A%20%20%20%20%20%20%20%20%20%20%20%20%20%20%20%20%7B%0A%20%20%20%20%20%20%20%20%20%20%20%20%20%20%20%20%20%20%20%20center%3A%20%5B0%2C%200%5D%2C%0A%20%20%20%20%20%20%20%20%20%20%20%20%20%20%20%20%20%20%20%20crs%3A%20L.CRS.EPSG3857%2C%0A%20%20%20%20%20%20%20%20%20%20%20%20%20%20%20%20%20%20%20%20zoom%3A%201%2C%0A%20%20%20%20%20%20%20%20%20%20%20%20%20%20%20%20%20%20%20%20zoomControl%3A%20true%2C%0A%20%20%20%20%20%20%20%20%20%20%20%20%20%20%20%20%20%20%20%20preferCanvas%3A%20false%2C%0A%20%20%20%20%20%20%20%20%20%20%20%20%20%20%20%20%7D%0A%20%20%20%20%20%20%20%20%20%20%20%20%29%3B%0A%0A%20%20%20%20%20%20%20%20%20%20%20%20%0A%0A%20%20%20%20%20%20%20%20%0A%20%20%20%20%0A%20%20%20%20%20%20%20%20%20%20%20%20var%20tile_layer_386dd878585d4ea0a88e23b0d95d008d%20%3D%20L.tileLayer%28%0A%20%20%20%20%20%20%20%20%20%20%20%20%20%20%20%20%22https%3A//cartodb-basemaps-%7Bs%7D.global.ssl.fastly.net/light_all/%7Bz%7D/%7Bx%7D/%7By%7D.png%22%2C%0A%20%20%20%20%20%20%20%20%20%20%20%20%20%20%20%20%7B%22attribution%22%3A%20%22%5Cu0026copy%3B%20%5Cu003ca%20href%3D%5C%22http%3A//www.openstreetmap.org/copyright%5C%22%5Cu003eOpenStreetMap%5Cu003c/a%5Cu003e%20contributors%20%5Cu0026copy%3B%20%5Cu003ca%20href%3D%5C%22http%3A//cartodb.com/attributions%5C%22%5Cu003eCartoDB%5Cu003c/a%5Cu003e%2C%20CartoDB%20%5Cu003ca%20href%20%3D%5C%22http%3A//cartodb.com/attributions%5C%22%5Cu003eattributions%5Cu003c/a%5Cu003e%22%2C%20%22detectRetina%22%3A%20false%2C%20%22maxNativeZoom%22%3A%2018%2C%20%22maxZoom%22%3A%2018%2C%20%22minZoom%22%3A%200%2C%20%22noWrap%22%3A%20false%2C%20%22opacity%22%3A%201%2C%20%22subdomains%22%3A%20%22abc%22%2C%20%22tms%22%3A%20false%7D%0A%20%20%20%20%20%20%20%20%20%20%20%20%29.addTo%28map_5b3b071f8cca41848a1ebce6975a57bb%29%3B%0A%20%20%20%20%20%20%20%20%0A%20%20%20%20%0A%20%20%20%20%20%20%20%20%20%20%20%20var%20marker_cluster_0c6994d5d39b4c9d87c31d4a0ff26e5e%20%3D%20L.markerClusterGroup%28%0A%20%20%20%20%20%20%20%20%20%20%20%20%20%20%20%20%7B%7D%0A%20%20%20%20%20%20%20%20%20%20%20%20%29%3B%0A%20%20%20%20%20%20%20%20%20%20%20%20map_5b3b071f8cca41848a1ebce6975a57bb.addLayer%28marker_cluster_0c6994d5d39b4c9d87c31d4a0ff26e5e%29%3B%0A%20%20%20%20%20%20%20%20%0A%20%20%20%20%0A%20%20%20%20%20%20%20%20%20%20%20%20var%20marker_ae981a8c40d74dd1bc688897eb8eb1e1%20%3D%20L.marker%28%0A%20%20%20%20%20%20%20%20%20%20%20%20%20%20%20%20%5B54.7023545%2C%20-3.2765753%5D%2C%0A%20%20%20%20%20%20%20%20%20%20%20%20%20%20%20%20%7B%22fill%22%3A%20true%2C%20%22radius%22%3A%205%7D%0A%20%20%20%20%20%20%20%20%20%20%20%20%29.addTo%28marker_cluster_0c6994d5d39b4c9d87c31d4a0ff26e5e%29%3B%0A%20%20%20%20%20%20%20%20%0A%20%20%20%20%0A%20%20%20%20%20%20%20%20var%20popup_a7522aea70ed4d0c96556766f1773852%20%3D%20L.popup%28%7B%22maxWidth%22%3A%20%22100%25%22%7D%29%3B%0A%0A%20%20%20%20%20%20%20%20%0A%20%20%20%20%20%20%20%20%20%20%20%20var%20html_6199eb57cdd243dab4c0ffd38dfa6abe%20%3D%20%24%28%60%3Cdiv%20id%3D%22html_6199eb57cdd243dab4c0ffd38dfa6abe%22%20style%3D%22width%3A%20100.0%25%3B%20height%3A%20100.0%25%3B%22%3E%20%20%20%20%20%20%20%20%20%20%20%20%20%20%20%20%20Country%20name%20%3A%20United%20Kingdom%3Cbr%3E%3Cbr%3E%20%20%20%20%20%20%20%20%20%20%20%20%20%20%20%20%20%25Respondents%20%3A%200.22%3Cbr%3E%3Cbr%3E%20%20%20%20%20%20%20%20%20%20%20%20%20%20%20%20%20%25Employment%20%3A%200.17%3Cbr%3E%3Cbr%3E%20%20%20%20%20%20%20%20%20%20%20%20%20%20%20%20%20%25Self-employment%20%3A%200.5%3Cbr%3E%3Cbr%3E%20%20%20%20%20%20%20%20%20%20%20%20%20%20%20%20%20%25Unmployment%20%3A%200.11%3Cbr%3E%3Cbr%3E%20%20%20%20%20%20%20%20%20%20%20%20%20%20%20%20%20%3C/div%3E%60%29%5B0%5D%3B%0A%20%20%20%20%20%20%20%20%20%20%20%20popup_a7522aea70ed4d0c96556766f1773852.setContent%28html_6199eb57cdd243dab4c0ffd38dfa6abe%29%3B%0A%20%20%20%20%20%20%20%20%0A%0A%20%20%20%20%20%20%20%20marker_ae981a8c40d74dd1bc688897eb8eb1e1.bindPopup%28popup_a7522aea70ed4d0c96556766f1773852%29%0A%20%20%20%20%20%20%20%20%3B%0A%0A%20%20%20%20%20%20%20%20%0A%20%20%20%20%0A%20%20%20%20%0A%20%20%20%20%20%20%20%20%20%20%20%20marker_ae981a8c40d74dd1bc688897eb8eb1e1.bindTooltip%28%0A%20%20%20%20%20%20%20%20%20%20%20%20%20%20%20%20%60%3Cdiv%3E%0A%20%20%20%20%20%20%20%20%20%20%20%20%20%20%20%20%20%20%20%20%20Click%20me%21%0A%20%20%20%20%20%20%20%20%20%20%20%20%20%20%20%20%20%3C/div%3E%60%2C%0A%20%20%20%20%20%20%20%20%20%20%20%20%20%20%20%20%7B%22sticky%22%3A%20true%7D%0A%20%20%20%20%20%20%20%20%20%20%20%20%29%3B%0A%20%20%20%20%20%20%20%20%0A%20%20%20%20%0A%20%20%20%20%20%20%20%20%20%20%20%20var%20marker_884d8363b1914f4db1ef16c0c31d42c9%20%3D%20L.marker%28%0A%20%20%20%20%20%20%20%20%20%20%20%20%20%20%20%20%5B14.5844444%2C%2029.4917691%5D%2C%0A%20%20%20%20%20%20%20%20%20%20%20%20%20%20%20%20%7B%22fill%22%3A%20true%2C%20%22radius%22%3A%205%7D%0A%20%20%20%20%20%20%20%20%20%20%20%20%29.addTo%28marker_cluster_0c6994d5d39b4c9d87c31d4a0ff26e5e%29%3B%0A%20%20%20%20%20%20%20%20%0A%20%20%20%20%0A%20%20%20%20%20%20%20%20var%20popup_fc14cab749f947819f4a499b4645bb73%20%3D%20L.popup%28%7B%22maxWidth%22%3A%20%22100%25%22%7D%29%3B%0A%0A%20%20%20%20%20%20%20%20%0A%20%20%20%20%20%20%20%20%20%20%20%20var%20html_6247dc0257764af8a10b7abbf0c6ffd7%20%3D%20%24%28%60%3Cdiv%20id%3D%22html_6247dc0257764af8a10b7abbf0c6ffd7%22%20style%3D%22width%3A%20100.0%25%3B%20height%3A%20100.0%25%3B%22%3E%20%20%20%20%20%20%20%20%20%20%20%20%20%20%20%20%20Country%20name%20%3A%20Sudan%3Cbr%3E%3Cbr%3E%20%20%20%20%20%20%20%20%20%20%20%20%20%20%20%20%20%25Respondents%20%3A%200.16%3Cbr%3E%3Cbr%3E%20%20%20%20%20%20%20%20%20%20%20%20%20%20%20%20%20%25Employment%20%3A%200.22%3Cbr%3E%3Cbr%3E%20%20%20%20%20%20%20%20%20%20%20%20%20%20%20%20%20%25Self-employment%20%3A%200.17%3Cbr%3E%3Cbr%3E%20%20%20%20%20%20%20%20%20%20%20%20%20%20%20%20%20%25Unmployment%20%3A%200.07%3Cbr%3E%3Cbr%3E%20%20%20%20%20%20%20%20%20%20%20%20%20%20%20%20%20%3C/div%3E%60%29%5B0%5D%3B%0A%20%20%20%20%20%20%20%20%20%20%20%20popup_fc14cab749f947819f4a499b4645bb73.setContent%28html_6247dc0257764af8a10b7abbf0c6ffd7%29%3B%0A%20%20%20%20%20%20%20%20%0A%0A%20%20%20%20%20%20%20%20marker_884d8363b1914f4db1ef16c0c31d42c9.bindPopup%28popup_fc14cab749f947819f4a499b4645bb73%29%0A%20%20%20%20%20%20%20%20%3B%0A%0A%20%20%20%20%20%20%20%20%0A%20%20%20%20%0A%20%20%20%20%0A%20%20%20%20%20%20%20%20%20%20%20%20marker_884d8363b1914f4db1ef16c0c31d42c9.bindTooltip%28%0A%20%20%20%20%20%20%20%20%20%20%20%20%20%20%20%20%60%3Cdiv%3E%0A%20%20%20%20%20%20%20%20%20%20%20%20%20%20%20%20%20%20%20%20%20Click%20me%21%0A%20%20%20%20%20%20%20%20%20%20%20%20%20%20%20%20%20%3C/div%3E%60%2C%0A%20%20%20%20%20%20%20%20%20%20%20%20%20%20%20%20%7B%22sticky%22%3A%20true%7D%0A%20%20%20%20%20%20%20%20%20%20%20%20%29%3B%0A%20%20%20%20%20%20%20%20%0A%20%20%20%20%0A%20%20%20%20%20%20%20%20%20%20%20%20var%20marker_19a0f5d3d2444381bbafd57428dc5aad%20%3D%20L.marker%28%0A%20%20%20%20%20%20%20%20%20%20%20%20%20%20%20%20%5B26.1551249%2C%2050.5344606%5D%2C%0A%20%20%20%20%20%20%20%20%20%20%20%20%20%20%20%20%7B%22fill%22%3A%20true%2C%20%22radius%22%3A%205%7D%0A%20%20%20%20%20%20%20%20%20%20%20%20%29.addTo%28marker_cluster_0c6994d5d39b4c9d87c31d4a0ff26e5e%29%3B%0A%20%20%20%20%20%20%20%20%0A%20%20%20%20%0A%20%20%20%20%20%20%20%20var%20popup_9673b4e34a6147f898786bee0ca175e9%20%3D%20L.popup%28%7B%22maxWidth%22%3A%20%22100%25%22%7D%29%3B%0A%0A%20%20%20%20%20%20%20%20%0A%20%20%20%20%20%20%20%20%20%20%20%20var%20html_b9259717501a4e01ba44c725afe9bbd8%20%3D%20%24%28%60%3Cdiv%20id%3D%22html_b9259717501a4e01ba44c725afe9bbd8%22%20style%3D%22width%3A%20100.0%25%3B%20height%3A%20100.0%25%3B%22%3E%20%20%20%20%20%20%20%20%20%20%20%20%20%20%20%20%20Country%20name%20%3A%20Bahrain%3Cbr%3E%3Cbr%3E%20%20%20%20%20%20%20%20%20%20%20%20%20%20%20%20%20%25Respondents%20%3A%200.15%3Cbr%3E%3Cbr%3E%20%20%20%20%20%20%20%20%20%20%20%20%20%20%20%20%20%25Employment%20%3A%200.08%3Cbr%3E%3Cbr%3E%20%20%20%20%20%20%20%20%20%20%20%20%20%20%20%20%20%25Self-employment%20%3A%200.08%3Cbr%3E%3Cbr%3E%20%20%20%20%20%20%20%20%20%20%20%20%20%20%20%20%20%25Unmployment%20%3A%200.32%3Cbr%3E%3Cbr%3E%20%20%20%20%20%20%20%20%20%20%20%20%20%20%20%20%20%3C/div%3E%60%29%5B0%5D%3B%0A%20%20%20%20%20%20%20%20%20%20%20%20popup_9673b4e34a6147f898786bee0ca175e9.setContent%28html_b9259717501a4e01ba44c725afe9bbd8%29%3B%0A%20%20%20%20%20%20%20%20%0A%0A%20%20%20%20%20%20%20%20marker_19a0f5d3d2444381bbafd57428dc5aad.bindPopup%28popup_9673b4e34a6147f898786bee0ca175e9%29%0A%20%20%20%20%20%20%20%20%3B%0A%0A%20%20%20%20%20%20%20%20%0A%20%20%20%20%0A%20%20%20%20%0A%20%20%20%20%20%20%20%20%20%20%20%20marker_19a0f5d3d2444381bbafd57428dc5aad.bindTooltip%28%0A%20%20%20%20%20%20%20%20%20%20%20%20%20%20%20%20%60%3Cdiv%3E%0A%20%20%20%20%20%20%20%20%20%20%20%20%20%20%20%20%20%20%20%20%20Click%20me%21%0A%20%20%20%20%20%20%20%20%20%20%20%20%20%20%20%20%20%3C/div%3E%60%2C%0A%20%20%20%20%20%20%20%20%20%20%20%20%20%20%20%20%7B%22sticky%22%3A%20true%7D%0A%20%20%20%20%20%20%20%20%20%20%20%20%29%3B%0A%20%20%20%20%20%20%20%20%0A%20%20%20%20%0A%20%20%20%20%20%20%20%20%20%20%20%20var%20marker_22736240daa8464ca19d765bcf3083a7%20%3D%20L.marker%28%0A%20%20%20%20%20%20%20%20%20%20%20%20%20%20%20%20%5B61.0666922%2C%20-107.991707%5D%2C%0A%20%20%20%20%20%20%20%20%20%20%20%20%20%20%20%20%7B%22fill%22%3A%20true%2C%20%22radius%22%3A%205%7D%0A%20%20%20%20%20%20%20%20%20%20%20%20%29.addTo%28marker_cluster_0c6994d5d39b4c9d87c31d4a0ff26e5e%29%3B%0A%20%20%20%20%20%20%20%20%0A%20%20%20%20%0A%20%20%20%20%20%20%20%20var%20popup_b905b3a6a9434256a79e1953bf3dbdd3%20%3D%20L.popup%28%7B%22maxWidth%22%3A%20%22100%25%22%7D%29%3B%0A%0A%20%20%20%20%20%20%20%20%0A%20%20%20%20%20%20%20%20%20%20%20%20var%20html_7ac8d4c57d6f4f3d8dc5bd37b6ed3b17%20%3D%20%24%28%60%3Cdiv%20id%3D%22html_7ac8d4c57d6f4f3d8dc5bd37b6ed3b17%22%20style%3D%22width%3A%20100.0%25%3B%20height%3A%20100.0%25%3B%22%3E%20%20%20%20%20%20%20%20%20%20%20%20%20%20%20%20%20Country%20name%20%3A%20Canada%3Cbr%3E%3Cbr%3E%20%20%20%20%20%20%20%20%20%20%20%20%20%20%20%20%20%25Respondents%20%3A%200.12%3Cbr%3E%3Cbr%3E%20%20%20%20%20%20%20%20%20%20%20%20%20%20%20%20%20%25Employment%20%3A%200.14%3Cbr%3E%3Cbr%3E%20%20%20%20%20%20%20%20%20%20%20%20%20%20%20%20%20%25Self-employment%20%3A%200.08%3Cbr%3E%3Cbr%3E%20%20%20%20%20%20%20%20%20%20%20%20%20%20%20%20%20%25Unmployment%20%3A%200.14%3Cbr%3E%3Cbr%3E%20%20%20%20%20%20%20%20%20%20%20%20%20%20%20%20%20%3C/div%3E%60%29%5B0%5D%3B%0A%20%20%20%20%20%20%20%20%20%20%20%20popup_b905b3a6a9434256a79e1953bf3dbdd3.setContent%28html_7ac8d4c57d6f4f3d8dc5bd37b6ed3b17%29%3B%0A%20%20%20%20%20%20%20%20%0A%0A%20%20%20%20%20%20%20%20marker_22736240daa8464ca19d765bcf3083a7.bindPopup%28popup_b905b3a6a9434256a79e1953bf3dbdd3%29%0A%20%20%20%20%20%20%20%20%3B%0A%0A%20%20%20%20%20%20%20%20%0A%20%20%20%20%0A%20%20%20%20%0A%20%20%20%20%20%20%20%20%20%20%20%20marker_22736240daa8464ca19d765bcf3083a7.bindTooltip%28%0A%20%20%20%20%20%20%20%20%20%20%20%20%20%20%20%20%60%3Cdiv%3E%0A%20%20%20%20%20%20%20%20%20%20%20%20%20%20%20%20%20%20%20%20%20Click%20me%21%0A%20%20%20%20%20%20%20%20%20%20%20%20%20%20%20%20%20%3C/div%3E%60%2C%0A%20%20%20%20%20%20%20%20%20%20%20%20%20%20%20%20%7B%22sticky%22%3A%20true%7D%0A%20%20%20%20%20%20%20%20%20%20%20%20%29%3B%0A%20%20%20%20%20%20%20%20%0A%20%20%20%20%0A%20%20%20%20%20%20%20%20%20%20%20%20var%20marker_ba083da2a1a44577b446c7aec53bdc33%20%3D%20L.marker%28%0A%20%20%20%20%20%20%20%20%20%20%20%20%20%20%20%20%5B39.7837304%2C%20-100.4458825%5D%2C%0A%20%20%20%20%20%20%20%20%20%20%20%20%20%20%20%20%7B%22fill%22%3A%20true%2C%20%22radius%22%3A%205%7D%0A%20%20%20%20%20%20%20%20%20%20%20%20%29.addTo%28marker_cluster_0c6994d5d39b4c9d87c31d4a0ff26e5e%29%3B%0A%20%20%20%20%20%20%20%20%0A%20%20%20%20%0A%20%20%20%20%20%20%20%20var%20popup_32f82e1bdbfb4272964f3a082d761a24%20%3D%20L.popup%28%7B%22maxWidth%22%3A%20%22100%25%22%7D%29%3B%0A%0A%20%20%20%20%20%20%20%20%0A%20%20%20%20%20%20%20%20%20%20%20%20var%20html_a3e760ee1de84506a2f6cf1ec606c112%20%3D%20%24%28%60%3Cdiv%20id%3D%22html_a3e760ee1de84506a2f6cf1ec606c112%22%20style%3D%22width%3A%20100.0%25%3B%20height%3A%20100.0%25%3B%22%3E%20%20%20%20%20%20%20%20%20%20%20%20%20%20%20%20%20Country%20name%20%3A%20United%20States%3Cbr%3E%3Cbr%3E%20%20%20%20%20%20%20%20%20%20%20%20%20%20%20%20%20%25Respondents%20%3A%200.1%3Cbr%3E%3Cbr%3E%20%20%20%20%20%20%20%20%20%20%20%20%20%20%20%20%20%25Employment%20%3A%200.08%3Cbr%3E%3Cbr%3E%20%20%20%20%20%20%20%20%20%20%20%20%20%20%20%20%20%25Self-employment%20%3A%200.08%3Cbr%3E%3Cbr%3E%20%20%20%20%20%20%20%20%20%20%20%20%20%20%20%20%20%25Unmployment%20%3A%200.11%3Cbr%3E%3Cbr%3E%20%20%20%20%20%20%20%20%20%20%20%20%20%20%20%20%20%3C/div%3E%60%29%5B0%5D%3B%0A%20%20%20%20%20%20%20%20%20%20%20%20popup_32f82e1bdbfb4272964f3a082d761a24.setContent%28html_a3e760ee1de84506a2f6cf1ec606c112%29%3B%0A%20%20%20%20%20%20%20%20%0A%0A%20%20%20%20%20%20%20%20marker_ba083da2a1a44577b446c7aec53bdc33.bindPopup%28popup_32f82e1bdbfb4272964f3a082d761a24%29%0A%20%20%20%20%20%20%20%20%3B%0A%0A%20%20%20%20%20%20%20%20%0A%20%20%20%20%0A%20%20%20%20%0A%20%20%20%20%20%20%20%20%20%20%20%20marker_ba083da2a1a44577b446c7aec53bdc33.bindTooltip%28%0A%20%20%20%20%20%20%20%20%20%20%20%20%20%20%20%20%60%3Cdiv%3E%0A%20%20%20%20%20%20%20%20%20%20%20%20%20%20%20%20%20%20%20%20%20Click%20me%21%0A%20%20%20%20%20%20%20%20%20%20%20%20%20%20%20%20%20%3C/div%3E%60%2C%0A%20%20%20%20%20%20%20%20%20%20%20%20%20%20%20%20%7B%22sticky%22%3A%20true%7D%0A%20%20%20%20%20%20%20%20%20%20%20%20%29%3B%0A%20%20%20%20%20%20%20%20%0A%20%20%20%20%0A%20%20%20%20%20%20%20%20%20%20%20%20var%20marker_e2285fe089d945edbbe27b9d06bc70ca%20%3D%20L.marker%28%0A%20%20%20%20%20%20%20%20%20%20%20%20%20%20%20%20%5B25.6242618%2C%2042.3528328%5D%2C%0A%20%20%20%20%20%20%20%20%20%20%20%20%20%20%20%20%7B%22fill%22%3A%20true%2C%20%22radius%22%3A%205%7D%0A%20%20%20%20%20%20%20%20%20%20%20%20%29.addTo%28marker_cluster_0c6994d5d39b4c9d87c31d4a0ff26e5e%29%3B%0A%20%20%20%20%20%20%20%20%0A%20%20%20%20%0A%20%20%20%20%20%20%20%20var%20popup_1bb85973043f4bafbe2e7d0674f9e784%20%3D%20L.popup%28%7B%22maxWidth%22%3A%20%22100%25%22%7D%29%3B%0A%0A%20%20%20%20%20%20%20%20%0A%20%20%20%20%20%20%20%20%20%20%20%20var%20html_7ea28ac2b6f34f37900aed32cd6ead02%20%3D%20%24%28%60%3Cdiv%20id%3D%22html_7ea28ac2b6f34f37900aed32cd6ead02%22%20style%3D%22width%3A%20100.0%25%3B%20height%3A%20100.0%25%3B%22%3E%20%20%20%20%20%20%20%20%20%20%20%20%20%20%20%20%20Country%20name%20%3A%20Saudi%20Arabia%3Cbr%3E%3Cbr%3E%20%20%20%20%20%20%20%20%20%20%20%20%20%20%20%20%20%25Respondents%20%3A%200.06%3Cbr%3E%3Cbr%3E%20%20%20%20%20%20%20%20%20%20%20%20%20%20%20%20%20%25Employment%20%3A%200.08%3Cbr%3E%3Cbr%3E%20%20%20%20%20%20%20%20%20%20%20%20%20%20%20%20%20%25Self-employment%20%3A%200.0%3Cbr%3E%3Cbr%3E%20%20%20%20%20%20%20%20%20%20%20%20%20%20%20%20%20%25Unmployment%20%3A%200.07%3Cbr%3E%3Cbr%3E%20%20%20%20%20%20%20%20%20%20%20%20%20%20%20%20%20%3C/div%3E%60%29%5B0%5D%3B%0A%20%20%20%20%20%20%20%20%20%20%20%20popup_1bb85973043f4bafbe2e7d0674f9e784.setContent%28html_7ea28ac2b6f34f37900aed32cd6ead02%29%3B%0A%20%20%20%20%20%20%20%20%0A%0A%20%20%20%20%20%20%20%20marker_e2285fe089d945edbbe27b9d06bc70ca.bindPopup%28popup_1bb85973043f4bafbe2e7d0674f9e784%29%0A%20%20%20%20%20%20%20%20%3B%0A%0A%20%20%20%20%20%20%20%20%0A%20%20%20%20%0A%20%20%20%20%0A%20%20%20%20%20%20%20%20%20%20%20%20marker_e2285fe089d945edbbe27b9d06bc70ca.bindTooltip%28%0A%20%20%20%20%20%20%20%20%20%20%20%20%20%20%20%20%60%3Cdiv%3E%0A%20%20%20%20%20%20%20%20%20%20%20%20%20%20%20%20%20%20%20%20%20Click%20me%21%0A%20%20%20%20%20%20%20%20%20%20%20%20%20%20%20%20%20%3C/div%3E%60%2C%0A%20%20%20%20%20%20%20%20%20%20%20%20%20%20%20%20%7B%22sticky%22%3A%20true%7D%0A%20%20%20%20%20%20%20%20%20%20%20%20%29%3B%0A%20%20%20%20%20%20%20%20%0A%20%20%20%20%0A%20%20%20%20%20%20%20%20%20%20%20%20var%20marker_7a108adc952d4716a96727af3d793a15%20%3D%20L.marker%28%0A%20%20%20%20%20%20%20%20%20%20%20%20%20%20%20%20%5B47.1817585%2C%2019.5060937%5D%2C%0A%20%20%20%20%20%20%20%20%20%20%20%20%20%20%20%20%7B%22fill%22%3A%20true%2C%20%22radius%22%3A%205%7D%0A%20%20%20%20%20%20%20%20%20%20%20%20%29.addTo%28marker_cluster_0c6994d5d39b4c9d87c31d4a0ff26e5e%29%3B%0A%20%20%20%20%20%20%20%20%0A%20%20%20%20%0A%20%20%20%20%20%20%20%20var%20popup_a8df57c8c62944b9a6141c315c385f20%20%3D%20L.popup%28%7B%22maxWidth%22%3A%20%22100%25%22%7D%29%3B%0A%0A%20%20%20%20%20%20%20%20%0A%20%20%20%20%20%20%20%20%20%20%20%20var%20html_4e239c984bae4f06bf24dab80dbf6df5%20%3D%20%24%28%60%3Cdiv%20id%3D%22html_4e239c984bae4f06bf24dab80dbf6df5%22%20style%3D%22width%3A%20100.0%25%3B%20height%3A%20100.0%25%3B%22%3E%20%20%20%20%20%20%20%20%20%20%20%20%20%20%20%20%20Country%20name%20%3A%20Hungary%3Cbr%3E%3Cbr%3E%20%20%20%20%20%20%20%20%20%20%20%20%20%20%20%20%20%25Respondents%20%3A%200.03%3Cbr%3E%3Cbr%3E%20%20%20%20%20%20%20%20%20%20%20%20%20%20%20%20%20%25Employment%20%3A%200.03%3Cbr%3E%3Cbr%3E%20%20%20%20%20%20%20%20%20%20%20%20%20%20%20%20%20%25Self-employment%20%3A%200.0%3Cbr%3E%3Cbr%3E%20%20%20%20%20%20%20%20%20%20%20%20%20%20%20%20%20%25Unmployment%20%3A%200.0%3Cbr%3E%3Cbr%3E%20%20%20%20%20%20%20%20%20%20%20%20%20%20%20%20%20%3C/div%3E%60%29%5B0%5D%3B%0A%20%20%20%20%20%20%20%20%20%20%20%20popup_a8df57c8c62944b9a6141c315c385f20.setContent%28html_4e239c984bae4f06bf24dab80dbf6df5%29%3B%0A%20%20%20%20%20%20%20%20%0A%0A%20%20%20%20%20%20%20%20marker_7a108adc952d4716a96727af3d793a15.bindPopup%28popup_a8df57c8c62944b9a6141c315c385f20%29%0A%20%20%20%20%20%20%20%20%3B%0A%0A%20%20%20%20%20%20%20%20%0A%20%20%20%20%0A%20%20%20%20%0A%20%20%20%20%20%20%20%20%20%20%20%20marker_7a108adc952d4716a96727af3d793a15.bindTooltip%28%0A%20%20%20%20%20%20%20%20%20%20%20%20%20%20%20%20%60%3Cdiv%3E%0A%20%20%20%20%20%20%20%20%20%20%20%20%20%20%20%20%20%20%20%20%20Click%20me%21%0A%20%20%20%20%20%20%20%20%20%20%20%20%20%20%20%20%20%3C/div%3E%60%2C%0A%20%20%20%20%20%20%20%20%20%20%20%20%20%20%20%20%7B%22sticky%22%3A%20true%7D%0A%20%20%20%20%20%20%20%20%20%20%20%20%29%3B%0A%20%20%20%20%20%20%20%20%0A%20%20%20%20%0A%20%20%20%20%20%20%20%20%20%20%20%20var%20marker_cc5ea44c9e44451a98bbabaf0746beb0%20%3D%20L.marker%28%0A%20%20%20%20%20%20%20%20%20%20%20%20%20%20%20%20%5B24.0002488%2C%2053.9994829%5D%2C%0A%20%20%20%20%20%20%20%20%20%20%20%20%20%20%20%20%7B%22fill%22%3A%20true%2C%20%22radius%22%3A%205%7D%0A%20%20%20%20%20%20%20%20%20%20%20%20%29.addTo%28marker_cluster_0c6994d5d39b4c9d87c31d4a0ff26e5e%29%3B%0A%20%20%20%20%20%20%20%20%0A%20%20%20%20%0A%20%20%20%20%20%20%20%20var%20popup_c474541752fb43f3aefe5770923e445a%20%3D%20L.popup%28%7B%22maxWidth%22%3A%20%22100%25%22%7D%29%3B%0A%0A%20%20%20%20%20%20%20%20%0A%20%20%20%20%20%20%20%20%20%20%20%20var%20html_436686cc34e7473dad30a124e560231f%20%3D%20%24%28%60%3Cdiv%20id%3D%22html_436686cc34e7473dad30a124e560231f%22%20style%3D%22width%3A%20100.0%25%3B%20height%3A%20100.0%25%3B%22%3E%20%20%20%20%20%20%20%20%20%20%20%20%20%20%20%20%20Country%20name%20%3A%20United%20Arab%20Emirates%3Cbr%3E%3Cbr%3E%20%20%20%20%20%20%20%20%20%20%20%20%20%20%20%20%20%25Respondents%20%3A%200.03%3Cbr%3E%3Cbr%3E%20%20%20%20%20%20%20%20%20%20%20%20%20%20%20%20%20%25Employment%20%3A%200.03%3Cbr%3E%3Cbr%3E%20%20%20%20%20%20%20%20%20%20%20%20%20%20%20%20%20%25Self-employment%20%3A%200.0%3Cbr%3E%3Cbr%3E%20%20%20%20%20%20%20%20%20%20%20%20%20%20%20%20%20%25Unmployment%20%3A%200.07%3Cbr%3E%3Cbr%3E%20%20%20%20%20%20%20%20%20%20%20%20%20%20%20%20%20%3C/div%3E%60%29%5B0%5D%3B%0A%20%20%20%20%20%20%20%20%20%20%20%20popup_c474541752fb43f3aefe5770923e445a.setContent%28html_436686cc34e7473dad30a124e560231f%29%3B%0A%20%20%20%20%20%20%20%20%0A%0A%20%20%20%20%20%20%20%20marker_cc5ea44c9e44451a98bbabaf0746beb0.bindPopup%28popup_c474541752fb43f3aefe5770923e445a%29%0A%20%20%20%20%20%20%20%20%3B%0A%0A%20%20%20%20%20%20%20%20%0A%20%20%20%20%0A%20%20%20%20%0A%20%20%20%20%20%20%20%20%20%20%20%20marker_cc5ea44c9e44451a98bbabaf0746beb0.bindTooltip%28%0A%20%20%20%20%20%20%20%20%20%20%20%20%20%20%20%20%60%3Cdiv%3E%0A%20%20%20%20%20%20%20%20%20%20%20%20%20%20%20%20%20%20%20%20%20Click%20me%21%0A%20%20%20%20%20%20%20%20%20%20%20%20%20%20%20%20%20%3C/div%3E%60%2C%0A%20%20%20%20%20%20%20%20%20%20%20%20%20%20%20%20%7B%22sticky%22%3A%20true%7D%0A%20%20%20%20%20%20%20%20%20%20%20%20%29%3B%0A%20%20%20%20%20%20%20%20%0A%20%20%20%20%0A%20%20%20%20%20%20%20%20%20%20%20%20var%20marker_442fccdb2ebb4ca998fe1c66b739e746%20%3D%20L.marker%28%0A%20%20%20%20%20%20%20%20%20%20%20%20%20%20%20%20%5B-28.8166236%2C%2024.991639%5D%2C%0A%20%20%20%20%20%20%20%20%20%20%20%20%20%20%20%20%7B%22fill%22%3A%20true%2C%20%22radius%22%3A%205%7D%0A%20%20%20%20%20%20%20%20%20%20%20%20%29.addTo%28marker_cluster_0c6994d5d39b4c9d87c31d4a0ff26e5e%29%3B%0A%20%20%20%20%20%20%20%20%0A%20%20%20%20%0A%20%20%20%20%20%20%20%20var%20popup_a81c7beff21644f392eb1fcddcd05482%20%3D%20L.popup%28%7B%22maxWidth%22%3A%20%22100%25%22%7D%29%3B%0A%0A%20%20%20%20%20%20%20%20%0A%20%20%20%20%20%20%20%20%20%20%20%20var%20html_34005c3c03134d03abf1505f6e98d09c%20%3D%20%24%28%60%3Cdiv%20id%3D%22html_34005c3c03134d03abf1505f6e98d09c%22%20style%3D%22width%3A%20100.0%25%3B%20height%3A%20100.0%25%3B%22%3E%20%20%20%20%20%20%20%20%20%20%20%20%20%20%20%20%20Country%20name%20%3A%20South%20Africa%3Cbr%3E%3Cbr%3E%20%20%20%20%20%20%20%20%20%20%20%20%20%20%20%20%20%25Respondents%20%3A%200.03%3Cbr%3E%3Cbr%3E%20%20%20%20%20%20%20%20%20%20%20%20%20%20%20%20%20%25Employment%20%3A%200.03%3Cbr%3E%3Cbr%3E%20%20%20%20%20%20%20%20%20%20%20%20%20%20%20%20%20%25Self-employment%20%3A%200.0%3Cbr%3E%3Cbr%3E%20%20%20%20%20%20%20%20%20%20%20%20%20%20%20%20%20%25Unmployment%20%3A%200.07%3Cbr%3E%3Cbr%3E%20%20%20%20%20%20%20%20%20%20%20%20%20%20%20%20%20%3C/div%3E%60%29%5B0%5D%3B%0A%20%20%20%20%20%20%20%20%20%20%20%20popup_a81c7beff21644f392eb1fcddcd05482.setContent%28html_34005c3c03134d03abf1505f6e98d09c%29%3B%0A%20%20%20%20%20%20%20%20%0A%0A%20%20%20%20%20%20%20%20marker_442fccdb2ebb4ca998fe1c66b739e746.bindPopup%28popup_a81c7beff21644f392eb1fcddcd05482%29%0A%20%20%20%20%20%20%20%20%3B%0A%0A%20%20%20%20%20%20%20%20%0A%20%20%20%20%0A%20%20%20%20%0A%20%20%20%20%20%20%20%20%20%20%20%20marker_442fccdb2ebb4ca998fe1c66b739e746.bindTooltip%28%0A%20%20%20%20%20%20%20%20%20%20%20%20%20%20%20%20%60%3Cdiv%3E%0A%20%20%20%20%20%20%20%20%20%20%20%20%20%20%20%20%20%20%20%20%20Click%20me%21%0A%20%20%20%20%20%20%20%20%20%20%20%20%20%20%20%20%20%3C/div%3E%60%2C%0A%20%20%20%20%20%20%20%20%20%20%20%20%20%20%20%20%7B%22sticky%22%3A%20true%7D%0A%20%20%20%20%20%20%20%20%20%20%20%20%29%3B%0A%20%20%20%20%20%20%20%20%0A%20%20%20%20%0A%20%20%20%20%20%20%20%20%20%20%20%20var%20marker_ec1492af204d47a68fbc2f69a9af358d%20%3D%20L.marker%28%0A%20%20%20%20%20%20%20%20%20%20%20%20%20%20%20%20%5B51.0834196%2C%2010.4234469%5D%2C%0A%20%20%20%20%20%20%20%20%20%20%20%20%20%20%20%20%7B%22fill%22%3A%20true%2C%20%22radius%22%3A%205%7D%0A%20%20%20%20%20%20%20%20%20%20%20%20%29.addTo%28marker_cluster_0c6994d5d39b4c9d87c31d4a0ff26e5e%29%3B%0A%20%20%20%20%20%20%20%20%0A%20%20%20%20%0A%20%20%20%20%20%20%20%20var%20popup_0fc6e7d048a64b0092f88fa9fcb8ee92%20%3D%20L.popup%28%7B%22maxWidth%22%3A%20%22100%25%22%7D%29%3B%0A%0A%20%20%20%20%20%20%20%20%0A%20%20%20%20%20%20%20%20%20%20%20%20var%20html_ac0ab57c79804dcfad3dd1ca7f94d8c5%20%3D%20%24%28%60%3Cdiv%20id%3D%22html_ac0ab57c79804dcfad3dd1ca7f94d8c5%22%20style%3D%22width%3A%20100.0%25%3B%20height%3A%20100.0%25%3B%22%3E%20%20%20%20%20%20%20%20%20%20%20%20%20%20%20%20%20Country%20name%20%3A%20Germany%3Cbr%3E%3Cbr%3E%20%20%20%20%20%20%20%20%20%20%20%20%20%20%20%20%20%25Respondents%20%3A%200.03%3Cbr%3E%3Cbr%3E%20%20%20%20%20%20%20%20%20%20%20%20%20%20%20%20%20%25Employment%20%3A%200.06%3Cbr%3E%3Cbr%3E%20%20%20%20%20%20%20%20%20%20%20%20%20%20%20%20%20%25Self-employment%20%3A%200.0%3Cbr%3E%3Cbr%3E%20%20%20%20%20%20%20%20%20%20%20%20%20%20%20%20%20%25Unmployment%20%3A%200.0%3Cbr%3E%3Cbr%3E%20%20%20%20%20%20%20%20%20%20%20%20%20%20%20%20%20%3C/div%3E%60%29%5B0%5D%3B%0A%20%20%20%20%20%20%20%20%20%20%20%20popup_0fc6e7d048a64b0092f88fa9fcb8ee92.setContent%28html_ac0ab57c79804dcfad3dd1ca7f94d8c5%29%3B%0A%20%20%20%20%20%20%20%20%0A%0A%20%20%20%20%20%20%20%20marker_ec1492af204d47a68fbc2f69a9af358d.bindPopup%28popup_0fc6e7d048a64b0092f88fa9fcb8ee92%29%0A%20%20%20%20%20%20%20%20%3B%0A%0A%20%20%20%20%20%20%20%20%0A%20%20%20%20%0A%20%20%20%20%0A%20%20%20%20%20%20%20%20%20%20%20%20marker_ec1492af204d47a68fbc2f69a9af358d.bindTooltip%28%0A%20%20%20%20%20%20%20%20%20%20%20%20%20%20%20%20%60%3Cdiv%3E%0A%20%20%20%20%20%20%20%20%20%20%20%20%20%20%20%20%20%20%20%20%20Click%20me%21%0A%20%20%20%20%20%20%20%20%20%20%20%20%20%20%20%20%20%3C/div%3E%60%2C%0A%20%20%20%20%20%20%20%20%20%20%20%20%20%20%20%20%7B%22sticky%22%3A%20true%7D%0A%20%20%20%20%20%20%20%20%20%20%20%20%29%3B%0A%20%20%20%20%20%20%20%20%0A%20%20%20%20%0A%20%20%20%20%20%20%20%20%20%20%20%20var%20marker_fc3f4470e38043bb9cbc52480c86c97c%20%3D%20L.marker%28%0A%20%20%20%20%20%20%20%20%20%20%20%20%20%20%20%20%5B1.357107%2C%20103.8194992%5D%2C%0A%20%20%20%20%20%20%20%20%20%20%20%20%20%20%20%20%7B%22fill%22%3A%20true%2C%20%22radius%22%3A%205%7D%0A%20%20%20%20%20%20%20%20%20%20%20%20%29.addTo%28marker_cluster_0c6994d5d39b4c9d87c31d4a0ff26e5e%29%3B%0A%20%20%20%20%20%20%20%20%0A%20%20%20%20%0A%20%20%20%20%20%20%20%20var%20popup_e102d1927eb74b67b33ee112527bc171%20%3D%20L.popup%28%7B%22maxWidth%22%3A%20%22100%25%22%7D%29%3B%0A%0A%20%20%20%20%20%20%20%20%0A%20%20%20%20%20%20%20%20%20%20%20%20var%20html_048913e07ff946ecba830caf16f51869%20%3D%20%24%28%60%3Cdiv%20id%3D%22html_048913e07ff946ecba830caf16f51869%22%20style%3D%22width%3A%20100.0%25%3B%20height%3A%20100.0%25%3B%22%3E%20%20%20%20%20%20%20%20%20%20%20%20%20%20%20%20%20Country%20name%20%3A%20Singapore%3Cbr%3E%3Cbr%3E%20%20%20%20%20%20%20%20%20%20%20%20%20%20%20%20%20%25Respondents%20%3A%200.02%3Cbr%3E%3Cbr%3E%20%20%20%20%20%20%20%20%20%20%20%20%20%20%20%20%20%25Employment%20%3A%200.03%3Cbr%3E%3Cbr%3E%20%20%20%20%20%20%20%20%20%20%20%20%20%20%20%20%20%25Self-employment%20%3A%200.0%3Cbr%3E%3Cbr%3E%20%20%20%20%20%20%20%20%20%20%20%20%20%20%20%20%20%25Unmployment%20%3A%200.0%3Cbr%3E%3Cbr%3E%20%20%20%20%20%20%20%20%20%20%20%20%20%20%20%20%20%3C/div%3E%60%29%5B0%5D%3B%0A%20%20%20%20%20%20%20%20%20%20%20%20popup_e102d1927eb74b67b33ee112527bc171.setContent%28html_048913e07ff946ecba830caf16f51869%29%3B%0A%20%20%20%20%20%20%20%20%0A%0A%20%20%20%20%20%20%20%20marker_fc3f4470e38043bb9cbc52480c86c97c.bindPopup%28popup_e102d1927eb74b67b33ee112527bc171%29%0A%20%20%20%20%20%20%20%20%3B%0A%0A%20%20%20%20%20%20%20%20%0A%20%20%20%20%0A%20%20%20%20%0A%20%20%20%20%20%20%20%20%20%20%20%20marker_fc3f4470e38043bb9cbc52480c86c97c.bindTooltip%28%0A%20%20%20%20%20%20%20%20%20%20%20%20%20%20%20%20%60%3Cdiv%3E%0A%20%20%20%20%20%20%20%20%20%20%20%20%20%20%20%20%20%20%20%20%20Click%20me%21%0A%20%20%20%20%20%20%20%20%20%20%20%20%20%20%20%20%20%3C/div%3E%60%2C%0A%20%20%20%20%20%20%20%20%20%20%20%20%20%20%20%20%7B%22sticky%22%3A%20true%7D%0A%20%20%20%20%20%20%20%20%20%20%20%20%29%3B%0A%20%20%20%20%20%20%20%20%0A%20%20%20%20%0A%20%20%20%20%20%20%20%20%20%20%20%20var%20marker_05ae4a53a73e4565a6d80030ea565b06%20%3D%20L.marker%28%0A%20%20%20%20%20%20%20%20%20%20%20%20%20%20%20%20%5B-1.9646631%2C%2030.0644358%5D%2C%0A%20%20%20%20%20%20%20%20%20%20%20%20%20%20%20%20%7B%22fill%22%3A%20true%2C%20%22radius%22%3A%205%7D%0A%20%20%20%20%20%20%20%20%20%20%20%20%29.addTo%28marker_cluster_0c6994d5d39b4c9d87c31d4a0ff26e5e%29%3B%0A%20%20%20%20%20%20%20%20%0A%20%20%20%20%0A%20%20%20%20%20%20%20%20var%20popup_bfc0d510320141f1ad38f721849aa5c2%20%3D%20L.popup%28%7B%22maxWidth%22%3A%20%22100%25%22%7D%29%3B%0A%0A%20%20%20%20%20%20%20%20%0A%20%20%20%20%20%20%20%20%20%20%20%20var%20html_3430fd04794d4c2ca4e2f394541d105b%20%3D%20%24%28%60%3Cdiv%20id%3D%22html_3430fd04794d4c2ca4e2f394541d105b%22%20style%3D%22width%3A%20100.0%25%3B%20height%3A%20100.0%25%3B%22%3E%20%20%20%20%20%20%20%20%20%20%20%20%20%20%20%20%20Country%20name%20%3A%20Rwanda%3Cbr%3E%3Cbr%3E%20%20%20%20%20%20%20%20%20%20%20%20%20%20%20%20%20%25Respondents%20%3A%200.01%3Cbr%3E%3Cbr%3E%20%20%20%20%20%20%20%20%20%20%20%20%20%20%20%20%20%25Employment%20%3A%200.0%3Cbr%3E%3Cbr%3E%20%20%20%20%20%20%20%20%20%20%20%20%20%20%20%20%20%25Self-employment%20%3A%200.0%3Cbr%3E%3Cbr%3E%20%20%20%20%20%20%20%20%20%20%20%20%20%20%20%20%20%25Unmployment%20%3A%200.0%3Cbr%3E%3Cbr%3E%20%20%20%20%20%20%20%20%20%20%20%20%20%20%20%20%20%3C/div%3E%60%29%5B0%5D%3B%0A%20%20%20%20%20%20%20%20%20%20%20%20popup_bfc0d510320141f1ad38f721849aa5c2.setContent%28html_3430fd04794d4c2ca4e2f394541d105b%29%3B%0A%20%20%20%20%20%20%20%20%0A%0A%20%20%20%20%20%20%20%20marker_05ae4a53a73e4565a6d80030ea565b06.bindPopup%28popup_bfc0d510320141f1ad38f721849aa5c2%29%0A%20%20%20%20%20%20%20%20%3B%0A%0A%20%20%20%20%20%20%20%20%0A%20%20%20%20%0A%20%20%20%20%0A%20%20%20%20%20%20%20%20%20%20%20%20marker_05ae4a53a73e4565a6d80030ea565b06.bindTooltip%28%0A%20%20%20%20%20%20%20%20%20%20%20%20%20%20%20%20%60%3Cdiv%3E%0A%20%20%20%20%20%20%20%20%20%20%20%20%20%20%20%20%20%20%20%20%20Click%20me%21%0A%20%20%20%20%20%20%20%20%20%20%20%20%20%20%20%20%20%3C/div%3E%60%2C%0A%20%20%20%20%20%20%20%20%20%20%20%20%20%20%20%20%7B%22sticky%22%3A%20true%7D%0A%20%20%20%20%20%20%20%20%20%20%20%20%29%3B%0A%20%20%20%20%20%20%20%20%0A%20%20%20%20%0A%20%20%20%20%20%20%20%20%20%20%20%20var%20marker_8c9dd7b6f6494f52abceef4eabb80640%20%3D%20L.marker%28%0A%20%20%20%20%20%20%20%20%20%20%20%20%20%20%20%20%5B33.0955793%2C%2044.1749775%5D%2C%0A%20%20%20%20%20%20%20%20%20%20%20%20%20%20%20%20%7B%22fill%22%3A%20true%2C%20%22radius%22%3A%205%7D%0A%20%20%20%20%20%20%20%20%20%20%20%20%29.addTo%28marker_cluster_0c6994d5d39b4c9d87c31d4a0ff26e5e%29%3B%0A%20%20%20%20%20%20%20%20%0A%20%20%20%20%0A%20%20%20%20%20%20%20%20var%20popup_a99470dfd8804ca99be6b794a027eac6%20%3D%20L.popup%28%7B%22maxWidth%22%3A%20%22100%25%22%7D%29%3B%0A%0A%20%20%20%20%20%20%20%20%0A%20%20%20%20%20%20%20%20%20%20%20%20var%20html_672b792c35794d8a9cece5211bdc8f5c%20%3D%20%24%28%60%3Cdiv%20id%3D%22html_672b792c35794d8a9cece5211bdc8f5c%22%20style%3D%22width%3A%20100.0%25%3B%20height%3A%20100.0%25%3B%22%3E%20%20%20%20%20%20%20%20%20%20%20%20%20%20%20%20%20Country%20name%20%3A%20Iraq%3Cbr%3E%3Cbr%3E%20%20%20%20%20%20%20%20%20%20%20%20%20%20%20%20%20%25Respondents%20%3A%200.01%3Cbr%3E%3Cbr%3E%20%20%20%20%20%20%20%20%20%20%20%20%20%20%20%20%20%25Employment%20%3A%200.0%3Cbr%3E%3Cbr%3E%20%20%20%20%20%20%20%20%20%20%20%20%20%20%20%20%20%25Self-employment%20%3A%200.08%3Cbr%3E%3Cbr%3E%20%20%20%20%20%20%20%20%20%20%20%20%20%20%20%20%20%25Unmployment%20%3A%200.0%3Cbr%3E%3Cbr%3E%20%20%20%20%20%20%20%20%20%20%20%20%20%20%20%20%20%3C/div%3E%60%29%5B0%5D%3B%0A%20%20%20%20%20%20%20%20%20%20%20%20popup_a99470dfd8804ca99be6b794a027eac6.setContent%28html_672b792c35794d8a9cece5211bdc8f5c%29%3B%0A%20%20%20%20%20%20%20%20%0A%0A%20%20%20%20%20%20%20%20marker_8c9dd7b6f6494f52abceef4eabb80640.bindPopup%28popup_a99470dfd8804ca99be6b794a027eac6%29%0A%20%20%20%20%20%20%20%20%3B%0A%0A%20%20%20%20%20%20%20%20%0A%20%20%20%20%0A%20%20%20%20%0A%20%20%20%20%20%20%20%20%20%20%20%20marker_8c9dd7b6f6494f52abceef4eabb80640.bindTooltip%28%0A%20%20%20%20%20%20%20%20%20%20%20%20%20%20%20%20%60%3Cdiv%3E%0A%20%20%20%20%20%20%20%20%20%20%20%20%20%20%20%20%20%20%20%20%20Click%20me%21%0A%20%20%20%20%20%20%20%20%20%20%20%20%20%20%20%20%20%3C/div%3E%60%2C%0A%20%20%20%20%20%20%20%20%20%20%20%20%20%20%20%20%7B%22sticky%22%3A%20true%7D%0A%20%20%20%20%20%20%20%20%20%20%20%20%29%3B%0A%20%20%20%20%20%20%20%20%0A%20%20%20%20%0A%20%20%20%20%20%20%20%20%20%20%20%20var%20marker_35249e61670541d8b5515c0bb5ead9f4%20%3D%20L.marker%28%0A%20%20%20%20%20%20%20%20%20%20%20%20%20%20%20%20%5B9.6000359%2C%207.9999721%5D%2C%0A%20%20%20%20%20%20%20%20%20%20%20%20%20%20%20%20%7B%22fill%22%3A%20true%2C%20%22radius%22%3A%205%7D%0A%20%20%20%20%20%20%20%20%20%20%20%20%29.addTo%28marker_cluster_0c6994d5d39b4c9d87c31d4a0ff26e5e%29%3B%0A%20%20%20%20%20%20%20%20%0A%20%20%20%20%0A%20%20%20%20%20%20%20%20var%20popup_d36e6694f6434401aedbb593f3c15d01%20%3D%20L.popup%28%7B%22maxWidth%22%3A%20%22100%25%22%7D%29%3B%0A%0A%20%20%20%20%20%20%20%20%0A%20%20%20%20%20%20%20%20%20%20%20%20var%20html_8a0d6994ba0d4762aa881ce0ac1e7b2b%20%3D%20%24%28%60%3Cdiv%20id%3D%22html_8a0d6994ba0d4762aa881ce0ac1e7b2b%22%20style%3D%22width%3A%20100.0%25%3B%20height%3A%20100.0%25%3B%22%3E%20%20%20%20%20%20%20%20%20%20%20%20%20%20%20%20%20Country%20name%20%3A%20Nigeria%3Cbr%3E%3Cbr%3E%20%20%20%20%20%20%20%20%20%20%20%20%20%20%20%20%20%25Respondents%20%3A%200.01%3Cbr%3E%3Cbr%3E%20%20%20%20%20%20%20%20%20%20%20%20%20%20%20%20%20%25Employment%20%3A%200.02%3Cbr%3E%3Cbr%3E%20%20%20%20%20%20%20%20%20%20%20%20%20%20%20%20%20%25Self-employment%20%3A%200.0%3Cbr%3E%3Cbr%3E%20%20%20%20%20%20%20%20%20%20%20%20%20%20%20%20%20%25Unmployment%20%3A%200.0%3Cbr%3E%3Cbr%3E%20%20%20%20%20%20%20%20%20%20%20%20%20%20%20%20%20%3C/div%3E%60%29%5B0%5D%3B%0A%20%20%20%20%20%20%20%20%20%20%20%20popup_d36e6694f6434401aedbb593f3c15d01.setContent%28html_8a0d6994ba0d4762aa881ce0ac1e7b2b%29%3B%0A%20%20%20%20%20%20%20%20%0A%0A%20%20%20%20%20%20%20%20marker_35249e61670541d8b5515c0bb5ead9f4.bindPopup%28popup_d36e6694f6434401aedbb593f3c15d01%29%0A%20%20%20%20%20%20%20%20%3B%0A%0A%20%20%20%20%20%20%20%20%0A%20%20%20%20%0A%20%20%20%20%0A%20%20%20%20%20%20%20%20%20%20%20%20marker_35249e61670541d8b5515c0bb5ead9f4.bindTooltip%28%0A%20%20%20%20%20%20%20%20%20%20%20%20%20%20%20%20%60%3Cdiv%3E%0A%20%20%20%20%20%20%20%20%20%20%20%20%20%20%20%20%20%20%20%20%20Click%20me%21%0A%20%20%20%20%20%20%20%20%20%20%20%20%20%20%20%20%20%3C/div%3E%60%2C%0A%20%20%20%20%20%20%20%20%20%20%20%20%20%20%20%20%7B%22sticky%22%3A%20true%7D%0A%20%20%20%20%20%20%20%20%20%20%20%20%29%3B%0A%20%20%20%20%20%20%20%20%0A%20%20%20%20%0A%20%20%20%20%20%20%20%20%20%20%20%20var%20marker_44fe6399a34142f0bab20f77345be299%20%3D%20L.marker%28%0A%20%20%20%20%20%20%20%20%20%20%20%20%20%20%20%20%5B25.3336984%2C%2051.2295295%5D%2C%0A%20%20%20%20%20%20%20%20%20%20%20%20%20%20%20%20%7B%22fill%22%3A%20true%2C%20%22radius%22%3A%205%7D%0A%20%20%20%20%20%20%20%20%20%20%20%20%29.addTo%28marker_cluster_0c6994d5d39b4c9d87c31d4a0ff26e5e%29%3B%0A%20%20%20%20%20%20%20%20%0A%20%20%20%20%0A%20%20%20%20%20%20%20%20var%20popup_ba63c9181d6248b1aaa32f089cbf72f1%20%3D%20L.popup%28%7B%22maxWidth%22%3A%20%22100%25%22%7D%29%3B%0A%0A%20%20%20%20%20%20%20%20%0A%20%20%20%20%20%20%20%20%20%20%20%20var%20html_90584954ec4f442a98040eb41bd4c9d8%20%3D%20%24%28%60%3Cdiv%20id%3D%22html_90584954ec4f442a98040eb41bd4c9d8%22%20style%3D%22width%3A%20100.0%25%3B%20height%3A%20100.0%25%3B%22%3E%20%20%20%20%20%20%20%20%20%20%20%20%20%20%20%20%20Country%20name%20%3A%20Qatar%3Cbr%3E%3Cbr%3E%20%20%20%20%20%20%20%20%20%20%20%20%20%20%20%20%20%25Respondents%20%3A%200.01%3Cbr%3E%3Cbr%3E%20%20%20%20%20%20%20%20%20%20%20%20%20%20%20%20%20%25Employment%20%3A%200.02%3Cbr%3E%3Cbr%3E%20%20%20%20%20%20%20%20%20%20%20%20%20%20%20%20%20%25Self-employment%20%3A%200.0%3Cbr%3E%3Cbr%3E%20%20%20%20%20%20%20%20%20%20%20%20%20%20%20%20%20%25Unmployment%20%3A%200.0%3Cbr%3E%3Cbr%3E%20%20%20%20%20%20%20%20%20%20%20%20%20%20%20%20%20%3C/div%3E%60%29%5B0%5D%3B%0A%20%20%20%20%20%20%20%20%20%20%20%20popup_ba63c9181d6248b1aaa32f089cbf72f1.setContent%28html_90584954ec4f442a98040eb41bd4c9d8%29%3B%0A%20%20%20%20%20%20%20%20%0A%0A%20%20%20%20%20%20%20%20marker_44fe6399a34142f0bab20f77345be299.bindPopup%28popup_ba63c9181d6248b1aaa32f089cbf72f1%29%0A%20%20%20%20%20%20%20%20%3B%0A%0A%20%20%20%20%20%20%20%20%0A%20%20%20%20%0A%20%20%20%20%0A%20%20%20%20%20%20%20%20%20%20%20%20marker_44fe6399a34142f0bab20f77345be299.bindTooltip%28%0A%20%20%20%20%20%20%20%20%20%20%20%20%20%20%20%20%60%3Cdiv%3E%0A%20%20%20%20%20%20%20%20%20%20%20%20%20%20%20%20%20%20%20%20%20Click%20me%21%0A%20%20%20%20%20%20%20%20%20%20%20%20%20%20%20%20%20%3C/div%3E%60%2C%0A%20%20%20%20%20%20%20%20%20%20%20%20%20%20%20%20%7B%22sticky%22%3A%20true%7D%0A%20%20%20%20%20%20%20%20%20%20%20%20%29%3B%0A%20%20%20%20%20%20%20%20%0A%20%20%20%20%0A%20%20%20%20%20%20%20%20%20%20%20%20var%20marker_c397c74d5e1a4f87a009a335afc8a311%20%3D%20L.marker%28%0A%20%20%20%20%20%20%20%20%20%20%20%20%20%20%20%20%5B33.8439408%2C%209.400138%5D%2C%0A%20%20%20%20%20%20%20%20%20%20%20%20%20%20%20%20%7B%22fill%22%3A%20true%2C%20%22radius%22%3A%205%7D%0A%20%20%20%20%20%20%20%20%20%20%20%20%29.addTo%28marker_cluster_0c6994d5d39b4c9d87c31d4a0ff26e5e%29%3B%0A%20%20%20%20%20%20%20%20%0A%20%20%20%20%0A%20%20%20%20%20%20%20%20var%20popup_381749355bf849a1be96bde23966e25b%20%3D%20L.popup%28%7B%22maxWidth%22%3A%20%22100%25%22%7D%29%3B%0A%0A%20%20%20%20%20%20%20%20%0A%20%20%20%20%20%20%20%20%20%20%20%20var%20html_6eb7d94606274c238275f4469b6b718a%20%3D%20%24%28%60%3Cdiv%20id%3D%22html_6eb7d94606274c238275f4469b6b718a%22%20style%3D%22width%3A%20100.0%25%3B%20height%3A%20100.0%25%3B%22%3E%20%20%20%20%20%20%20%20%20%20%20%20%20%20%20%20%20Country%20name%20%3A%20Tunisia%3Cbr%3E%3Cbr%3E%20%20%20%20%20%20%20%20%20%20%20%20%20%20%20%20%20%25Respondents%20%3A%200.01%3Cbr%3E%3Cbr%3E%20%20%20%20%20%20%20%20%20%20%20%20%20%20%20%20%20%25Employment%20%3A%200.02%3Cbr%3E%3Cbr%3E%20%20%20%20%20%20%20%20%20%20%20%20%20%20%20%20%20%25Self-employment%20%3A%200.0%3Cbr%3E%3Cbr%3E%20%20%20%20%20%20%20%20%20%20%20%20%20%20%20%20%20%25Unmployment%20%3A%200.0%3Cbr%3E%3Cbr%3E%20%20%20%20%20%20%20%20%20%20%20%20%20%20%20%20%20%3C/div%3E%60%29%5B0%5D%3B%0A%20%20%20%20%20%20%20%20%20%20%20%20popup_381749355bf849a1be96bde23966e25b.setContent%28html_6eb7d94606274c238275f4469b6b718a%29%3B%0A%20%20%20%20%20%20%20%20%0A%0A%20%20%20%20%20%20%20%20marker_c397c74d5e1a4f87a009a335afc8a311.bindPopup%28popup_381749355bf849a1be96bde23966e25b%29%0A%20%20%20%20%20%20%20%20%3B%0A%0A%20%20%20%20%20%20%20%20%0A%20%20%20%20%0A%20%20%20%20%0A%20%20%20%20%20%20%20%20%20%20%20%20marker_c397c74d5e1a4f87a009a335afc8a311.bindTooltip%28%0A%20%20%20%20%20%20%20%20%20%20%20%20%20%20%20%20%60%3Cdiv%3E%0A%20%20%20%20%20%20%20%20%20%20%20%20%20%20%20%20%20%20%20%20%20Click%20me%21%0A%20%20%20%20%20%20%20%20%20%20%20%20%20%20%20%20%20%3C/div%3E%60%2C%0A%20%20%20%20%20%20%20%20%20%20%20%20%20%20%20%20%7B%22sticky%22%3A%20true%7D%0A%20%20%20%20%20%20%20%20%20%20%20%20%29%3B%0A%20%20%20%20%20%20%20%20%0A%20%20%20%20%0A%20%20%20%20%20%20%20%20%20%20%20%20var%20marker_c2223a34df4742578d70fa1f2d799d46%20%3D%20L.marker%28%0A%20%20%20%20%20%20%20%20%20%20%20%20%20%20%20%20%5B47.2%2C%2013.2%5D%2C%0A%20%20%20%20%20%20%20%20%20%20%20%20%20%20%20%20%7B%22fill%22%3A%20true%2C%20%22radius%22%3A%205%7D%0A%20%20%20%20%20%20%20%20%20%20%20%20%29.addTo%28marker_cluster_0c6994d5d39b4c9d87c31d4a0ff26e5e%29%3B%0A%20%20%20%20%20%20%20%20%0A%20%20%20%20%0A%20%20%20%20%20%20%20%20var%20popup_19558e0f69c54ff2937c1dabcc184a36%20%3D%20L.popup%28%7B%22maxWidth%22%3A%20%22100%25%22%7D%29%3B%0A%0A%20%20%20%20%20%20%20%20%0A%20%20%20%20%20%20%20%20%20%20%20%20var%20html_b6e980cf24ab48b19841345e601e7587%20%3D%20%24%28%60%3Cdiv%20id%3D%22html_b6e980cf24ab48b19841345e601e7587%22%20style%3D%22width%3A%20100.0%25%3B%20height%3A%20100.0%25%3B%22%3E%20%20%20%20%20%20%20%20%20%20%20%20%20%20%20%20%20Country%20name%20%3A%20Austria%3Cbr%3E%3Cbr%3E%20%20%20%20%20%20%20%20%20%20%20%20%20%20%20%20%20%25Respondents%20%3A%200.01%3Cbr%3E%3Cbr%3E%20%20%20%20%20%20%20%20%20%20%20%20%20%20%20%20%20%25Employment%20%3A%200.0%3Cbr%3E%3Cbr%3E%20%20%20%20%20%20%20%20%20%20%20%20%20%20%20%20%20%25Self-employment%20%3A%200.0%3Cbr%3E%3Cbr%3E%20%20%20%20%20%20%20%20%20%20%20%20%20%20%20%20%20%25Unmployment%20%3A%200.04%3Cbr%3E%3Cbr%3E%20%20%20%20%20%20%20%20%20%20%20%20%20%20%20%20%20%3C/div%3E%60%29%5B0%5D%3B%0A%20%20%20%20%20%20%20%20%20%20%20%20popup_19558e0f69c54ff2937c1dabcc184a36.setContent%28html_b6e980cf24ab48b19841345e601e7587%29%3B%0A%20%20%20%20%20%20%20%20%0A%0A%20%20%20%20%20%20%20%20marker_c2223a34df4742578d70fa1f2d799d46.bindPopup%28popup_19558e0f69c54ff2937c1dabcc184a36%29%0A%20%20%20%20%20%20%20%20%3B%0A%0A%20%20%20%20%20%20%20%20%0A%20%20%20%20%0A%20%20%20%20%0A%20%20%20%20%20%20%20%20%20%20%20%20marker_c2223a34df4742578d70fa1f2d799d46.bindTooltip%28%0A%20%20%20%20%20%20%20%20%20%20%20%20%20%20%20%20%60%3Cdiv%3E%0A%20%20%20%20%20%20%20%20%20%20%20%20%20%20%20%20%20%20%20%20%20Click%20me%21%0A%20%20%20%20%20%20%20%20%20%20%20%20%20%20%20%20%20%3C/div%3E%60%2C%0A%20%20%20%20%20%20%20%20%20%20%20%20%20%20%20%20%7B%22sticky%22%3A%20true%7D%0A%20%20%20%20%20%20%20%20%20%20%20%20%29%3B%0A%20%20%20%20%20%20%20%20%0A%3C/script%3E onload=\"this.contentDocument.open();this.contentDocument.write(    decodeURIComponent(this.getAttribute('data-html')));this.contentDocument.close();\" allowfullscreen webkitallowfullscreen mozallowfullscreen></iframe></div></div>"
      ],
      "text/plain": [
       "<folium.folium.Map at 0x168be6fa0a0>"
      ]
     },
     "execution_count": 195,
     "metadata": {},
     "output_type": "execute_result"
    }
   ],
   "source": [
    "# demonstrate the distribution and emp_status percentages of the survey respondents on an interactive world-map\n",
    "# find the country location corresponding to a set of coordinates\n",
    "# setup a folium map \n",
    "WorldMap = folium.Map(tiles = \"Cartodb Positron\", zoom_start = 2)\n",
    "marker_cluster = MarkerCluster().add_to(WorldMap) \n",
    "for i in range(len(GeoLocation)):\n",
    "    lat_loc = GeoLocation.iloc[i]['latitude']\n",
    "    lng_loc = GeoLocation.iloc[i]['longitude']\n",
    "    \n",
    "    # add a popup text\n",
    "    popups = \"\"\"\n",
    "                Country name : {}<br><br>\n",
    "                %Respondents : {}<br><br>\n",
    "                %Employment : {}<br><br>\n",
    "                %Self-employment : {}<br><br>\n",
    "                %Unmployment : {}<br><br>\n",
    "                \"\"\"\n",
    "    popups = popups.format(GeoLocation.iloc[i]['CountryName'],\n",
    "                           GeoLocation.iloc[i]['counts'],\n",
    "                           GeoLocation.iloc[i]['emp_prc'],\n",
    "                           GeoLocation.iloc[i]['self_emp_prc'],\n",
    "                           GeoLocation.iloc[i]['unemp_prc'])\n",
    "    \n",
    "    # create marker\n",
    "    folium.Marker(location = [lat_loc, lng_loc], radius = 5, popup= popups, fill =True, tooltip = \"Click me!\").add_to(marker_cluster)\n",
    "\n",
    "WorldMap"
   ]
  },
  {
   "cell_type": "markdown",
   "metadata": {},
   "source": [
    "> The interactive map shows the proportion of the employment status per country and the respondent's frequency."
   ]
  },
  {
   "cell_type": "markdown",
   "metadata": {},
   "source": [
    "### Proportion of Employed by Employment Period"
   ]
  },
  {
   "cell_type": "code",
   "execution_count": 196,
   "metadata": {},
   "outputs": [
    {
     "data": {
      "image/png": "[encoded data removed]",
      "text/plain": [
       "<Figure size 432x288 with 1 Axes>"
      ]
     },
     "metadata": {},
     "output_type": "display_data"
    }
   ],
   "source": [
    "# select the \"emp_period\" for \"Employed\" and \"Self-employed\"\n",
    "period_df = df.loc[(df['emp_status'] =='Employed') | (df['emp_status'] == 'Self-employed'), 'emp_period']\n",
    "# display (period_df)\n",
    "\n",
    "# plot a pie chart clockwise with one decimal places and place the largest category on the top\n",
    "ax = period_df.value_counts().plot.pie(title = 'Employment period for employed & self-employed',\n",
    "                                                autopct = '%1.1f%%', startangle = 180, counterclock=False,\n",
    "                                                label = '', normalize = True)\n",
    "\n",
    "plt.show()"
   ]
  },
  {
   "cell_type": "markdown",
   "metadata": {},
   "source": [
    "### Proportion of Unemployed by Unemployment Period"
   ]
  },
  {
   "cell_type": "code",
   "execution_count": 197,
   "metadata": {},
   "outputs": [
    {
     "data": {
      "image/png": "[encoded data removed]",
      "text/plain": [
       "<Figure size 432x288 with 1 Axes>"
      ]
     },
     "metadata": {},
     "output_type": "display_data"
    }
   ],
   "source": [
    "# select the \"emp_period\" for \"Employed\" and \"Self-employed\"\n",
    "period_df = df.loc[df['emp_status'] == \"Unemployed- Looking for work\", 'unemp_period']\n",
    "# display (period_df)\n",
    "\n",
    "# plot a pie chart clockwise with one decimal places and place the largest category on the top\n",
    "ax = period_df.value_counts().plot.pie(title = 'Unemployment period for Unemployed Looking for Work',\n",
    "                                                autopct = '%1.1f%%', startangle = 180, counterclock=False,\n",
    "                                                label = '', normalize = True)\n",
    "\n",
    "plt.show()"
   ]
  },
  {
   "cell_type": "markdown",
   "metadata": {},
   "source": [
    "> most of the employed respondents get hired before pandemic."
   ]
  },
  {
   "cell_type": "markdown",
   "metadata": {},
   "source": [
    "### The Relationship Between Employment Status and Age"
   ]
  },
  {
   "cell_type": "code",
   "execution_count": 198,
   "metadata": {},
   "outputs": [
    {
     "data": {
      "image/png": "[encoded data removed]",
      "text/plain": [
       "<Figure size 576x216 with 3 Axes>"
      ]
     },
     "metadata": {
      "needs_background": "light"
     },
     "output_type": "display_data"
    }
   ],
   "source": [
    "# cross-tabulation between 'age' and 'emp_status', calculated as a percentage for easier comparison\n",
    "age_df = round(pd.crosstab(df['emp_status'], df['age'], normalize='index') * 100, 1)\n",
    "\n",
    "# select some of 'emp_status' features by their indexes \n",
    "age_df = age_df.iloc[[0, 3, 5], :]\n",
    "\n",
    "\n",
    "# define groupby_subplot function\n",
    "def groupby_subplot(df, age, ax):\n",
    "    '''\n",
    "    This function plots horizontal bar-charts, 2 by 3, for a variable \n",
    "    groupby another variable\n",
    "    \n",
    "    inputs:\n",
    "        df - a data matrix of size (samples, features), crosstab data frame\n",
    "        age - a label array of size (samples,), age series\n",
    "        ax - subplots\n",
    "        \n",
    "'''\n",
    "    # set the axises\n",
    "    order = df.loc[age].sort_index().index\n",
    "    y_axis = df.loc[age].index\n",
    "    x_axis = df.loc[age].values\n",
    "\n",
    "    # plot a bar chart using seaborn, ordered by age\n",
    "    sns.barplot(y = y_axis, x = x_axis,  order = order, \n",
    "                palette = 'magma', edgecolor = 'black', ax = ax).set_title(age)\n",
    "\n",
    "# add subplots which is 1*3 here\n",
    "fig, ax = plt.subplots(1, 3, figsize = (8, 3), sharey = True)\n",
    "\n",
    "# flatten the tuple to avoid going through a loop\n",
    "for ax, age in zip(ax.flatten(), age_df.index):\n",
    "    groupby_subplot(age_df, age, ax = ax)\n",
    "\n",
    "plt.show()"
   ]
  },
  {
   "cell_type": "markdown",
   "metadata": {},
   "source": [
    "> Participants aged between 35 & 44 has the highest contribution among all the main groups in terms of employment status"
   ]
  },
  {
   "cell_type": "markdown",
   "metadata": {},
   "source": [
    "### The Relationship Between Employment Status and Education"
   ]
  },
  {
   "cell_type": "code",
   "execution_count": 199,
   "metadata": {},
   "outputs": [
    {
     "data": {
      "text/plain": [
       "Text(0.5, 1.0, 'Education-employment Heatmap')"
      ]
     },
     "execution_count": 199,
     "metadata": {},
     "output_type": "execute_result"
    },
    {
     "data": {
      "image/png": "[encoded data removed]",
      "text/plain": [
       "<Figure size 576x432 with 1 Axes>"
      ]
     },
     "metadata": {
      "needs_background": "light"
     },
     "output_type": "display_data"
    }
   ],
   "source": [
    "# cross-tabulation between 'education' and 'emp_status', calculated as a percentage for easier comparison\n",
    "edu_df = round(pd.crosstab(df.emp_status, df.education, normalize='index') * 100, 0)\n",
    "\n",
    "# exclude 'other' and some features from 'emp_status' variable\n",
    "crosstab = edu_df.iloc[[0,3,5], :-1]\n",
    "\n",
    "# add subplot\n",
    "fig, ax = plt.subplots(figsize=(8,6)) \n",
    "\n",
    "# plot using seaborn \n",
    "sns.heatmap(crosstab, cmap=\"Reds\", annot=True, cbar=False, fmt='g')\n",
    "ax.set_title(\"Education-employment Heatmap\")"
   ]
  },
  {
   "cell_type": "markdown",
   "metadata": {},
   "source": [
    "> Looks like most of the respondents have Masters or Bachelors degree followed by Doctoral. While the high school/below tends to run their own business."
   ]
  },
  {
   "cell_type": "markdown",
   "metadata": {},
   "source": [
    "### The Most Successful Resources Managed by Employments Status"
   ]
  },
  {
   "cell_type": "code",
   "execution_count": 200,
   "metadata": {
    "tags": []
   },
   "outputs": [
    {
     "data": {
      "image/png": "[encoded data removed]",
      "text/plain": [
       "<Figure size 432x288 with 1 Axes>"
      ]
     },
     "metadata": {
      "needs_background": "light"
     },
     "output_type": "display_data"
    }
   ],
   "source": [
    "# merge to create a new data frame\n",
    "# select the emp_status and resources columns\n",
    "emp_resources = df.iloc[:, [4, 7]]\n",
    "\n",
    "# create an index for \"emp_resources\" to be able to join it with \"resources\" based on their common indexes \"id\"\n",
    "emp_resources.index.names = ['id']\n",
    "\n",
    "# merge emp_status and resources in a data frame\n",
    "res = emp_resources[['emp_status']].join(df_resources)\n",
    "\n",
    "# remove \"other\" values from resources_new\n",
    "res = res.loc[(res[\"resources_new\"] != \"Other\")]\n",
    "\n",
    "# drop emp_status values from the data frame, except the values assigned to emp_list \n",
    "emp_list = [ \"Employed\", \"Unemployed- Looking for work\", \"Self-employed\"]\n",
    "res = res[res['emp_status'].isin(emp_list)]\n",
    "\n",
    "# the percentage is calculated by column, hence \"resources_new\" is compared to \"emp_status\"\n",
    "ax = pd.crosstab(res['emp_status'], res['resources_new']).apply(lambda x: round(x*100/x.sum()), axis=1).plot.barh(\n",
    "    stacked=True, title = 'Resources by Employment Status').legend(loc = (1.04, 0.30))"
   ]
  },
  {
   "cell_type": "markdown",
   "metadata": {},
   "source": [
    "> As the volume of online job postings dropped significantly since the start of the pandemic, we asked which strategies were the most successful in their pursuit of new jobs.\n",
    "\n",
    "> For the Self-employed, it is evident that networking has been and still is the best way to land a new job. Using their contacts to ask for referrals to hiring managers and also they prefer to look at friends or colleagues.\n",
    "\n",
    "> While employed and unemployed particular preference are career websites, friends/colleagues and networking, however, seem they are experimenting with different strategies (they are desperate or trying to keep their jobs instead).\n",
    "\n",
    "> One common theme is that traditional methods such as mail, newspapers, visit campus and job fairs are not popular anymore as the internet is quickly becoming the go-to place for job seekers, and It is simply easier to apply for vacancies online instead of sending mails\n"
   ]
  },
  {
   "cell_type": "markdown",
   "metadata": {},
   "source": [
    "### The Most Successful Network Method Managed by Employments Status"
   ]
  },
  {
   "cell_type": "code",
   "execution_count": 201,
   "metadata": {
    "tags": []
   },
   "outputs": [
    {
     "data": {
      "text/plain": [
       "<matplotlib.legend.Legend at 0x168bd20c730>"
      ]
     },
     "execution_count": 201,
     "metadata": {},
     "output_type": "execute_result"
    },
    {
     "data": {
      "image/png": "[encoded data removed]",
      "text/plain": [
       "<Figure size 432x288 with 1 Axes>"
      ]
     },
     "metadata": {
      "needs_background": "light"
     },
     "output_type": "display_data"
    }
   ],
   "source": [
    "# merge to create a new data frame\n",
    "# select the emp_status and network_methods columns\n",
    "df_network_methods = df.iloc[:, [4,8]]\n",
    "\n",
    "# create an index for \"df_network_methods\" to be able to join it with \"network_methods\" based on their common indexes \"id\"\n",
    "df_network_methods.index.names = ['id']\n",
    "\n",
    "# merge emp_status and network_methods in a data frame\n",
    "method = df_network_methods[['emp_status']].join(network_methods)\n",
    "\n",
    "# remove \"other\" and \"I don't know\" values from network_methods_new\n",
    "method = method.loc[(method[\"network_methods_new\"] != \"Other\") & (method[\"network_methods_new\"] != \"I don't know\")]\n",
    "\n",
    "# # drop emp_status values from the data frame, except the values assigned to emp_list \n",
    "emp_list = [\"Employed\", \"Unemployed- Looking for work\", \"Self-employed\"]\n",
    "method = method[method['emp_status'].isin(emp_list)]\n",
    "\n",
    "# the percentage is calculated by column, hence network_methods_new is compared to emp_status\n",
    "pd.crosstab(method['emp_status'], method['network_methods_new']).apply(lambda x: round(x*100/x.sum()), axis=1).plot.barh(\n",
    "    stacked=True, title = 'Network Method by Employment Status').legend(loc = (1.04, 0.40))"
   ]
  },
  {
   "cell_type": "markdown",
   "metadata": {},
   "source": [
    "> With networking, all groups tend to mix between leveraging friends/colleagues and reaching out to connections in career websites and social media."
   ]
  },
  {
   "cell_type": "markdown",
   "metadata": {},
   "source": [
    "### The Most Impacted Individuals by Covid-19"
   ]
  },
  {
   "cell_type": "code",
   "execution_count": 202,
   "metadata": {
    "tags": []
   },
   "outputs": [
    {
     "data": {
      "text/plain": [
       "<matplotlib.legend.Legend at 0x168c1cfef10>"
      ]
     },
     "execution_count": 202,
     "metadata": {},
     "output_type": "execute_result"
    },
    {
     "data": {
      "image/png": "[encoded data removed]",
      "text/plain": [
       "<Figure size 432x288 with 1 Axes>"
      ]
     },
     "metadata": {
      "needs_background": "light"
     },
     "output_type": "display_data"
    }
   ],
   "source": [
    "# merge to create a new data frame\n",
    "# return emp_status, unemp_period and pandemic_impact columns\n",
    "df_pandemic_impact = df.iloc[:, [4, 5, 6, 9]]\n",
    "\n",
    "# create an index for \"df_pandemic_impact\" to be able to join it with \"pandemic_impact\" based on their common indexes \"id\"\n",
    "df_pandemic_impact.index.names = ['id']\n",
    "\n",
    "# merge emp_status and pandemic_impact in a data frame\n",
    "pandemic = df_pandemic_impact[['emp_status']].join(pandemic_impact)\n",
    "\n",
    "# remove \"other\" values from \"pandemic_impact_new\"\n",
    "pandemic = pandemic.loc[(pandemic[\"pandemic_impact_new\"] != \"Other\")]\n",
    "\n",
    "# drop \"emp_status\" values from the data frame, except the values assigned to \"emp_list\" \n",
    "emp_list = [\"Employed\", \"Unemployed- Looking for work\", \"Self-employed\"]\n",
    "pandemic_emp = pandemic[pandemic['emp_status'].isin(emp_list)]\n",
    "\n",
    "# the percentage is calculated by column, hence \"pandemic_impact_new\" is compared to \"emp_status\"\n",
    "pd.crosstab(pandemic_emp['emp_status'], pandemic_emp['pandemic_impact_new']).apply(lambda x: round(x*100/x.sum()), axis=1).plot.barh(\n",
    "    stacked=True, title = 'Pandemic Impact by Employment Status').legend(loc = (1.04, 0.30))"
   ]
  },
  {
   "cell_type": "markdown",
   "metadata": {},
   "source": [
    "> When asked about how the COVID-19 outbreak impacted each group, the employed were least impacted negatively, while some laid-off employees decided to become self-employed. Moreover, the unemployed either considered a career shift or took a sabbatical/unpaid leave."
   ]
  },
  {
   "cell_type": "markdown",
   "metadata": {},
   "source": [
    "### Job Constraint by Continent"
   ]
  },
  {
   "cell_type": "code",
   "execution_count": 204,
   "metadata": {
    "tags": []
   },
   "outputs": [
    {
     "data": {
      "text/plain": [
       "<matplotlib.legend.Legend at 0x168c1ec4c40>"
      ]
     },
     "execution_count": 204,
     "metadata": {},
     "output_type": "execute_result"
    },
    {
     "data": {
      "image/png": "[encoded data removed]",
      "text/plain": [
       "<Figure size 432x288 with 1 Axes>"
      ]
     },
     "metadata": {
      "needs_background": "light"
     },
     "output_type": "display_data"
    }
   ],
   "source": [
    "# merge country and job_constraints in a data frame\n",
    "# merge the returned job_constraints with the continent column\n",
    "job = pd.DataFrame(location).join(job_constraints)\n",
    "\n",
    "# remove \"other\" values from job_constraints_new\n",
    "job = job.loc[(job[\"job_constraints_new\"] != \"Other\")]\n",
    "\n",
    "# the percentage is calculated by column, hence \"job_constraints_new\" is compared to \"continent\"  \n",
    "pd.crosstab(job['continent'], job['job_constraints_new']).plot.barh(\n",
    "    stacked=True).legend(loc = (1.04, 0.20))"
   ]
  },
  {
   "cell_type": "markdown",
   "metadata": {},
   "source": [
    "> Respondents were asked to indicate constraints they face during their job search as consequences of the crisis. With respect to pandemic constraints, the top 2 reasons were \"Infection risk\" as respondents were reluctant to look for work due to the fear of putting their loved ones at risk, the other reason was \"lockdown\", which imposed substantial limitations on people's movements\n",
    "Another important aspect of constraints was \"unknown duration of the pandemic\" and \"travel restrictions\", which following travel bans, border closures and quarantine measures led to a sense of uncertainty amongst the interviewers."
   ]
  },
  {
   "cell_type": "markdown",
   "metadata": {},
   "source": [
    "### Pandemic Imapact on Women by Gender"
   ]
  },
  {
   "cell_type": "code",
   "execution_count": 205,
   "metadata": {},
   "outputs": [
    {
     "data": {
      "image/png": "[encoded data removed]",
      "text/plain": [
       "<Figure size 432x288 with 1 Axes>"
      ]
     },
     "metadata": {
      "needs_background": "light"
     },
     "output_type": "display_data"
    }
   ],
   "source": [
    "cross_table = pd.crosstab(df['gender'], df['women_affect'], normalize='index') * 100\n",
    "\n",
    "ax = cross_table.plot.barh(stacked=True)\n",
    "\n",
    "# Manually draw legend: reverse order of labels and plot outside axes.\n",
    "handles, labels = ax.get_legend_handles_labels()\n",
    "ax.legend(reversed(handles), reversed(labels), bbox_to_anchor=(1.0, 1.0))\n",
    "\n",
    "# set the labels and title\n",
    "ax.set_xlabel('percentage')\n",
    "ax.set_title('Pandemic Imapact on Women by Gender')\n",
    "\n",
    "plt.show()"
   ]
  },
  {
   "cell_type": "markdown",
   "metadata": {},
   "source": [
    "> More than of the female tends to agree or strongly agree of the impact of Covid-19, while most of the male were undecided."
   ]
  },
  {
   "cell_type": "markdown",
   "metadata": {},
   "source": [
    "## 4.3 Multivariate Analysis"
   ]
  },
  {
   "cell_type": "markdown",
   "metadata": {},
   "source": [
    "### 4.3.1 Employment Period vs Pandemic Impact for Employed & Self Employed"
   ]
  },
  {
   "cell_type": "code",
   "execution_count": 206,
   "metadata": {
    "tags": []
   },
   "outputs": [
    {
     "data": {
      "text/plain": [
       "<matplotlib.legend.Legend at 0x168c1bcad60>"
      ]
     },
     "execution_count": 206,
     "metadata": {},
     "output_type": "execute_result"
    },
    {
     "data": {
      "image/png": "[encoded data removed]",
      "text/plain": [
       "<Figure size 432x288 with 1 Axes>"
      ]
     },
     "metadata": {
      "needs_background": "light"
     },
     "output_type": "display_data"
    }
   ],
   "source": [
    "# merge \"emp_period\" and pandemic_emp in a data frame\n",
    "df_pandemic_impact = df.iloc[:, [4, 5, 6, 9]]\n",
    "pandemic = df_pandemic_impact[['emp_period']].join(pandemic_emp)\n",
    "\n",
    "# drop \"emp_status\" values from the data frame, except the values assigned to \"emp_list\"\n",
    "emp_list = [\"Employed\", \"Self-employed\"]\n",
    "pandemic = pandemic.loc[pandemic['emp_status'].isin(emp_list), ['emp_status', 'emp_period', 'pandemic_impact_new']]\n",
    "\n",
    "# remove \"Other\" and \"Prefer not to say\" from \"pandemic_impact_new\" and \"emp_period\" respectively\n",
    "pandemic = pandemic[(pandemic[\"pandemic_impact_new\"] != \"Other\") & (pandemic[\"emp_period\"] != \"Prefer not to say\")]\n",
    "\n",
    "# the percentage is calculated by column, hence \"emp_period\" is compared to \"emp_status\", then a horizental bar char is plotted\n",
    "pd.crosstab([pandemic[\"emp_status\"], pandemic[\"emp_period\"]], pandemic[\"pandemic_impact_new\"]).apply(\n",
    "    lambda x: round(x*100/x.sum()), axis=1).plot.barh(stacked=True).legend(loc = (1.04, 0.3))"
   ]
  },
  {
   "cell_type": "markdown",
   "metadata": {},
   "source": [
    "> Within the employed group, the ones who landed a job during the pandemic seem to have been forced to change professions, while the majority of the respondents who were already employed prior to the pandemic experienced more stability or mentioned that their employers had been forced to reduce wages too -probably to avoid mass layoffs"
   ]
  },
  {
   "cell_type": "markdown",
   "metadata": {},
   "source": [
    "### 4.3.2 Unemployment Period Vs Pandemic Impact for Unemployed Looking for Work"
   ]
  },
  {
   "cell_type": "code",
   "execution_count": 207,
   "metadata": {
    "tags": []
   },
   "outputs": [
    {
     "data": {
      "text/plain": [
       "<matplotlib.legend.Legend at 0x168c1cca790>"
      ]
     },
     "execution_count": 207,
     "metadata": {},
     "output_type": "execute_result"
    },
    {
     "data": {
      "image/png": "[encoded data removed]",
      "text/plain": [
       "<Figure size 432x288 with 1 Axes>"
      ]
     },
     "metadata": {
      "needs_background": "light"
     },
     "output_type": "display_data"
    }
   ],
   "source": [
    "# merge \"unemp_period\" and pandemic_emp in a data frame\n",
    "pandemic = df_pandemic_impact[['unemp_period']].join(pandemic_emp)\n",
    "\n",
    "# remove \"Other\" and \"Prefer not to say\" from \"pandemic_impact_new\" and \"unemp_period\" respectively\n",
    "# select only \"Unemployed- Looking for work\" from the \"emp_status\"\n",
    "pandemic = pandemic.loc[(pandemic[\"emp_status\"] == \"Unemployed- Looking for work\") & (\n",
    "           pandemic[\"pandemic_impact_new\"] != \"Other\") & (pandemic[\"unemp_period\"] != \"Prefer not to say\"), \n",
    "           ['unemp_period', 'pandemic_impact_new']]\n",
    "\n",
    "# the percentage is calculated by column, hence \"unemp_period\" is compared to \"pandemic_impact_new\", then a horizental bar char is plotted\n",
    "pd.crosstab(pandemic['pandemic_impact_new'], pandemic['unemp_period']).apply(\n",
    "    lambda x: round(x*100/x.sum()), axis=1).plot.barh(stacked=True).legend(loc = (1.04, 0.50))"
   ]
  },
  {
   "cell_type": "markdown",
   "metadata": {},
   "source": [
    "### 4.3.3 Unemployment Period Vs Job Constraints for Unemployed Looking for Work"
   ]
  },
  {
   "cell_type": "code",
   "execution_count": 208,
   "metadata": {
    "tags": []
   },
   "outputs": [
    {
     "data": {
      "text/plain": [
       "<matplotlib.legend.Legend at 0x168bf0b61c0>"
      ]
     },
     "execution_count": 208,
     "metadata": {},
     "output_type": "execute_result"
    },
    {
     "data": {
      "image/png": "[encoded data removed]",
      "text/plain": [
       "<Figure size 432x288 with 1 Axes>"
      ]
     },
     "metadata": {
      "needs_background": "light"
     },
     "output_type": "display_data"
    }
   ],
   "source": [
    "# merge \"unemp_period\" and job_constraints in a data frame\n",
    "df_job_constraints = df.iloc[:, [4, 6, 10]]\n",
    "\n",
    "# create an index for \"df_job_constraints\" to be able to join it with \"job_constraints\" based on their common indexes \"id\"\n",
    "df_job_constraints.index.names = ['id']\n",
    "\n",
    "constraint_1 = df_job_constraints[['unemp_period']].join(job_constraints)\n",
    "# merge \"emp_status\" to the returned data frame above (constraint_1)\n",
    "constraint = df_job_constraints[['emp_status']].join(constraint_1)\n",
    "\n",
    "# select only \"Unemployed- Looking for work\" from the \"emp_status\"\n",
    "constraint = constraint.loc[(constraint[\"emp_status\"] == \"Unemployed- Looking for work\") & (\n",
    "           constraint[\"job_constraints_new\"] != \"Other\") & (constraint[\"unemp_period\"] != \"Prefer not to say\"), \n",
    "           ['unemp_period', 'job_constraints_new']]\n",
    "\n",
    "# the percentage is calculated by column, hence \"unemp_period\" is compared to \"job_constraints_new\", then a horizental bar char is plotted\n",
    "pd.crosstab(constraint['job_constraints_new'], constraint['unemp_period']).apply(\n",
    "    lambda x: round(x*100/x.sum()), axis=1).plot.barh(stacked=True).legend(loc = (1.04, 0.50))"
   ]
  },
  {
   "cell_type": "markdown",
   "metadata": {},
   "source": [
    "## Conclusions and Discussion\n",
    "\n",
    "This study investigated the effect of the COVID-19 pandemic on job opportunities and identified the most effective strategies to land a job successfully.\n",
    "\n",
    "Based on the research questions, it can be concluded that the employed respondents were the least to be impacted negatively due to the Covid-19 outbreak, while some of the laid-off employees decided to become self-employed. On the other hand, the unemployed respondents either considered a career shift or took a sabbatical/unpaid leave due to the Covid-19 crisis, which has had more adverse impacts on the demand for jobs.\n",
    "\n",
    "When asking about strategies, our findings also show for the self-employed, it is evident that networking has been and still is the best way to land a new job by using their contacts to ask for referrals to hiring managers and also, they prefer to look at friends or colleagues. While employed and unemployed preference are career websites, friends/colleagues and networking, however, employed respondents seem to be experimenting with different strategies (they are not desperate or focused on keeping their jobs instead)\n",
    "\n",
    "One common theme to strategies indicate that the internet is now becoming the primary source for job seekers rather than traditional methods such as mail, newspapers, visit campus and job fairs. With networking, all groups tend to mix between levering friends or colleagues and reaching out to connections in career websites and social media. Moreover, Most of the employed respondents highlighted that they were already employed before the pandemic and more than half of the unemployed respondents reported that they lost their jobs and became unemployed before the pandemic. Generally, Africa has the highest percentage in employment around 73% followed by Europe and North America. While Europe shows the highest percentage of slef-employed at 22%\n",
    "\n",
    "The Covid-19 has a significat impact on the population, and the data is still growing. Moreover, this survey was limited to 132 participants and may not represents the whole population. Therefore, future studies on the current topic are recommended to focus on a specific geographical area. In additon to gauge the change in job search trends as a result of expected economy recovery due to the roll out of vaccination."
   ]
  },
  {
   "cell_type": "markdown",
   "metadata": {},
   "source": [
    "## References\n",
    "\n",
    "1. “pycountry-convert · PyPI.” https://pypi.org/project/pycountry-convert/ (accessed Jun. 25, 2021).\n",
    "2. “plot-likert · PyPI.” https://pypi.org/project/plot-likert/ (accessed Jun. 25, 2021).\n",
    "3. “python - Get continent name from country using pycountry - Stack Overflow.” https://stackoverflow.com/questions/55910004/get-continent-name-from-country-using-pycountry (accessed Jun. 24, 2021).\n",
    "4. “python - country convert to continent - Stack Overflow.” https://stackoverflow.com/questions/61300446/country-convert-to-continent (accessed Jun. 22, 2021).\n",
    "5. “Cleaning, Analyzing, and Visualizing Survey Data in Python | by Charlene Chambliss | Towards Data Science.” https://towardsdatascience.com/cleaning-analyzing-and-visualizing-survey-data-in-python-42747a13c713 (accessed Jun. 15, 2021).\n",
    "6. “How To Analyze Survey Data In Python (and Excel). | Towards Data Science.” https://towardsdatascience.com/how-to-analyze-survey-data-in-python-c131764ea02e (accessed Jun. 18, 2021).\n",
    "\n",
    "7. M. Balgova, S. Trenkle, C. Zimpelmann, and N. Pestel, “Job Search during a Pandemic Recession: Survey Evidence from the Netherlands,” 2021. Accessed: Jun. 10, 2021. [Online]. Available: www.iza.org\n",
    "8. L. Hensvik, T. le Barbanchon, and R. Rathelot, “Job search during the COVID-19 crisis,” Journal of Public Economics, vol. 194, p. 104349, Feb. 2021, doi: 10.1016/j.jpubeco.2020.104349."
   ]
  },
  {
   "cell_type": "markdown",
   "metadata": {
    "tags": []
   },
   "source": [
    "## Appendices\n",
    "\n",
    "Columns header rename for easy read and use:\n",
    "\n",
    "* 'Unique Response Number' : \n",
    "* '1. What is your gender?' : ---> 'gender'\n",
    "* '2. What is your age?' : ---> 'age'\n",
    "* '3. What is your country of residence?' : ---> 'country'\n",
    "* '4. What is your highest level of education?' : ---> 'emp_status'\n",
    "* '5. What is your current employment status?' : ---> 'emp_status'\n",
    "* '6. If you are currently employed, when did you land?' : ---> 'emp_period'\n",
    "* '7. If you are currently unemployed, since when?' : ---> 'unemp_period'\n",
    "* '8. What resources do you rely on when looking for a job?' : ---> 'resources'\n",
    "* '9. What are the most effective networking methods to get a job?' : ---> 'network_methods'\n",
    "* '10. How did the pandemic impact your career?' : ---> 'pandemic_impact'\n",
    "* '11. What are the most constraints of getting a job during Covid-19 crisis?' : ---> 'job_constraints'\n",
    "* '12. To what extent do you agree or disagree with the following statements?' : \n",
    "* '12.1.a. Jobseeker behavior has changed dramatically over the past few years.' : ---> 'behavior_change'\n",
    "* '12.2.a. Pandemic has a huge impact on self-employed.' : ---> 'self_emp_impact'\n",
    "* '12.3.a. Women are more affected by the pandemic compared to men.' : ---> 'women_affect'\n",
    "* '12.4.a. I allocate a specific time frame to search for a job ' : ---> 'time_plan'\n",
    "* '12.5.a. I understand that networking is the best route to career opportunities.' : ---> 'networking'\n",
    "* \"12.6.a. It's easier to get a job in my desired field and geographic area than expected.\" : ---> 'EaseOfJob'\n",
    "* 'StartDate' : \n",
    "* 'CompletionDate' : "
   ]
  },
  {
   "cell_type": "markdown",
   "metadata": {},
   "source": [
    "## Word Count"
   ]
  },
  {
   "cell_type": "code",
   "execution_count": 209,
   "metadata": {
    "editable": false,
    "tags": []
   },
   "outputs": [
    {
     "data": {
      "application/javascript": [
       "\n",
       "// Run this cell to update your word count.\n",
       "\n",
       "function wordcount() {\n",
       "    let wordCount = 0\n",
       "    let extraCount = 0\n",
       "    let mainBody = true\n",
       "\n",
       "    let cells = Jupyter.notebook.get_cells()\n",
       "    cells.forEach((cell) => {\n",
       "        if (cell.cell_type == 'markdown') {\n",
       "            let text = cell.get_text()\n",
       "            // Stop counting as main body when get to References or Appendices.\n",
       "            if (text.startsWith('## References') ||\n",
       "                text.startsWith('## Appendices')) {\n",
       "                mainBody = false\n",
       "            }\n",
       "            if (text.startsWith('## Word Count')) {\n",
       "                text = ''\n",
       "            }\n",
       "            if (text) {\n",
       "                let cellCount = text.toLowerCase().match(/\\b[a-z\\d]+\\b/g).length\n",
       "                if (mainBody) {\n",
       "                    wordCount += cellCount\n",
       "                } else {\n",
       "                    extraCount += cellCount\n",
       "                }\n",
       "            }\n",
       "        }\n",
       "    })\n",
       "    return [wordCount, extraCount]\n",
       "}\n",
       "\n",
       "let wc = wordcount()\n",
       "element.append(`Main word count: ${wc[0]} (References and appendices word count: ${wc[1]})`)\n"
      ],
      "text/plain": [
       "<IPython.core.display.Javascript object>"
      ]
     },
     "metadata": {},
     "output_type": "display_data"
    }
   ],
   "source": [
    "%%js\n",
    "\n",
    "// Run this cell to update your word count.\n",
    "\n",
    "function wordcount() {\n",
    "    let wordCount = 0\n",
    "    let extraCount = 0\n",
    "    let mainBody = true\n",
    "\n",
    "    let cells = Jupyter.notebook.get_cells()\n",
    "    cells.forEach((cell) => {\n",
    "        if (cell.cell_type == 'markdown') {\n",
    "            let text = cell.get_text()\n",
    "            // Stop counting as main body when get to References or Appendices.\n",
    "            if (text.startsWith('## References') ||\n",
    "                text.startsWith('## Appendices')) {\n",
    "                mainBody = false\n",
    "            }\n",
    "            if (text.startsWith('## Word Count')) {\n",
    "                text = ''\n",
    "            }\n",
    "            if (text) {\n",
    "                let cellCount = text.toLowerCase().match(/\\b[a-z\\d]+\\b/g).length\n",
    "                if (mainBody) {\n",
    "                    wordCount += cellCount\n",
    "                } else {\n",
    "                    extraCount += cellCount\n",
    "                }\n",
    "            }\n",
    "        }\n",
    "    })\n",
    "    return [wordCount, extraCount]\n",
    "}\n",
    "\n",
    "let wc = wordcount()\n",
    "element.append(`Main word count: ${wc[0]} (References and appendices word count: ${wc[1]})`)"
   ]
  }
 ],
 "metadata": {
  "kernelspec": {
   "display_name": "Python 3 (ipykernel)",
   "language": "python",
   "name": "python3"
  },
  "language_info": {
   "codemirror_mode": {
    "name": "ipython",
    "version": 3
   },
   "file_extension": ".py",
   "mimetype": "text/x-python",
   "name": "python",
   "nbconvert_exporter": "python",
   "pygments_lexer": "ipython3",
   "version": "3.9.12"
  }
 },
 "nbformat": 4,
 "nbformat_minor": 4
}
